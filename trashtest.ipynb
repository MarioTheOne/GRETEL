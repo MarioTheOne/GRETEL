{
 "cells": [
  {
   "cell_type": "code",
   "execution_count": 3,
   "metadata": {},
   "outputs": [],
   "source": [
    "from rdkit import Chem\n",
    "import numpy as np"
   ]
  },
  {
   "cell_type": "code",
   "execution_count": 10,
   "metadata": {},
   "outputs": [],
   "source": [
    "\n",
    "def rdk_node_features_map():\n",
    "    base_map = {\"Idx\":0,\"AtomicNum\":1,\"FormalCharge\":2,\"NumExplicitHs\":3,\"IsAromatic\":4}\n",
    "    base_map = {**base_map,**rdk_enum_type_to_map(Chem.ChiralType,len(base_map))}\n",
    "    return {**base_map,**rdk_enum_type_to_map(Chem.HybridizationType,len(base_map))}\n",
    "\n",
    "def rdk_edge_features_map():\n",
    "    base_map = {\"Weight\":0,\"Conjugated\":1}\n",
    "    base_map = {**base_map,**rdk_enum_type_to_map(Chem.BondType,len(base_map))}\n",
    "    base_map = {**base_map,**rdk_enum_type_to_map(Chem.BondDir,len(base_map))}\n",
    "    return {**base_map,**rdk_enum_type_to_map(Chem.BondStereo,len(base_map))}\n",
    "\n",
    "def rdk_enum_type_to_map(enum_type,offset=0):\n",
    "    enum_map={}\n",
    "    for val in enum_type.names:\n",
    "        enum_map[enum_type.names[val].name]=enum_type.names[val].real+offset\n",
    "    return enum_map\n",
    "\n",
    "def rdk_enum_val_to_one_hot(enum_type):\n",
    "    one_hot_vec = np.zeros((1,len(enum_type.values)))\n",
    "    one_hot_vec[0,enum_type.real]=1\n",
    "    return one_hot_vec\n"
   ]
  },
  {
   "cell_type": "code",
   "execution_count": 20,
   "metadata": {},
   "outputs": [
    {
     "name": "stdout",
     "output_type": "stream",
     "text": [
      "<rdkit.Chem.rdchem.Bond object at 0x7ff768654200>\n",
      "<rdkit.Chem.rdchem.Bond object at 0x7ff768654190>\n",
      "<rdkit.Chem.rdchem.Bond object at 0x7ff7686540b0>\n",
      "<rdkit.Chem.rdchem.Bond object at 0x7ff768654120>\n",
      "<rdkit.Chem.rdchem.Bond object at 0x7ff7686542e0>\n",
      "<rdkit.Chem.rdchem.Bond object at 0x7ff768654350>\n",
      "<rdkit.Chem.rdchem.Bond object at 0x7ff768654e40>\n"
     ]
    }
   ],
   "source": [
    "mol = Chem.MolFromSmiles('Cc1ccccc1')\n",
    "\n",
    "n_map= rdk_node_features_map()\n",
    "e_map = rdk_edge_features_map()\n",
    "atms = mol.GetAtoms()\n",
    "bnds = mol.GetBonds()\n",
    "n = len(atms)\n",
    "A = np.zeros((n,n))\n",
    "X = np.zeros((n,len(n_map)))\n",
    "W = np.zeros((2*len(bnds),len(e_map)))\n",
    "\n",
    "for atom in atms:\n",
    "    i = atom.GetIdx()\n",
    "    X[i,n_map['Idx']]=i\n",
    "    X[i,n_map['AtomicNum']]=atom.GetAtomicNum()\n",
    "    X[i,n_map['FormalCharge']]=atom.GetFormalCharge()\n",
    "    X[i,n_map['NumExplicitHs']]=atom.GetNumExplicitHs()\n",
    "    X[i,n_map['IsAromatic']]=int(atom.GetIsAromatic() == True)\n",
    "    X[i,n_map[atom.GetChiralTag().name]]=1 #atom.GetChiralTag().real\n",
    "    X[i,n_map[atom.GetHybridization().name]]= 1 #atom.GetHybridization().real\n",
    "\n",
    "#  base_map = {\"Weight\":0,\"Conjugated\":1}\n",
    "p=0\n",
    "_p=n\n",
    "for bond in bnds:\n",
    "    print(bond)\n",
    "    A[bond.GetBeginAtomIdx(),bond.GetEndAtomIdx()]=1\n",
    "    A[bond.GetEndAtomIdx(),bond.GetBeginAtomIdx()]=1\n",
    "    '''p = n*bond.GetBeginAtomIdx()+bond.GetEndAtomIdx()+1\n",
    "    _p = n*bond.GetEndAtomIdx()+bond.GetBeginAtomIdx()+1\n",
    "    print(bond.GetBeginAtomIdx(),bond.GetEndAtomIdx(),p,_p)'''\n",
    "    W[p,e_map['Weight']]=1\n",
    "    W[_p,e_map['Weight']]=1\n",
    "\n",
    "    W[p,e_map['Conjugated']]=int(bond.GetIsConjugated() == True)\n",
    "    W[_p,e_map['Conjugated']]=int(bond.GetIsConjugated() == True)\n",
    "\n",
    "    W[p,e_map[bond.GetBondType().name]]= 1 #bond.GetBondType().real\n",
    "    W[_p,e_map[bond.GetBondType().name]]= 1 #bond.GetBondType().real\n",
    "\n",
    "    W[p,e_map[bond.GetBondDir().name]]= 1 \n",
    "    W[_p,e_map[bond.GetBondDir().name]]= 1\n",
    "\n",
    "    W[p,e_map[bond.GetStereo().name]]= 1 \n",
    "    W[_p,e_map[bond.GetStereo().name]]= 1\n",
    "    p+=1\n",
    "    _p+=1"
   ]
  },
  {
   "cell_type": "code",
   "execution_count": 4,
   "metadata": {},
   "outputs": [
    {
     "data": {
      "text/plain": [
       "torch.Size([100, 128, 5, 5, 5])"
      ]
     },
     "execution_count": 4,
     "metadata": {},
     "output_type": "execute_result"
    }
   ],
   "source": [
    "import torch \n",
    "import numpy as np\n",
    "\n",
    "X = torch.rand((10,64,5,5,5))\n",
    "\n",
    "l = np.ones(len(X.shape), dtype=int)\n",
    "l[0] = X.shape[0]\n",
    "\n",
    "R = torch.repeat_interleave(X, X.shape[0], dim=0)\n",
    "L = X.repeat(tuple(l))\n",
    "m2 = torch.cat((L,R),dim=1)\n",
    "m2.shape\n"
   ]
  }
 ],
 "metadata": {
  "kernelspec": {
   "display_name": "XAI39",
   "language": "python",
   "name": "python3"
  },
  "language_info": {
   "codemirror_mode": {
    "name": "ipython",
    "version": 3
   },
   "file_extension": ".py",
   "mimetype": "text/x-python",
   "name": "python",
   "nbconvert_exporter": "python",
   "pygments_lexer": "ipython3",
   "version": "3.9.18"
  },
  "orig_nbformat": 4
 },
 "nbformat": 4,
 "nbformat_minor": 2
}
