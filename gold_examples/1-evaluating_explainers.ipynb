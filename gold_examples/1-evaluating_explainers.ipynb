{
 "cells": [
  {
   "cell_type": "markdown",
   "metadata": {},
   "source": [
    "# Using GRETEL\n",
    "### Evaluating a counterfactual explanation method on ASD dataset"
   ]
  },
  {
   "cell_type": "markdown",
   "metadata": {},
   "source": [
    "### Setting the config file path"
   ]
  },
  {
   "cell_type": "code",
   "execution_count": 1,
   "metadata": {},
   "outputs": [
    {
     "data": {
      "text/plain": [
       "'c:\\\\Projects\\\\GRETEL\\\\silver\\\\GRETEL\\\\gold_examples'"
      ]
     },
     "execution_count": 1,
     "metadata": {},
     "output_type": "execute_result"
    }
   ],
   "source": [
    "import sys\n",
    "import os\n",
    "examples_path = os.path.abspath(os.path.join('.'))\n",
    "gretel_path = os.path.abspath(os.path.join('..'))\n",
    "sys.path.append(examples_path)\n",
    "sys.path.append(gretel_path)\n",
    "examples_path"
   ]
  },
  {
   "cell_type": "code",
   "execution_count": 2,
   "metadata": {},
   "outputs": [
    {
     "name": "stdout",
     "output_type": "stream",
     "text": [
      ".\n"
     ]
    }
   ],
   "source": [
    "print(os.path.curdir)"
   ]
  },
  {
   "cell_type": "code",
   "execution_count": 3,
   "metadata": {},
   "outputs": [
    {
     "data": {
      "text/plain": [
       "(True, False, True, True)"
      ]
     },
     "execution_count": 3,
     "metadata": {},
     "output_type": "execute_result"
    }
   ],
   "source": [
    "from src.evaluation.evaluator_manager import EvaluatorManager\n",
    "from src.evaluation.evaluator_manager_do import EvaluatorManager as PairedEvaluatorManager\n",
    "from src.utils.context import Context\n",
    "\n",
    "config_file_path = './config/BBBP_GCN_DCE.json'\n",
    "output_file_path = './output/asd_custom_oracle/DCESearchExplainer/results_run-0.json'\n",
    "output_folder = './output/'\n",
    "stats_folder = './stats/'\n",
    "\n",
    "# Verifying that the paths are valid\n",
    "(os.path.isfile(config_file_path), os.path.isfile(output_file_path), os.path.isdir(output_folder), os.path.isdir(stats_folder))"
   ]
  },
  {
   "cell_type": "markdown",
   "metadata": {},
   "source": [
    "### Creating the Evaluator Manager"
   ]
  },
  {
   "cell_type": "code",
   "execution_count": 4,
   "metadata": {},
   "outputs": [
    {
     "ename": "KeyError",
     "evalue": "'datasets'",
     "output_type": "error",
     "traceback": [
      "\u001b[1;31m---------------------------------------------------------------------------\u001b[0m",
      "\u001b[1;31mKeyError\u001b[0m                                  Traceback (most recent call last)",
      "\u001b[1;32mc:\\Projects\\GRETEL\\silver\\GRETEL\\gold_examples\\1-evaluating_explainers.ipynb Cell 7\u001b[0m line \u001b[0;36m4\n\u001b[0;32m      <a href='vscode-notebook-cell:/c%3A/Projects/GRETEL/silver/GRETEL/gold_examples/1-evaluating_explainers.ipynb#W6sZmlsZQ%3D%3D?line=0'>1</a>\u001b[0m context \u001b[39m=\u001b[39m Context\u001b[39m.\u001b[39mget_context(config_file_path) \u001b[39m# The run number is a way to differentiate many runs of the same configurations\u001b[39;00m\n\u001b[0;32m      <a href='vscode-notebook-cell:/c%3A/Projects/GRETEL/silver/GRETEL/gold_examples/1-evaluating_explainers.ipynb#W6sZmlsZQ%3D%3D?line=1'>2</a>\u001b[0m context\u001b[39m.\u001b[39mrun_number \u001b[39m=\u001b[39m \u001b[39m0\u001b[39m\n\u001b[1;32m----> <a href='vscode-notebook-cell:/c%3A/Projects/GRETEL/silver/GRETEL/gold_examples/1-evaluating_explainers.ipynb#W6sZmlsZQ%3D%3D?line=3'>4</a>\u001b[0m eval_manager \u001b[39m=\u001b[39m EvaluatorManager(context)\n",
      "File \u001b[1;32mc:\\Projects\\GRETEL\\silver\\GRETEL\\src\\evaluation\\evaluator_manager.py:26\u001b[0m, in \u001b[0;36mEvaluatorManager.__init__\u001b[1;34m(self, context)\u001b[0m\n\u001b[0;32m     23\u001b[0m \u001b[39mself\u001b[39m\u001b[39m.\u001b[39mcontext\u001b[39m.\u001b[39mfactories[\u001b[39m'\u001b[39m\u001b[39mexplainers\u001b[39m\u001b[39m'\u001b[39m] \u001b[39m=\u001b[39m ExplainerFactory(context)\n\u001b[0;32m     24\u001b[0m \u001b[39mself\u001b[39m\u001b[39m.\u001b[39mcontext\u001b[39m.\u001b[39mfactories[\u001b[39m'\u001b[39m\u001b[39mmetrics\u001b[39m\u001b[39m'\u001b[39m] \u001b[39m=\u001b[39m EvaluationMetricFactory(context\u001b[39m.\u001b[39mconf)\n\u001b[1;32m---> 26\u001b[0m \u001b[39mself\u001b[39;49m\u001b[39m.\u001b[39;49m_create_evaluators()\n",
      "File \u001b[1;32mc:\\Projects\\GRETEL\\silver\\GRETEL\\src\\evaluation\\evaluator_manager.py:34\u001b[0m, in \u001b[0;36mEvaluatorManager._create_evaluators\u001b[1;34m(self)\u001b[0m\n\u001b[0;32m     32\u001b[0m \u001b[39mdef\u001b[39;00m \u001b[39m_create_evaluators\u001b[39m(\u001b[39mself\u001b[39m):\n\u001b[0;32m     33\u001b[0m     \u001b[39m# Get the lists of main componets from the main configuration file.\u001b[39;00m\n\u001b[1;32m---> 34\u001b[0m     datasets_list \u001b[39m=\u001b[39m \u001b[39mself\u001b[39;49m\u001b[39m.\u001b[39;49mcontext\u001b[39m.\u001b[39;49mconf[\u001b[39m'\u001b[39;49m\u001b[39mdatasets\u001b[39;49m\u001b[39m'\u001b[39;49m]\n\u001b[0;32m     35\u001b[0m     oracles_list \u001b[39m=\u001b[39m \u001b[39mself\u001b[39m\u001b[39m.\u001b[39mcontext\u001b[39m.\u001b[39mconf[\u001b[39m'\u001b[39m\u001b[39moracles\u001b[39m\u001b[39m'\u001b[39m]\n\u001b[0;32m     36\u001b[0m     metrics_list \u001b[39m=\u001b[39m \u001b[39mself\u001b[39m\u001b[39m.\u001b[39mcontext\u001b[39m.\u001b[39mconf[\u001b[39m'\u001b[39m\u001b[39mevaluation_metrics\u001b[39m\u001b[39m'\u001b[39m]\n",
      "\u001b[1;31mKeyError\u001b[0m: 'datasets'"
     ]
    }
   ],
   "source": [
    "context = Context.get_context(config_file_path) # The run number is a way to differentiate many runs of the same configurations\n",
    "context.run_number = 0\n",
    "\n",
    "eval_manager = PairedEvaluatorManager(context)"
   ]
  },
  {
   "cell_type": "markdown",
   "metadata": {},
   "source": [
    "### Creating the Evaluators"
   ]
  },
  {
   "cell_type": "code",
   "execution_count": 12,
   "metadata": {},
   "outputs": [],
   "source": [
    "eval_manager.create_evaluators()"
   ]
  },
  {
   "cell_type": "markdown",
   "metadata": {},
   "source": [
    "### Evaluating the DCE Explainer on ASD dataset"
   ]
  },
  {
   "cell_type": "code",
   "execution_count": 13,
   "metadata": {},
   "outputs": [],
   "source": [
    "eval_manager.evaluate()"
   ]
  },
  {
   "cell_type": "markdown",
   "metadata": {},
   "source": [
    "After executing the previous steps, inside output/asd_custom_oracle/DCESearchExplainer/ should be located a file called results_run-0.json with the results"
   ]
  },
  {
   "cell_type": "code",
   "execution_count": 14,
   "metadata": {},
   "outputs": [
    {
     "data": {
      "text/plain": [
       "'{\"config\": {\"dataset\": {\"name\": \"autism\", \"parameters\": {}}, \"oracle\": {\"name\": \"asd_custom_oracle\", \"parameters\": {}}, \"explainer\": {\"name\": \"dce_search\", \"parameters\": {\"graph_distance\": {\"name\": \"graph_edit_distance\", \"parameters\": {}}}}, \"metrics\": [{\"name\": \"graph_edit_distance\", \"parameters\": {}}, {\"name\": \"oracle_calls\", \"parameters\": {}}, {\"name\": \"correctness\", \"parameters\": {}}, {\"name\": \"sparsity\", \"parameters\": {}}, {\"name\": \"fidelity\", \"parameters\": {}}, {\"name\": \"oracle_accuracy\", \"parameters\": {}}]}, \"runtime\": [0.15270280838012695, 0.07870054244995117, 0.06836628913879395, 0.07681417465209961, 0.06718945503234863, 0.06899833679199219, 0.07725858688354492, 0.06825637817382812, 0.08248353004455566, 0.07794642448425293, 0.07107114791870117, 0.09234786033630371, 0.0753941535949707, 0.08874630928039551, 0.0639047622680664, 0.07256937026977539, 0.07385587692260742, 0.07977581024169922, 0.07713437080383301, 0.07709288597106934, 0.0801243782043457, 0.08131170272827148, 0.07139205932617188, 0.0836179256439209, 0.07202315330505371, 0.07338452339172363, 0.08321952819824219, 0.09147047996520996, 0.06636404991149902, 0.067718505859375, 0.08049917221069336, 0.07970643043518066, 0.06554222106933594, 0.06716442108154297, 0.06391334533691406, 0.07129287719726562, 0.06930708885192871, 0.0609583854675293, 0.06675839424133301, 0.08086204528808594, 0.06729412078857422, 0.09343671798706055, 0.08195018768310547, 0.08284568786621094, 0.07843780517578125, 0.0847477912902832, 0.06687498092651367, 0.07078933715820312, 0.06967902183532715, 0.06589818000793457, 0.07660388946533203, 0.07628726959228516, 0.08351016044616699, 0.06836915016174316, 0.06342458724975586, 0.06833148002624512, 0.06882071495056152, 0.08401298522949219, 0.0797262191772461, 0.06148529052734375, 0.07434272766113281, 0.0749056339263916, 0.06513619422912598, 0.06398773193359375, 0.06989645957946777, 0.06618595123291016, 0.06391215324401855, 0.08077239990234375, 0.07707715034484863, 0.08206534385681152, 0.07436847686767578, 0.07459473609924316, 0.07861685752868652, 0.07972288131713867, 0.060196876525878906, 0.06294941902160645, 0.09934020042419434, 0.06903409957885742, 0.06762099266052246, 0.06729006767272949, 0.07332062721252441, 0.07239747047424316, 0.06802988052368164, 0.0617220401763916, 0.07707691192626953, 0.0867462158203125, 0.060381174087524414, 0.06549930572509766, 0.07177305221557617, 0.08263850212097168, 0.06718087196350098, 0.07860970497131348, 0.07285928726196289, 0.07489442825317383, 0.07752156257629395, 0.08424496650695801, 0.06276202201843262, 0.07283258438110352, 0.08007049560546875, 0.09846186637878418, 0.0801703929901123], \"Graph_Edit_Distance\": [993.0, 1019.0, 980.0, 968.0, 1012.0, 963.0, 980.0, 998.0, 993.0, 994.0, 968.0, 972.0, 1037.0, 1020.0, 1041.0, 1022.0, 998.0, 1008.0, 1010.0, 1033.0, 1003.0, 989.0, 997.0, 1050.0, 1015.0, 1013.0, 1003.0, 1017.0, 1045.0, 1050.0, 1035.0, 1057.0, 1022.0, 1004.0, 968.0, 996.0, 958.0, 998.0, 1026.0, 1058.0, 985.0, 968.0, 1004.0, 1008.0, 1011.0, 1027.0, 1070.0, 1007.0, 979.0, 968.0, 1003.0, 1012.0, 1033.0, 1019.0, 963.0, 1016.0, 1022.0, 1036.0, 1008.0, 1035.0, 1034.0, 1020.0, 997.0, 1020.0, 1018.0, 1007.0, 1003.0, 1017.0, 1043.0, 987.0, 1034.0, 1001.0, 1007.0, 1029.0, 1011.0, 1016.0, 1001.0, 1030.0, 1035.0, 1044.0, 1042.0, 994.0, 1005.0, 1090.0, 1001.0, 958.0, 1019.0, 1023.0, 1048.0, 1055.0, 1043.0, 1017.0, 1003.0, 1040.0, 985.0, 1026.0, 972.0, 1036.0, 998.0, 996.0, 989.0], \"Oracle_Calls\": [102, 102, 102, 102, 102, 102, 102, 102, 102, 102, 102, 102, 102, 102, 102, 102, 102, 102, 102, 102, 102, 102, 102, 102, 102, 102, 102, 102, 102, 102, 102, 102, 102, 102, 102, 102, 102, 102, 102, 102, 102, 102, 102, 102, 102, 102, 102, 102, 102, 102, 102, 102, 102, 102, 102, 102, 102, 102, 102, 102, 102, 102, 102, 102, 102, 102, 102, 102, 102, 102, 102, 102, 102, 102, 102, 102, 102, 102, 102, 102, 102, 102, 102, 102, 102, 102, 102, 102, 102, 102, 102, 102, 102, 102, 102, 102, 102, 102, 102, 102, 102], \"Correctness\": [1, 1, 1, 1, 1, 1, 1, 1, 1, 1, 1, 1, 1, 1, 1, 1, 1, 1, 1, 1, 1, 1, 1, 1, 1, 1, 1, 1, 1, 1, 1, 1, 1, 1, 1, 1, 1, 1, 1, 1, 1, 1, 1, 1, 1, 1, 1, 1, 1, 1, 1, 1, 1, 1, 1, 1, 1, 1, 1, 1, 1, 1, 1, 1, 1, 1, 1, 1, 1, 1, 1, 1, 1, 1, 1, 1, 1, 1, 1, 1, 1, 1, 1, 1, 1, 1, 1, 1, 1, 1, 1, 1, 1, 1, 1, 1, 1, 1, 1, 1, 1], \"Sparsity\": [1.3031496062992125, 1.3268229166666667, 1.2694300518134716, 1.2522639068564037, 1.3024453024453024, 1.2314578005115089, 1.2596401028277635, 1.2977893368010402, 1.306578947368421, 1.2892347600518808, 1.2522639068564037, 1.2857142857142858, 1.3415265200517466, 1.3076923076923077, 1.343225806451613, 1.3572377158034528, 1.2961038961038962, 1.290653008962868, 1.3116883116883118, 1.3520942408376964, 1.3162729658792651, 1.2728442728442728, 1.2881136950904393, 1.3601036269430051, 1.3096774193548386, 1.2953964194373402, 1.3025974025974025, 1.317357512953368, 1.3501291989664084, 1.3513513513513513, 1.332046332046332, 1.3638709677419354, 1.3153153153153154, 1.2904884318766068, 1.2620599739243807, 1.2901554404145077, 1.255570117955439, 1.2778489116517286, 1.3204633204633205, 1.3651612903225807, 1.2808842652795838, 1.2753623188405796, 1.3107049608355092, 1.3193717277486912, 1.3198433420365536, 1.3217503217503217, 1.3665389527458494, 1.297680412371134, 1.2681347150259068, 1.2720105124835743, 1.2826086956521738, 1.295774647887324, 1.3277634961439588, 1.3114543114543114, 1.2621231979030145, 1.3075933075933075, 1.3035714285714286, 1.3248081841432224, 1.3176470588235294, 1.335483870967742, 1.3376455368693403, 1.3195342820181113, 1.281491002570694, 1.3385826771653544, 1.3342070773263435, 1.3077922077922077, 1.3232189973614776, 1.3294117647058823, 1.337179487179487, 1.2768434670116429, 1.3428571428571427, 1.311926605504587, 1.2993548387096774, 1.3277419354838709, 1.3011583011583012, 1.3333333333333333, 1.3084967320261438, 1.3154533844189016, 1.3372093023255813, 1.3367477592829706, 1.339331619537275, 1.2993464052287582, 1.3018134715025906, 1.4046391752577319, 1.3136482939632546, 1.2457737321196358, 1.337270341207349, 1.3285714285714285, 1.352258064516129, 1.3525641025641026, 1.3406169665809768, 1.30719794344473, 1.3059895833333333, 1.3282247765006385, 1.309840425531915, 1.3482260183968462, 1.2755905511811023, 1.336774193548387, 1.2977893368010402, 1.2918287937743191, 1.2894393741851369], \"Fidelity\": [1, 1, -1, 1, 1, 1, 1, 1, 1, 1, 1, 1, 1, 1, -1, 1, 1, 1, 1, 1, 1, 1, 1, 1, 1, 1, 1, -1, -1, 1, 1, 1, -1, 1, -1, 1, 1, -1, -1, 1, 1, 1, -1, 1, -1, 1, -1, -1, 1, -1, -1, 1, -1, 1, 1, -1, 1, 1, -1, 1, 1, 1, 1, 1, 1, -1, 1, 1, -1, -1, 1, 1, 1, 1, 1, 1, 1, 1, 1, 1, 1, -1, 1, 1, 1, 1, 1, 1, 1, 1, 1, 1, 1, -1, 1, 1, 1, 1, 1, 1, -1], \"Oracle_Accuracy\": [1, 1, 0, 1, 1, 1, 1, 1, 1, 1, 1, 1, 1, 1, 0, 1, 1, 1, 1, 1, 1, 1, 1, 1, 1, 1, 1, 0, 0, 1, 1, 1, 0, 1, 0, 1, 1, 0, 0, 1, 1, 1, 0, 1, 0, 1, 0, 0, 1, 0, 0, 1, 0, 1, 1, 0, 1, 1, 0, 1, 1, 1, 1, 1, 1, 0, 1, 1, 0, 0, 1, 1, 1, 1, 1, 1, 1, 1, 1, 1, 1, 0, 1, 1, 1, 1, 1, 1, 1, 1, 1, 1, 1, 0, 1, 1, 1, 1, 1, 1, 0]}'"
      ]
     },
     "execution_count": 14,
     "metadata": {},
     "output_type": "execute_result"
    }
   ],
   "source": [
    "with open(output_file_path, 'r') as rs_json_reader:\n",
    "                results = rs_json_reader.read()\n",
    "\n",
    "results"
   ]
  },
  {
   "cell_type": "markdown",
   "metadata": {},
   "source": [
    " Generating tables with the aggregated results"
   ]
  },
  {
   "cell_type": "code",
   "execution_count": 15,
   "metadata": {},
   "outputs": [],
   "source": [
    "from src.data_analysis.data_analyzer import DataAnalyzer\n",
    "\n",
    "dtan = DataAnalyzer(output_folder, stats_folder)\n",
    "dtan.aggregate_data()\n",
    "dtan.aggregate_runs()\n",
    "dtan.create_tables_by_oracle_dataset()"
   ]
  },
  {
   "cell_type": "code",
   "execution_count": 16,
   "metadata": {},
   "outputs": [
    {
     "data": {
      "text/html": [
       "<div>\n",
       "<style scoped>\n",
       "    .dataframe tbody tr th:only-of-type {\n",
       "        vertical-align: middle;\n",
       "    }\n",
       "\n",
       "    .dataframe tbody tr th {\n",
       "        vertical-align: top;\n",
       "    }\n",
       "\n",
       "    .dataframe thead th {\n",
       "        text-align: right;\n",
       "    }\n",
       "</style>\n",
       "<table border=\"1\" class=\"dataframe\">\n",
       "  <thead>\n",
       "    <tr style=\"text-align: right;\">\n",
       "      <th></th>\n",
       "      <th>Unnamed: 0</th>\n",
       "      <th>explainer</th>\n",
       "      <th>runtime</th>\n",
       "      <th>runtime-std</th>\n",
       "      <th>Graph_Edit_Distance</th>\n",
       "      <th>Graph_Edit_Distance-std</th>\n",
       "      <th>Oracle_Calls</th>\n",
       "      <th>Oracle_Calls-std</th>\n",
       "      <th>Correctness</th>\n",
       "      <th>Correctness-std</th>\n",
       "      <th>Sparsity</th>\n",
       "      <th>Sparsity-std</th>\n",
       "      <th>Fidelity</th>\n",
       "      <th>Fidelity-std</th>\n",
       "      <th>Oracle_Accuracy</th>\n",
       "      <th>Oracle_Accuracy-std</th>\n",
       "    </tr>\n",
       "  </thead>\n",
       "  <tbody>\n",
       "    <tr>\n",
       "      <th>0</th>\n",
       "      <td>0</td>\n",
       "      <td>dce_search</td>\n",
       "      <td>0.075059</td>\n",
       "      <td>0.0</td>\n",
       "      <td>1011.693069</td>\n",
       "      <td>0.0</td>\n",
       "      <td>102.000000</td>\n",
       "      <td>0.0</td>\n",
       "      <td>1.0</td>\n",
       "      <td>0.0</td>\n",
       "      <td>1.311108</td>\n",
       "      <td>0.0</td>\n",
       "      <td>0.544554</td>\n",
       "      <td>0.0</td>\n",
       "      <td>0.772277</td>\n",
       "      <td>0.0</td>\n",
       "    </tr>\n",
       "    <tr>\n",
       "      <th>1</th>\n",
       "      <td>1</td>\n",
       "      <td>dummy_explainer</td>\n",
       "      <td>0.001598</td>\n",
       "      <td>0.0</td>\n",
       "      <td>1068.237624</td>\n",
       "      <td>0.0</td>\n",
       "      <td>2.930693</td>\n",
       "      <td>0.0</td>\n",
       "      <td>1.0</td>\n",
       "      <td>0.0</td>\n",
       "      <td>1.384470</td>\n",
       "      <td>0.0</td>\n",
       "      <td>0.544554</td>\n",
       "      <td>0.0</td>\n",
       "      <td>0.772277</td>\n",
       "      <td>0.0</td>\n",
       "    </tr>\n",
       "  </tbody>\n",
       "</table>\n",
       "</div>"
      ],
      "text/plain": [
       "   Unnamed: 0        explainer   runtime  runtime-std  Graph_Edit_Distance  \\\n",
       "0           0       dce_search  0.075059          0.0          1011.693069   \n",
       "1           1  dummy_explainer  0.001598          0.0          1068.237624   \n",
       "\n",
       "   Graph_Edit_Distance-std  Oracle_Calls  Oracle_Calls-std  Correctness  \\\n",
       "0                      0.0    102.000000               0.0          1.0   \n",
       "1                      0.0      2.930693               0.0          1.0   \n",
       "\n",
       "   Correctness-std  Sparsity  Sparsity-std  Fidelity  Fidelity-std  \\\n",
       "0              0.0  1.311108           0.0  0.544554           0.0   \n",
       "1              0.0  1.384470           0.0  0.544554           0.0   \n",
       "\n",
       "   Oracle_Accuracy  Oracle_Accuracy-std  \n",
       "0         0.772277                  0.0  \n",
       "1         0.772277                  0.0  "
      ]
     },
     "execution_count": 16,
     "metadata": {},
     "output_type": "execute_result"
    }
   ],
   "source": [
    "import pandas as pd\n",
    "results_table = pd.read_csv(stats_folder + 'autism-asd_custom_oracle.csv')\n",
    "results_table"
   ]
  }
 ],
 "metadata": {
  "kernelspec": {
   "display_name": "Python 3",
   "language": "python",
   "name": "python3"
  },
  "language_info": {
   "codemirror_mode": {
    "name": "ipython",
    "version": 3
   },
   "file_extension": ".py",
   "mimetype": "text/x-python",
   "name": "python",
   "nbconvert_exporter": "python",
   "pygments_lexer": "ipython3",
   "version": "3.9.18"
  },
  "orig_nbformat": 4,
  "vscode": {
   "interpreter": {
    "hash": "916dbcbb3f70747c44a77c7bcd40155683ae19c65e1c03b4aa3499c5328201f1"
   }
  }
 },
 "nbformat": 4,
 "nbformat_minor": 2
}
