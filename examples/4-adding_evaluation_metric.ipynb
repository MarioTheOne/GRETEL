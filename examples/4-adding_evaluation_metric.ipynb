{
 "cells": [
  {
   "cell_type": "markdown",
   "metadata": {},
   "source": [
    "# Adding a new Evaluation Metric to GRETEL"
   ]
  },
  {
   "cell_type": "code",
   "execution_count": 8,
   "metadata": {},
   "outputs": [],
   "source": [
    "import sys\n",
    "import os\n",
    "module_path = os.path.abspath(os.path.join('..'))\n",
    "sys.path.append(module_path)"
   ]
  },
  {
   "cell_type": "code",
   "execution_count": 9,
   "metadata": {},
   "outputs": [],
   "source": [
    "from src.evaluation.evaluator_manager import EvaluatorManager\n",
    "\n",
    "config_file_path = module_path + '/examples/config/config_autism_custom-oracle_dce_validity.json'\n",
    "output_file_path = module_path + '/examples/output_new_metric/asd_custom_oracle/DCESearchExplainer/results_run-0.json'\n",
    "output_folder = module_path + '/examples/output_new_metric/'\n",
    "stats_folder = module_path + '/examples/stats_new_metric/'"
   ]
  },
  {
   "cell_type": "markdown",
   "metadata": {},
   "source": [
    "## Creating a new Evaluation Metric"
   ]
  },
  {
   "cell_type": "code",
   "execution_count": 10,
   "metadata": {},
   "outputs": [],
   "source": [
    "from src.evaluation.evaluation_metric_base import EvaluationMetric\n",
    "from src.dataset.data_instance_base import DataInstance\n",
    "from src.oracle.oracle_base import Oracle\n",
    "\n",
    "\n",
    "class ValidityMetric(EvaluationMetric):\n",
    "    \"\"\"Verifies that the class from the counterfactual example \n",
    "    is different from that of the original instance\n",
    "    \"\"\"\n",
    "\n",
    "    def __init__(self, config_dict=None) -> None:\n",
    "        super().__init__(config_dict)\n",
    "        self._name = 'Validity'\n",
    "\n",
    "    def evaluate(self, instance_1: DataInstance, instance_2: DataInstance, oracle: Oracle):\n",
    "\n",
    "        label_instance_1 = oracle.predict(instance_1)\n",
    "        label_instance_2 = oracle.predict(instance_2)\n",
    "        oracle._call_counter -= 2\n",
    "\n",
    "        result = 1 if (label_instance_1 != label_instance_2) else 0\n",
    "        \n",
    "        return result"
   ]
  },
  {
   "attachments": {},
   "cell_type": "markdown",
   "metadata": {},
   "source": [
    "## Creating a custom Evaluation Metric Factory"
   ]
  },
  {
   "cell_type": "code",
   "execution_count": 11,
   "metadata": {},
   "outputs": [],
   "source": [
    "from src.evaluation.evaluation_metric_factory import EvaluationMetricFactory\n",
    "\n",
    "\n",
    "class CustomEvaluationMetricFactory(EvaluationMetricFactory):\n",
    "\n",
    "    def __init__(self) -> None:\n",
    "        super().__init__()\n",
    "\n",
    "    def get_evaluation_metric_by_name(self, metric_dict) -> EvaluationMetric:\n",
    "        metric_name = metric_dict['name']\n",
    "        metric_parameters = metric_dict['parameters']\n",
    "\n",
    "        if(metric_name == 'validity'):\n",
    "            return self.get_validity_metric(config_dict=metric_dict)\n",
    "\n",
    "        else:\n",
    "            return super().get_evaluation_metric_by_name(metric_dict)\n",
    "\n",
    "\n",
    "    def get_validity_metric(self, config_dict=None) -> EvaluationMetric:\n",
    "        result = ValidityMetric(config_dict)\n",
    "        return result\n"
   ]
  },
  {
   "cell_type": "markdown",
   "metadata": {},
   "source": [
    "## Using the new Evaluation Metric"
   ]
  },
  {
   "cell_type": "code",
   "execution_count": 12,
   "metadata": {},
   "outputs": [],
   "source": [
    "em_factory = CustomEvaluationMetricFactory()\n",
    "\n",
    "# The run number is a way to differentiate many runs of the same configurations\n",
    "eval_manager = EvaluatorManager(config_file_path, run_number=0, \n",
    "                                dataset_factory=None, \n",
    "                                embedder_factory=None, \n",
    "                                oracle_factory=None, \n",
    "                                explainer_factory=None, \n",
    "                                evaluation_metric_factory=em_factory)\n",
    "eval_manager.create_evaluators()\n",
    "eval_manager.evaluate()"
   ]
  },
  {
   "cell_type": "markdown",
   "metadata": {},
   "source": [
    "## Checking the results"
   ]
  },
  {
   "cell_type": "code",
   "execution_count": 13,
   "metadata": {},
   "outputs": [
    {
     "data": {
      "text/plain": [
       "'{\"config\": {\"dataset\": {\"name\": \"autism\", \"parameters\": {}}, \"oracle\": {\"name\": \"asd_custom_oracle\", \"parameters\": {}}, \"explainer\": {\"name\": \"dce_search\", \"parameters\": {\"graph_distance\": {\"name\": \"graph_edit_distance\", \"parameters\": {}}}}, \"metrics\": [{\"name\": \"graph_edit_distance\", \"parameters\": {}}, {\"name\": \"oracle_calls\", \"parameters\": {}}, {\"name\": \"validity\", \"parameters\": {}}, {\"name\": \"sparsity\", \"parameters\": {}}, {\"name\": \"fidelity\", \"parameters\": {}}, {\"name\": \"oracle_accuracy\", \"parameters\": {}}]}, \"runtime\": [0.14621305465698242, 0.08006906509399414, 0.0641489028930664, 0.07153201103210449, 0.07117462158203125, 0.10097837448120117, 0.07581448554992676, 0.09013652801513672, 0.0803062915802002, 0.07727694511413574, 0.0703282356262207, 0.0743856430053711, 0.0836799144744873, 0.10117864608764648, 0.07774209976196289, 0.06998872756958008, 0.06997513771057129, 0.07279682159423828, 0.0685722827911377, 0.07396316528320312, 0.08022737503051758, 0.07196712493896484, 0.07120800018310547, 0.07239603996276855, 0.08620238304138184, 0.07700300216674805, 0.08954620361328125, 0.06635594367980957, 0.06307864189147949, 0.0696561336517334, 0.07529044151306152, 0.07162594795227051, 0.06499719619750977, 0.07596158981323242, 0.06429839134216309, 0.07535958290100098, 0.07735848426818848, 0.06868147850036621, 0.060796260833740234, 0.07209134101867676, 0.07015490531921387, 0.06346726417541504, 0.06979846954345703, 0.07349991798400879, 0.06157374382019043, 0.07242941856384277, 0.07258224487304688, 0.06368374824523926, 0.09016561508178711, 0.06664896011352539, 0.06006789207458496, 0.06414270401000977, 0.06800198554992676, 0.07806229591369629, 0.08267641067504883, 0.0834205150604248, 0.08074092864990234, 0.08010149002075195, 0.07732033729553223, 0.0653691291809082, 0.06483578681945801, 0.06735348701477051, 0.08858489990234375, 0.06961989402770996, 0.07001733779907227, 0.07056879997253418, 0.06462979316711426, 0.07663393020629883, 0.07758164405822754, 0.0747380256652832, 0.0739281177520752, 0.07671332359313965, 0.07930326461791992, 0.06037640571594238, 0.06477832794189453, 0.07349705696105957, 0.07334351539611816, 0.061077117919921875, 0.06543278694152832, 0.07278180122375488, 0.07513093948364258, 0.08954572677612305, 0.07054710388183594, 0.06502246856689453, 0.07156968116760254, 0.06234622001647949, 0.06997966766357422, 0.08939933776855469, 0.07801961898803711, 0.07792186737060547, 0.08397340774536133, 0.07220053672790527, 0.07083559036254883, 0.07564902305603027, 0.07104969024658203, 0.07000994682312012, 0.06931710243225098, 0.06999897956848145, 0.0648043155670166, 0.07280731201171875, 0.07878756523132324], \"Graph_Edit_Distance\": [993.0, 1019.0, 980.0, 968.0, 1012.0, 963.0, 980.0, 998.0, 993.0, 994.0, 968.0, 972.0, 1037.0, 1020.0, 1041.0, 1022.0, 998.0, 1008.0, 1010.0, 1033.0, 1003.0, 989.0, 997.0, 1050.0, 1015.0, 1013.0, 1003.0, 1017.0, 1045.0, 1050.0, 1035.0, 1057.0, 1022.0, 1004.0, 968.0, 996.0, 958.0, 998.0, 1026.0, 1058.0, 985.0, 968.0, 1004.0, 1008.0, 1011.0, 1027.0, 1070.0, 1007.0, 979.0, 968.0, 1003.0, 1012.0, 1033.0, 1019.0, 963.0, 1016.0, 1022.0, 1036.0, 1008.0, 1035.0, 1034.0, 1020.0, 997.0, 1020.0, 1018.0, 1007.0, 1003.0, 1017.0, 1043.0, 987.0, 1034.0, 1001.0, 1007.0, 1029.0, 1011.0, 1016.0, 1001.0, 1030.0, 1035.0, 1044.0, 1042.0, 994.0, 1005.0, 1090.0, 1001.0, 958.0, 1019.0, 1023.0, 1048.0, 1055.0, 1043.0, 1017.0, 1003.0, 1040.0, 985.0, 1026.0, 972.0, 1036.0, 998.0, 996.0, 989.0], \"Oracle_Calls\": [102, 102, 102, 102, 102, 102, 102, 102, 102, 102, 102, 102, 102, 102, 102, 102, 102, 102, 102, 102, 102, 102, 102, 102, 102, 102, 102, 102, 102, 102, 102, 102, 102, 102, 102, 102, 102, 102, 102, 102, 102, 102, 102, 102, 102, 102, 102, 102, 102, 102, 102, 102, 102, 102, 102, 102, 102, 102, 102, 102, 102, 102, 102, 102, 102, 102, 102, 102, 102, 102, 102, 102, 102, 102, 102, 102, 102, 102, 102, 102, 102, 102, 102, 102, 102, 102, 102, 102, 102, 102, 102, 102, 102, 102, 102, 102, 102, 102, 102, 102, 102], \"Validity\": [1, 1, 1, 1, 1, 1, 1, 1, 1, 1, 1, 1, 1, 1, 1, 1, 1, 1, 1, 1, 1, 1, 1, 1, 1, 1, 1, 1, 1, 1, 1, 1, 1, 1, 1, 1, 1, 1, 1, 1, 1, 1, 1, 1, 1, 1, 1, 1, 1, 1, 1, 1, 1, 1, 1, 1, 1, 1, 1, 1, 1, 1, 1, 1, 1, 1, 1, 1, 1, 1, 1, 1, 1, 1, 1, 1, 1, 1, 1, 1, 1, 1, 1, 1, 1, 1, 1, 1, 1, 1, 1, 1, 1, 1, 1, 1, 1, 1, 1, 1, 1], \"Sparsity\": [1.3031496062992125, 1.3268229166666667, 1.2694300518134716, 1.2522639068564037, 1.3024453024453024, 1.2314578005115089, 1.2596401028277635, 1.2977893368010402, 1.306578947368421, 1.2892347600518808, 1.2522639068564037, 1.2857142857142858, 1.3415265200517466, 1.3076923076923077, 1.343225806451613, 1.3572377158034528, 1.2961038961038962, 1.290653008962868, 1.3116883116883118, 1.3520942408376964, 1.3162729658792651, 1.2728442728442728, 1.2881136950904393, 1.3601036269430051, 1.3096774193548386, 1.2953964194373402, 1.3025974025974025, 1.317357512953368, 1.3501291989664084, 1.3513513513513513, 1.332046332046332, 1.3638709677419354, 1.3153153153153154, 1.2904884318766068, 1.2620599739243807, 1.2901554404145077, 1.255570117955439, 1.2778489116517286, 1.3204633204633205, 1.3651612903225807, 1.2808842652795838, 1.2753623188405796, 1.3107049608355092, 1.3193717277486912, 1.3198433420365536, 1.3217503217503217, 1.3665389527458494, 1.297680412371134, 1.2681347150259068, 1.2720105124835743, 1.2826086956521738, 1.295774647887324, 1.3277634961439588, 1.3114543114543114, 1.2621231979030145, 1.3075933075933075, 1.3035714285714286, 1.3248081841432224, 1.3176470588235294, 1.335483870967742, 1.3376455368693403, 1.3195342820181113, 1.281491002570694, 1.3385826771653544, 1.3342070773263435, 1.3077922077922077, 1.3232189973614776, 1.3294117647058823, 1.337179487179487, 1.2768434670116429, 1.3428571428571427, 1.311926605504587, 1.2993548387096774, 1.3277419354838709, 1.3011583011583012, 1.3333333333333333, 1.3084967320261438, 1.3154533844189016, 1.3372093023255813, 1.3367477592829706, 1.339331619537275, 1.2993464052287582, 1.3018134715025906, 1.4046391752577319, 1.3136482939632546, 1.2457737321196358, 1.337270341207349, 1.3285714285714285, 1.352258064516129, 1.3525641025641026, 1.3406169665809768, 1.30719794344473, 1.3059895833333333, 1.3282247765006385, 1.309840425531915, 1.3482260183968462, 1.2755905511811023, 1.336774193548387, 1.2977893368010402, 1.2918287937743191, 1.2894393741851369], \"Fidelity\": [1, 1, -1, 1, 1, 1, 1, 1, 1, 1, 1, 1, 1, 1, -1, 1, 1, 1, 1, 1, 1, 1, 1, 1, 1, 1, 1, -1, -1, 1, 1, 1, -1, 1, -1, 1, 1, -1, -1, 1, 1, 1, -1, 1, -1, 1, -1, -1, 1, -1, -1, 1, -1, 1, 1, -1, 1, 1, -1, 1, 1, 1, 1, 1, 1, -1, 1, 1, -1, -1, 1, 1, 1, 1, 1, 1, 1, 1, 1, 1, 1, -1, 1, 1, 1, 1, 1, 1, 1, 1, 1, 1, 1, -1, 1, 1, 1, 1, 1, 1, -1], \"Oracle_Accuracy\": [1, 1, 0, 1, 1, 1, 1, 1, 1, 1, 1, 1, 1, 1, 0, 1, 1, 1, 1, 1, 1, 1, 1, 1, 1, 1, 1, 0, 0, 1, 1, 1, 0, 1, 0, 1, 1, 0, 0, 1, 1, 1, 0, 1, 0, 1, 0, 0, 1, 0, 0, 1, 0, 1, 1, 0, 1, 1, 0, 1, 1, 1, 1, 1, 1, 0, 1, 1, 0, 0, 1, 1, 1, 1, 1, 1, 1, 1, 1, 1, 1, 0, 1, 1, 1, 1, 1, 1, 1, 1, 1, 1, 1, 0, 1, 1, 1, 1, 1, 1, 0]}'"
      ]
     },
     "execution_count": 13,
     "metadata": {},
     "output_type": "execute_result"
    }
   ],
   "source": [
    "with open(output_file_path, 'r') as rs_json_reader:\n",
    "                results = rs_json_reader.read()\n",
    "\n",
    "results"
   ]
  },
  {
   "cell_type": "code",
   "execution_count": 14,
   "metadata": {},
   "outputs": [
    {
     "data": {
      "text/html": [
       "<div>\n",
       "<style scoped>\n",
       "    .dataframe tbody tr th:only-of-type {\n",
       "        vertical-align: middle;\n",
       "    }\n",
       "\n",
       "    .dataframe tbody tr th {\n",
       "        vertical-align: top;\n",
       "    }\n",
       "\n",
       "    .dataframe thead th {\n",
       "        text-align: right;\n",
       "    }\n",
       "</style>\n",
       "<table border=\"1\" class=\"dataframe\">\n",
       "  <thead>\n",
       "    <tr style=\"text-align: right;\">\n",
       "      <th></th>\n",
       "      <th>Unnamed: 0</th>\n",
       "      <th>explainer</th>\n",
       "      <th>runtime</th>\n",
       "      <th>runtime-std</th>\n",
       "      <th>Graph_Edit_Distance</th>\n",
       "      <th>Graph_Edit_Distance-std</th>\n",
       "      <th>Oracle_Calls</th>\n",
       "      <th>Oracle_Calls-std</th>\n",
       "      <th>Validity</th>\n",
       "      <th>Validity-std</th>\n",
       "      <th>Sparsity</th>\n",
       "      <th>Sparsity-std</th>\n",
       "      <th>Fidelity</th>\n",
       "      <th>Fidelity-std</th>\n",
       "      <th>Oracle_Accuracy</th>\n",
       "      <th>Oracle_Accuracy-std</th>\n",
       "    </tr>\n",
       "  </thead>\n",
       "  <tbody>\n",
       "    <tr>\n",
       "      <th>0</th>\n",
       "      <td>0</td>\n",
       "      <td>dce_search</td>\n",
       "      <td>0.074188</td>\n",
       "      <td>0.0</td>\n",
       "      <td>1011.693069</td>\n",
       "      <td>0.0</td>\n",
       "      <td>102.0</td>\n",
       "      <td>0.0</td>\n",
       "      <td>1.0</td>\n",
       "      <td>0.0</td>\n",
       "      <td>1.311108</td>\n",
       "      <td>0.0</td>\n",
       "      <td>0.544554</td>\n",
       "      <td>0.0</td>\n",
       "      <td>0.772277</td>\n",
       "      <td>0.0</td>\n",
       "    </tr>\n",
       "  </tbody>\n",
       "</table>\n",
       "</div>"
      ],
      "text/plain": [
       "   Unnamed: 0   explainer   runtime  runtime-std  Graph_Edit_Distance  \\\n",
       "0           0  dce_search  0.074188          0.0          1011.693069   \n",
       "\n",
       "   Graph_Edit_Distance-std  Oracle_Calls  Oracle_Calls-std  Validity  \\\n",
       "0                      0.0         102.0               0.0       1.0   \n",
       "\n",
       "   Validity-std  Sparsity  Sparsity-std  Fidelity  Fidelity-std  \\\n",
       "0           0.0  1.311108           0.0  0.544554           0.0   \n",
       "\n",
       "   Oracle_Accuracy  Oracle_Accuracy-std  \n",
       "0         0.772277                  0.0  "
      ]
     },
     "execution_count": 14,
     "metadata": {},
     "output_type": "execute_result"
    }
   ],
   "source": [
    "from src.data_analysis.data_analyzer import DataAnalyzer\n",
    "import pandas as pd\n",
    "\n",
    "dtan = DataAnalyzer(output_folder, stats_folder)\n",
    "dtan.aggregate_data()\n",
    "dtan.aggregate_runs()\n",
    "dtan.create_tables_by_oracle_dataset()\n",
    "\n",
    "results_table = pd.read_csv(stats_folder + 'autism-asd_custom_oracle.csv')\n",
    "results_table"
   ]
  }
 ],
 "metadata": {
  "kernelspec": {
   "display_name": "Python 3",
   "language": "python",
   "name": "python3"
  },
  "language_info": {
   "codemirror_mode": {
    "name": "ipython",
    "version": 3
   },
   "file_extension": ".py",
   "mimetype": "text/x-python",
   "name": "python",
   "nbconvert_exporter": "python",
   "pygments_lexer": "ipython3",
   "version": "3.8.10"
  },
  "orig_nbformat": 4,
  "vscode": {
   "interpreter": {
    "hash": "916dbcbb3f70747c44a77c7bcd40155683ae19c65e1c03b4aa3499c5328201f1"
   }
  }
 },
 "nbformat": 4,
 "nbformat_minor": 2
}
