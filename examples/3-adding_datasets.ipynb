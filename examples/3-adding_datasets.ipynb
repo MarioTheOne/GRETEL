{
 "cells": [
  {
   "cell_type": "markdown",
   "metadata": {},
   "source": [
    "# Adding a new Dataset to GRETEL"
   ]
  },
  {
   "cell_type": "code",
   "execution_count": 9,
   "metadata": {},
   "outputs": [],
   "source": [
    "import sys\n",
    "import os\n",
    "module_path = os.path.abspath(os.path.join('..'))\n",
    "sys.path.append(module_path)"
   ]
  },
  {
   "cell_type": "code",
   "execution_count": 10,
   "metadata": {},
   "outputs": [
    {
     "data": {
      "text/plain": [
       "(True, True, True, True, True)"
      ]
     },
     "execution_count": 10,
     "metadata": {},
     "output_type": "execute_result"
    }
   ],
   "source": [
    "from src.evaluation.evaluator_manager import EvaluatorManager\n",
    "\n",
    "config_file_path =  module_path + '/examples/config/config_squares-triangles_knn_dce.json'\n",
    "output_file_path = module_path + '/output/knn_k-5_fit_on-squares-triangles_instances-100/DCESearchExplainer/results_run-0.json'\n",
    "output_folder = module_path + '/output/'\n",
    "stats_folder = module_path + '/stats/'\n",
    "datasets_folder = module_path + '/data/datasets/'\n",
    "\n",
    "# Verifying that the paths are valid\n",
    "(os.path.isfile(config_file_path), os.path.isfile(output_file_path), os.path.isdir(output_folder), os.path.isdir(stats_folder), \n",
    "os.path.isdir(datasets_folder))"
   ]
  },
  {
   "cell_type": "markdown",
   "metadata": {},
   "source": [
    "## Creating the Squares-Triangles Dataset\n",
    "\n",
    "The Squares-Triangles Dataset is a synthetic dataset generated on the fly that is composed by cycle graphs, some of them are triangles and the others are squares"
   ]
  },
  {
   "cell_type": "markdown",
   "metadata": {},
   "source": [
    "### Creating the dataset"
   ]
  },
  {
   "cell_type": "code",
   "execution_count": 11,
   "metadata": {},
   "outputs": [],
   "source": [
    "from src.dataset.data_instance_base import DataInstance\n",
    "from src.dataset.dataset_base import Dataset\n",
    "\n",
    "import networkx as nx\n",
    "import numpy as np\n",
    "\n",
    "class SquaresTrianglesDataset(Dataset):\n",
    "\n",
    "    def __init__(self, id, config_dict=None) -> None:\n",
    "        super().__init__(id, config_dict)\n",
    "        self.instances = []\n",
    "\n",
    "    def create_cycle(self, cycle_size, role_label=1):\n",
    "\n",
    "        # Creating an empty graph and adding the nodes\n",
    "        graph = nx.Graph()\n",
    "        graph.add_nodes_from(range(0, cycle_size))\n",
    "\n",
    "        # Adding the edges  of the graph\n",
    "        for i in range(cycle_size - 1):\n",
    "            graph.add_edges_from([(i, i + 1)])\n",
    "\n",
    "        graph.add_edges_from([(cycle_size - 1, 0)])\n",
    "        \n",
    "        # Creating the dictionary containing the node labels \n",
    "        node_labels = {}\n",
    "        for n in graph.nodes:\n",
    "            node_labels[n] = role_label\n",
    "\n",
    "        # Creating the dictionary containing the edge labels\n",
    "        edge_labels = {}\n",
    "        for e in graph.edges:\n",
    "            edge_labels[e] = role_label\n",
    "\n",
    "        # Returning the cycle graph and the role labels\n",
    "        return graph, node_labels, edge_labels\n",
    "\n",
    "\n",
    "    def generate_squares_triangles_dataset(self, n_instances):\n",
    "\n",
    "        self._name = ('squares-triangles_instances-'+ str(n_instances))\n",
    "\n",
    "        # Creating the empty list of instances\n",
    "        result = []\n",
    "\n",
    "        for i in range(0, n_instances):\n",
    "            # Randomly determine if the graph is going to be a traingle or a square\n",
    "            is_triangle = np.random.randint(0,2)\n",
    "\n",
    "            # Creating the instance\n",
    "            data_instance = DataInstance(id=self._instance_id_counter)\n",
    "            self._instance_id_counter +=1\n",
    "\n",
    "            i_name = 'g' + str(i)\n",
    "            i_graph = None\n",
    "            i_node_labels = None\n",
    "            i_edge_labels = None\n",
    "\n",
    "            # creating the instance properties specific for squares or triangles\n",
    "            if(is_triangle):\n",
    "                # Creating the triangle graph\n",
    "                i_graph, i_node_labels, i_edge_labels = self.create_cycle(cycle_size=3, role_label=1)\n",
    "                data_instance.graph_label = 1\n",
    "            else:\n",
    "                i_graph, i_node_labels, i_edge_labels = self.create_cycle(cycle_size=4, role_label=0)\n",
    "                data_instance.graph_label = 0  \n",
    "\n",
    "            # Creating the general instance properties\n",
    "            data_instance.graph = i_graph\n",
    "            data_instance.node_labels = i_node_labels\n",
    "            data_instance.edge_labels = i_edge_labels\n",
    "            data_instance.minimum_counterfactual_distance = 4\n",
    "            data_instance.name = i_name\n",
    "\n",
    "            result.append(data_instance)\n",
    "\n",
    "        # return the set of instances\n",
    "        self.instances = result\n",
    "\n",
    "    "
   ]
  },
  {
   "cell_type": "markdown",
   "metadata": {},
   "source": [
    "### Creating the DatasetFactory"
   ]
  },
  {
   "cell_type": "code",
   "execution_count": 12,
   "metadata": {},
   "outputs": [],
   "source": [
    "from src.dataset.dataset_base import Dataset\n",
    "from src.dataset.dataset_factory import DatasetFactory\n",
    "import os\n",
    "import shutil\n",
    "\n",
    "\n",
    "class CustomDatasetFactory(DatasetFactory):\n",
    "\n",
    "    def __init__(self, data_store_path) -> None:\n",
    "        self._data_store_path = data_store_path\n",
    "        self._dataset_id_counter = 0\n",
    "\n",
    "\n",
    "    def get_dataset_by_name(self, dataset_dict) -> Dataset:\n",
    "\n",
    "        dataset_name = dataset_dict['name']\n",
    "        params_dict = dataset_dict['parameters']\n",
    "\n",
    "        # Check if the dataset is a squares-triangles dataset\n",
    "        if dataset_name == 'squares-triangles':\n",
    "            if not 'n_inst' in params_dict:\n",
    "                raise ValueError('''\"n_inst\" parameter containing the number of instances in the dataset\n",
    "                 is mandatory for squares-triangles dataset''')\n",
    "\n",
    "            return self.get_squares_triangles_dataset(params_dict['n_inst'], False, dataset_dict)\n",
    "        else:\n",
    "            # call the base method in to generate any of the originally supported datasets\n",
    "            return super().get_dataset_by_name(dataset_dict)\n",
    "\n",
    "\n",
    "    def get_squares_triangles_dataset(self, n_instances=300, regenerate=False, config_dict=None) -> Dataset:\n",
    "        result = SquaresTrianglesDataset(self._dataset_id_counter, config_dict)\n",
    "        self._dataset_id_counter+=1\n",
    "\n",
    "        # Create the name an uri of the dataset using the provided parameters\n",
    "        ds_name = ('squares-triangles_instances-'+ str(n_instances))\n",
    "        ds_uri = os.path.join(self._data_store_path, ds_name)\n",
    "        ds_exists = os.path.exists(ds_uri)\n",
    "\n",
    "        # If regenerate is true and the dataset exists then remove it an generate it again\n",
    "        if regenerate and ds_exists: \n",
    "            shutil.rmtree(ds_uri)\n",
    "\n",
    "        # Check if the dataset already exists\n",
    "        if(ds_exists):\n",
    "            # load the dataset\n",
    "            result.read_data(ds_uri)\n",
    "        else:\n",
    "            # Generate the dataset\n",
    "            result.generate_squares_triangles_dataset(n_instances)\n",
    "            result.generate_splits()\n",
    "            result.write_data(self._data_store_path)\n",
    "            \n",
    "        return result"
   ]
  },
  {
   "cell_type": "markdown",
   "metadata": {},
   "source": [
    "### Evaluating the DCE explainer in the new dataset"
   ]
  },
  {
   "cell_type": "code",
   "execution_count": 13,
   "metadata": {},
   "outputs": [],
   "source": [
    "ds_store_path = datasets_folder\n",
    "ds_factory = CustomDatasetFactory(ds_store_path)\n",
    "\n",
    "# The run number is a way to differentiate many runs of the same configurations\n",
    "eval_manager = EvaluatorManager(config_file_path, run_number=0, \n",
    "                                dataset_factory=ds_factory, \n",
    "                                embedder_factory=None, \n",
    "                                oracle_factory=None, \n",
    "                                explainer_factory=None, \n",
    "                                evaluation_metric_factory=None)\n",
    "eval_manager.create_evaluators()\n",
    "eval_manager.evaluate()"
   ]
  },
  {
   "cell_type": "markdown",
   "metadata": {},
   "source": [
    "### Reading the results"
   ]
  },
  {
   "cell_type": "code",
   "execution_count": 14,
   "metadata": {},
   "outputs": [
    {
     "data": {
      "text/plain": [
       "'{\"config\": {\"dataset\": {\"name\": \"squares-triangles\", \"parameters\": {\"n_inst\": 100}}, \"oracle\": {\"name\": \"knn\", \"parameters\": {\"embedder\": {\"name\": \"graph2vec\", \"parameters\": {}}, \"k\": 5}}, \"explainer\": {\"name\": \"dce_search\", \"parameters\": {\"graph_distance\": {\"name\": \"graph_edit_distance\", \"parameters\": {}}}}, \"metrics\": [{\"name\": \"graph_edit_distance\", \"parameters\": {}}, {\"name\": \"oracle_calls\", \"parameters\": {}}, {\"name\": \"correctness\", \"parameters\": {}}, {\"name\": \"sparsity\", \"parameters\": {}}, {\"name\": \"fidelity\", \"parameters\": {}}, {\"name\": \"oracle_accuracy\", \"parameters\": {}}]}, \"runtime\": [0.23925995826721191, 0.21209454536437988, 0.3345613479614258, 0.2505471706390381, 0.24770283699035645, 0.23664069175720215, 0.5102274417877197, 0.26296544075012207, 0.54136061668396, 0.7418484687805176, 0.4421875476837158, 0.28301382064819336, 0.38527965545654297, 0.597139835357666, 0.5697107315063477, 0.3411083221435547, 0.20270705223083496, 0.26683783531188965, 0.38461995124816895, 0.456071138381958, 0.29190802574157715, 0.2671694755554199, 0.2531721591949463, 0.22538542747497559, 0.2179727554321289, 0.2699882984161377, 0.31355786323547363, 0.24372124671936035, 0.17342615127563477, 0.2162771224975586, 0.1875317096710205, 0.18529915809631348, 0.26808905601501465, 0.20636963844299316, 0.3132901191711426, 0.22971510887145996, 0.2716965675354004, 0.16925501823425293, 0.23969292640686035, 0.1728198528289795, 0.20042705535888672, 0.3139166831970215, 0.18194580078125, 0.31781840324401855, 0.2994098663330078, 0.18909144401550293, 0.1778719425201416, 0.19722223281860352, 0.1747581958770752, 0.18998146057128906, 0.21670866012573242, 0.18053936958312988, 0.19516682624816895, 0.24722599983215332, 0.18529033660888672, 0.23258733749389648, 0.1913595199584961, 0.1650092601776123, 0.35760974884033203, 0.3024287223815918, 0.1690514087677002, 0.34652209281921387, 0.1911914348602295, 0.2854323387145996, 0.2384030818939209, 0.338153600692749, 0.23506450653076172, 0.20636558532714844, 0.3377697467803955, 0.3285491466522217, 0.22437191009521484, 0.1968822479248047, 0.30429697036743164, 0.18953490257263184, 0.19589734077453613, 0.5382676124572754, 0.4481699466705322, 0.27954816818237305, 0.1929466724395752, 0.3585803508758545, 0.33435845375061035, 0.36527585983276367, 0.36156415939331055, 0.24904799461364746, 0.28865599632263184, 0.17978358268737793, 0.23516249656677246, 0.23266935348510742, 0.23734664916992188, 0.26425600051879883, 0.2719752788543701, 0.2748453617095947, 0.3001573085784912, 0.1524200439453125, 0.21725797653198242, 0.2316446304321289, 0.20489144325256348, 0.24665164947509766, 0.21256422996520996, 0.4091172218322754], \"Graph_Edit_Distance\": [0.0, 0.0, 0.0, 0.0, 0.0, 0.0, 0.0, 0.0, 0.0, 0.0, 0.0, 0.0, 0.0, 0.0, 0.0, 0.0, 0.0, 0.0, 0.0, 0.0, 0.0, 0.0, 0.0, 0.0, 0.0, 0.0, 0.0, 0.0, 0.0, 0.0, 0.0, 0.0, 0.0, 0.0, 0.0, 0.0, 0.0, 0.0, 0.0, 0.0, 0.0, 0.0, 0.0, 0.0, 0.0, 0.0, 0.0, 0.0, 0.0, 0.0, 0.0, 0.0, 0.0, 0.0, 0.0, 0.0, 0.0, 0.0, 0.0, 0.0, 0.0, 0.0, 0.0, 0.0, 0.0, 0.0, 0.0, 0.0, 0.0, 0.0, 0.0, 0.0, 0.0, 0.0, 0.0, 0.0, 0.0, 0.0, 0.0, 0.0, 0.0, 0.0, 0.0, 0.0, 0.0, 0.0, 0.0, 0.0, 0.0, 0.0, 0.0, 0.0, 0.0, 0.0, 0.0, 0.0, 0.0, 0.0, 0.0, 0.0], \"Oracle_Calls\": [101, 101, 101, 101, 101, 101, 101, 101, 101, 101, 101, 101, 101, 101, 101, 101, 101, 101, 101, 101, 101, 101, 101, 101, 101, 101, 101, 101, 101, 101, 101, 101, 101, 101, 101, 101, 101, 101, 101, 101, 101, 101, 101, 101, 101, 101, 101, 101, 101, 101, 101, 101, 101, 101, 101, 101, 101, 101, 101, 101, 101, 101, 101, 101, 101, 101, 101, 101, 101, 101, 101, 101, 101, 101, 101, 101, 101, 101, 101, 101, 101, 101, 101, 101, 101, 101, 101, 101, 101, 101, 101, 101, 101, 101, 101, 101, 101, 101, 101, 101], \"Correctness\": [0, 0, 0, 0, 0, 0, 0, 0, 0, 0, 0, 0, 0, 0, 0, 0, 0, 0, 0, 0, 0, 0, 0, 0, 0, 0, 0, 0, 0, 0, 0, 0, 0, 0, 0, 0, 0, 0, 0, 0, 0, 0, 0, 0, 0, 0, 0, 0, 0, 0, 0, 0, 0, 0, 0, 0, 0, 0, 0, 0, 0, 0, 0, 0, 0, 0, 0, 0, 0, 0, 0, 0, 0, 0, 0, 0, 0, 0, 0, 0, 0, 0, 0, 0, 0, 0, 0, 0, 0, 0, 0, 0, 0, 0, 0, 0, 0, 0, 0, 0], \"Sparsity\": [0.0, 0.0, 0.0, 0.0, 0.0, 0.0, 0.0, 0.0, 0.0, 0.0, 0.0, 0.0, 0.0, 0.0, 0.0, 0.0, 0.0, 0.0, 0.0, 0.0, 0.0, 0.0, 0.0, 0.0, 0.0, 0.0, 0.0, 0.0, 0.0, 0.0, 0.0, 0.0, 0.0, 0.0, 0.0, 0.0, 0.0, 0.0, 0.0, 0.0, 0.0, 0.0, 0.0, 0.0, 0.0, 0.0, 0.0, 0.0, 0.0, 0.0, 0.0, 0.0, 0.0, 0.0, 0.0, 0.0, 0.0, 0.0, 0.0, 0.0, 0.0, 0.0, 0.0, 0.0, 0.0, 0.0, 0.0, 0.0, 0.0, 0.0, 0.0, 0.0, 0.0, 0.0, 0.0, 0.0, 0.0, 0.0, 0.0, 0.0, 0.0, 0.0, 0.0, 0.0, 0.0, 0.0, 0.0, 0.0, 0.0, 0.0, 0.0, 0.0, 0.0, 0.0, 0.0, 0.0, 0.0, 0.0, 0.0, 0.0], \"Fidelity\": [0, 0, 0, 0, 0, 0, 0, 0, 0, 0, 0, 0, 0, 0, 0, 0, 0, 0, 0, 0, 0, 0, 0, 0, 0, 0, 0, 0, 0, 0, 0, 0, 0, 0, 0, 0, 0, 0, 0, 0, 0, 0, 0, 0, 0, 0, 0, 0, 0, 0, 0, 0, 0, 0, 0, 0, 0, 0, 0, 0, 0, 0, 0, 0, 0, 0, 0, 0, 0, 0, 0, 0, 0, 0, 0, 0, 0, 0, 0, 0, 0, 0, 0, 0, 0, 0, 0, 0, 0, 0, 0, 0, 0, 0, 0, 0, 0, 0, 0, 0], \"Oracle_Accuracy\": [1, 0, 0, 1, 0, 1, 0, 1, 0, 0, 1, 1, 1, 1, 1, 0, 1, 1, 0, 1, 0, 0, 1, 1, 0, 0, 1, 0, 0, 0, 1, 1, 0, 0, 1, 1, 0, 0, 1, 1, 0, 1, 0, 0, 1, 1, 0, 1, 1, 0, 1, 1, 1, 1, 0, 1, 0, 1, 0, 1, 1, 1, 0, 0, 1, 0, 0, 0, 0, 1, 1, 0, 1, 0, 0, 1, 0, 1, 1, 0, 0, 0, 0, 1, 0, 0, 1, 1, 0, 0, 0, 0, 1, 1, 1, 1, 1, 1, 1, 1]}'"
      ]
     },
     "execution_count": 14,
     "metadata": {},
     "output_type": "execute_result"
    }
   ],
   "source": [
    "with open(output_file_path, 'r') as rs_json_reader:\n",
    "                results = rs_json_reader.read()\n",
    "\n",
    "results"
   ]
  },
  {
   "cell_type": "markdown",
   "metadata": {},
   "source": [
    "Creating results table"
   ]
  },
  {
   "cell_type": "code",
   "execution_count": 15,
   "metadata": {},
   "outputs": [],
   "source": [
    "from src.data_analysis.data_analyzer import DataAnalyzer\n",
    "\n",
    "dtan = DataAnalyzer(output_folder, stats_folder)\n",
    "dtan.aggregate_data()\n",
    "dtan.aggregate_runs()\n",
    "dtan.create_tables_by_oracle_dataset()"
   ]
  },
  {
   "cell_type": "code",
   "execution_count": 16,
   "metadata": {},
   "outputs": [
    {
     "data": {
      "text/html": [
       "<div>\n",
       "<style scoped>\n",
       "    .dataframe tbody tr th:only-of-type {\n",
       "        vertical-align: middle;\n",
       "    }\n",
       "\n",
       "    .dataframe tbody tr th {\n",
       "        vertical-align: top;\n",
       "    }\n",
       "\n",
       "    .dataframe thead th {\n",
       "        text-align: right;\n",
       "    }\n",
       "</style>\n",
       "<table border=\"1\" class=\"dataframe\">\n",
       "  <thead>\n",
       "    <tr style=\"text-align: right;\">\n",
       "      <th></th>\n",
       "      <th>Unnamed: 0</th>\n",
       "      <th>explainer</th>\n",
       "      <th>runtime</th>\n",
       "      <th>runtime-std</th>\n",
       "      <th>Graph_Edit_Distance</th>\n",
       "      <th>Graph_Edit_Distance-std</th>\n",
       "      <th>Oracle_Calls</th>\n",
       "      <th>Oracle_Calls-std</th>\n",
       "      <th>Correctness</th>\n",
       "      <th>Correctness-std</th>\n",
       "      <th>Sparsity</th>\n",
       "      <th>Sparsity-std</th>\n",
       "      <th>Fidelity</th>\n",
       "      <th>Fidelity-std</th>\n",
       "      <th>Oracle_Accuracy</th>\n",
       "      <th>Oracle_Accuracy-std</th>\n",
       "    </tr>\n",
       "  </thead>\n",
       "  <tbody>\n",
       "    <tr>\n",
       "      <th>0</th>\n",
       "      <td>0</td>\n",
       "      <td>dce_search</td>\n",
       "      <td>0.276132</td>\n",
       "      <td>0.0</td>\n",
       "      <td>0.0</td>\n",
       "      <td>0.0</td>\n",
       "      <td>101.0</td>\n",
       "      <td>0.0</td>\n",
       "      <td>0.0</td>\n",
       "      <td>0.0</td>\n",
       "      <td>0.0</td>\n",
       "      <td>0.0</td>\n",
       "      <td>0.0</td>\n",
       "      <td>0.0</td>\n",
       "      <td>0.53</td>\n",
       "      <td>0.0</td>\n",
       "    </tr>\n",
       "  </tbody>\n",
       "</table>\n",
       "</div>"
      ],
      "text/plain": [
       "   Unnamed: 0   explainer   runtime  runtime-std  Graph_Edit_Distance  \\\n",
       "0           0  dce_search  0.276132          0.0                  0.0   \n",
       "\n",
       "   Graph_Edit_Distance-std  Oracle_Calls  Oracle_Calls-std  Correctness  \\\n",
       "0                      0.0         101.0               0.0          0.0   \n",
       "\n",
       "   Correctness-std  Sparsity  Sparsity-std  Fidelity  Fidelity-std  \\\n",
       "0              0.0       0.0           0.0       0.0           0.0   \n",
       "\n",
       "   Oracle_Accuracy  Oracle_Accuracy-std  \n",
       "0             0.53                  0.0  "
      ]
     },
     "execution_count": 16,
     "metadata": {},
     "output_type": "execute_result"
    }
   ],
   "source": [
    "import pandas as pd\n",
    "results_table = pd.read_csv(stats_folder + 'squares-triangles-knn.csv')\n",
    "results_table"
   ]
  },
  {
   "cell_type": "markdown",
   "metadata": {},
   "source": [
    "KNN presented issues recognizing the classes, and basically, always predicted the opposite class to the real one, but the discriminative power of the oracle was preserved, so the explanation method was able to find counterfactual instances anyway."
   ]
  }
 ],
 "metadata": {
  "kernelspec": {
   "display_name": "Python 3",
   "language": "python",
   "name": "python3"
  },
  "language_info": {
   "codemirror_mode": {
    "name": "ipython",
    "version": 3
   },
   "file_extension": ".py",
   "mimetype": "text/x-python",
   "name": "python",
   "nbconvert_exporter": "python",
   "pygments_lexer": "ipython3",
   "version": "3.8.10 (default, Jun 22 2022, 20:18:18) \n[GCC 9.4.0]"
  },
  "orig_nbformat": 4,
  "vscode": {
   "interpreter": {
    "hash": "916dbcbb3f70747c44a77c7bcd40155683ae19c65e1c03b4aa3499c5328201f1"
   }
  }
 },
 "nbformat": 4,
 "nbformat_minor": 2
}
