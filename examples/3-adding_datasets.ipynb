{
 "cells": [
  {
   "cell_type": "markdown",
   "metadata": {},
   "source": [
    "# Adding a new Dataset to GRETEL"
   ]
  },
  {
   "cell_type": "code",
   "execution_count": 20,
   "metadata": {},
   "outputs": [
    {
     "name": "stdout",
     "output_type": "stream",
     "text": [
      "c:\\Users\\Roberto\\Documents\\Projects\\GRETEL\n"
     ]
    }
   ],
   "source": [
    "import sys\n",
    "import os\n",
    "module_path = os.path.abspath(os.path.join('..'))\n",
    "sys.path.append(module_path)\n",
    "print(module_path)"
   ]
  },
  {
   "cell_type": "code",
   "execution_count": 17,
   "metadata": {},
   "outputs": [
    {
     "data": {
      "text/plain": [
       "(True, False, True, True, True)"
      ]
     },
     "execution_count": 17,
     "metadata": {},
     "output_type": "execute_result"
    }
   ],
   "source": [
    "from src.evaluation.evaluator_manager import EvaluatorManager\n",
    "\n",
    "config_file_path =  module_path + '/examples/config/config_squares-triangles_trisqr_custom_oracle_dce.json'\n",
    "output_file_path = module_path + '/examples/output/triangles_squares_custom_oracle/DCESearchExplainer/results_run-0.json'\n",
    "output_folder = module_path + '/examples/output/'\n",
    "stats_folder = module_path + '/examples/stats/'\n",
    "datasets_folder = module_path + '/data/datasets/'\n",
    "\n",
    "# Verifying that the paths are valid\n",
    "(os.path.isfile(config_file_path), os.path.isfile(output_file_path), os.path.isdir(output_folder), os.path.isdir(stats_folder), \n",
    "os.path.isdir(datasets_folder))"
   ]
  },
  {
   "cell_type": "markdown",
   "metadata": {},
   "source": [
    "## Creating the Squares-Triangles Dataset\n",
    "\n",
    "The Squares-Triangles Dataset is a synthetic dataset generated on the fly that is composed by cycle graphs, some of them are triangles and the others are squares"
   ]
  },
  {
   "cell_type": "markdown",
   "metadata": {},
   "source": [
    "### Creating the dataset"
   ]
  },
  {
   "cell_type": "code",
   "execution_count": 18,
   "metadata": {},
   "outputs": [],
   "source": [
    "from src.dataset.data_instance_base import DataInstance\n",
    "from src.dataset.dataset_base import Dataset\n",
    "\n",
    "import networkx as nx\n",
    "import numpy as np\n",
    "\n",
    "class SquaresTrianglesDataset(Dataset):\n",
    "\n",
    "    def __init__(self, id, config_dict=None) -> None:\n",
    "        super().__init__(id, config_dict)\n",
    "        self.instances = []\n",
    "\n",
    "    def create_cycle(self, cycle_size, role_label=1):\n",
    "\n",
    "        # Creating an empty graph and adding the nodes\n",
    "        graph = nx.Graph()\n",
    "        graph.add_nodes_from(range(0, cycle_size))\n",
    "\n",
    "        # Adding the edges  of the graph\n",
    "        for i in range(cycle_size - 1):\n",
    "            graph.add_edges_from([(i, i + 1)])\n",
    "\n",
    "        graph.add_edges_from([(cycle_size - 1, 0)])\n",
    "        \n",
    "        # Creating the dictionary containing the node labels \n",
    "        node_labels = {}\n",
    "        for n in graph.nodes:\n",
    "            node_labels[n] = role_label\n",
    "\n",
    "        # Creating the dictionary containing the edge labels\n",
    "        edge_labels = {}\n",
    "        for e in graph.edges:\n",
    "            edge_labels[e] = role_label\n",
    "\n",
    "        # Returning the cycle graph and the role labels\n",
    "        return graph, node_labels, edge_labels\n",
    "\n",
    "\n",
    "    def generate_squares_triangles_dataset(self, n_instances):\n",
    "\n",
    "        self._name = ('squares-triangles_instances-'+ str(n_instances))\n",
    "\n",
    "        # Creating the empty list of instances\n",
    "        result = []\n",
    "\n",
    "        for i in range(0, n_instances):\n",
    "            # Randomly determine if the graph is going to be a traingle or a square\n",
    "            is_triangle = np.random.randint(0,2)\n",
    "\n",
    "            # Creating the instance\n",
    "            data_instance = DataInstance(id=self._instance_id_counter)\n",
    "            self._instance_id_counter +=1\n",
    "\n",
    "            i_name = 'g' + str(i)\n",
    "            i_graph = None\n",
    "            i_node_labels = None\n",
    "            i_edge_labels = None\n",
    "\n",
    "            # creating the instance properties specific for squares or triangles\n",
    "            if(is_triangle):\n",
    "                # Creating the triangle graph\n",
    "                i_graph, i_node_labels, i_edge_labels = self.create_cycle(cycle_size=3, role_label=1)\n",
    "                data_instance.graph_label = 1\n",
    "            else:\n",
    "                i_graph, i_node_labels, i_edge_labels = self.create_cycle(cycle_size=4, role_label=0)\n",
    "                data_instance.graph_label = 0  \n",
    "\n",
    "            # Creating the general instance properties\n",
    "            data_instance.graph = i_graph\n",
    "            data_instance.node_labels = i_node_labels\n",
    "            data_instance.edge_labels = i_edge_labels\n",
    "            data_instance.minimum_counterfactual_distance = 4\n",
    "            data_instance.name = i_name\n",
    "\n",
    "            result.append(data_instance)\n",
    "\n",
    "        # return the set of instances\n",
    "        self.instances = result\n",
    "\n",
    "    "
   ]
  },
  {
   "cell_type": "markdown",
   "metadata": {},
   "source": [
    "### Creating the DatasetFactory"
   ]
  },
  {
   "cell_type": "code",
   "execution_count": 19,
   "metadata": {},
   "outputs": [],
   "source": [
    "from src.dataset.dataset_base import Dataset\n",
    "from src.dataset.dataset_factory import DatasetFactory\n",
    "import os\n",
    "import shutil\n",
    "\n",
    "\n",
    "class CustomDatasetFactory(DatasetFactory):\n",
    "\n",
    "    def __init__(self, data_store_path) -> None:\n",
    "        self._data_store_path = data_store_path\n",
    "        self._dataset_id_counter = 0\n",
    "\n",
    "\n",
    "    def get_dataset_by_name(self, dataset_dict) -> Dataset:\n",
    "\n",
    "        dataset_name = dataset_dict['name']\n",
    "        params_dict = dataset_dict['parameters']\n",
    "\n",
    "        # Check if the dataset is a squares-triangles dataset\n",
    "        if dataset_name == 'squares-triangles':\n",
    "            if not 'n_inst' in params_dict:\n",
    "                raise ValueError('''\"n_inst\" parameter containing the number of instances in the dataset\n",
    "                 is mandatory for squares-triangles dataset''')\n",
    "\n",
    "            return self.get_squares_triangles_dataset(params_dict['n_inst'], False, dataset_dict)\n",
    "        else:\n",
    "            # call the base method in to generate any of the originally supported datasets\n",
    "            return super().get_dataset_by_name(dataset_dict)\n",
    "\n",
    "\n",
    "    def get_squares_triangles_dataset(self, n_instances=300, regenerate=False, config_dict=None) -> Dataset:\n",
    "        result = SquaresTrianglesDataset(self._dataset_id_counter, config_dict)\n",
    "        self._dataset_id_counter+=1\n",
    "\n",
    "        # Create the name an uri of the dataset using the provided parameters\n",
    "        ds_name = ('squares-triangles_instances-'+ str(n_instances))\n",
    "        ds_uri = os.path.join(self._data_store_path, ds_name)\n",
    "        ds_exists = os.path.exists(ds_uri)\n",
    "\n",
    "        # If regenerate is true and the dataset exists then remove it an generate it again\n",
    "        if regenerate and ds_exists: \n",
    "            shutil.rmtree(ds_uri)\n",
    "\n",
    "        # Check if the dataset already exists\n",
    "        if(ds_exists):\n",
    "            # load the dataset\n",
    "            result.read_data(ds_uri)\n",
    "        else:\n",
    "            # Generate the dataset\n",
    "            result.generate_squares_triangles_dataset(n_instances)\n",
    "            result.generate_splits()\n",
    "            result.write_data(self._data_store_path)\n",
    "            \n",
    "        return result"
   ]
  },
  {
   "cell_type": "markdown",
   "metadata": {},
   "source": [
    "### Evaluating the DCE explainer in the new dataset"
   ]
  },
  {
   "cell_type": "code",
   "execution_count": 21,
   "metadata": {},
   "outputs": [
    {
     "name": "stdout",
     "output_type": "stream",
     "text": [
      "c:\\Users\\Roberto\\Documents\\Projects\\GRETEL/data/datasets/\n"
     ]
    },
    {
     "ename": "KeyError",
     "evalue": "'class'",
     "output_type": "error",
     "traceback": [
      "\u001b[1;31m---------------------------------------------------------------------------\u001b[0m",
      "\u001b[1;31mKeyError\u001b[0m                                  Traceback (most recent call last)",
      "\u001b[1;32mc:\\Users\\Roberto\\Documents\\Projects\\GRETEL\\examples\\3-adding_datasets.ipynb Cell 10\u001b[0m line \u001b[0;36m7\n\u001b[0;32m      <a href='vscode-notebook-cell:/c%3A/Users/Roberto/Documents/Projects/GRETEL/examples/3-adding_datasets.ipynb#X12sZmlsZQ%3D%3D?line=4'>5</a>\u001b[0m context \u001b[39m=\u001b[39m Context\u001b[39m.\u001b[39mget_context(config_file\u001b[39m=\u001b[39mconfig_file_path)\n\u001b[0;32m      <a href='vscode-notebook-cell:/c%3A/Users/Roberto/Documents/Projects/GRETEL/examples/3-adding_datasets.ipynb#X12sZmlsZQ%3D%3D?line=5'>6</a>\u001b[0m \u001b[39m# The run number is a way to differentiate many runs of the same configurations\u001b[39;00m\n\u001b[1;32m----> <a href='vscode-notebook-cell:/c%3A/Users/Roberto/Documents/Projects/GRETEL/examples/3-adding_datasets.ipynb#X12sZmlsZQ%3D%3D?line=6'>7</a>\u001b[0m eval_manager \u001b[39m=\u001b[39m EvaluatorManager(context)\n\u001b[0;32m      <a href='vscode-notebook-cell:/c%3A/Users/Roberto/Documents/Projects/GRETEL/examples/3-adding_datasets.ipynb#X12sZmlsZQ%3D%3D?line=7'>8</a>\u001b[0m eval_manager\u001b[39m.\u001b[39mcreate_evaluators()\n\u001b[0;32m      <a href='vscode-notebook-cell:/c%3A/Users/Roberto/Documents/Projects/GRETEL/examples/3-adding_datasets.ipynb#X12sZmlsZQ%3D%3D?line=8'>9</a>\u001b[0m eval_manager\u001b[39m.\u001b[39mevaluate()\n",
      "File \u001b[1;32mc:\\Users\\Roberto\\Documents\\Projects\\GRETEL\\src\\evaluation\\evaluator_manager.py:26\u001b[0m, in \u001b[0;36mEvaluatorManager.__init__\u001b[1;34m(self, context)\u001b[0m\n\u001b[0;32m     23\u001b[0m \u001b[39mself\u001b[39m\u001b[39m.\u001b[39mcontext\u001b[39m.\u001b[39mfactories[\u001b[39m'\u001b[39m\u001b[39mexplainers\u001b[39m\u001b[39m'\u001b[39m] \u001b[39m=\u001b[39m ExplainerFactory(context)\n\u001b[0;32m     24\u001b[0m \u001b[39mself\u001b[39m\u001b[39m.\u001b[39mcontext\u001b[39m.\u001b[39mfactories[\u001b[39m'\u001b[39m\u001b[39mmetrics\u001b[39m\u001b[39m'\u001b[39m] \u001b[39m=\u001b[39m EvaluationMetricFactory(context\u001b[39m.\u001b[39mconf)\n\u001b[1;32m---> 26\u001b[0m \u001b[39mself\u001b[39;49m\u001b[39m.\u001b[39;49m_create_evaluators()\n",
      "File \u001b[1;32mc:\\Users\\Roberto\\Documents\\Projects\\GRETEL\\src\\evaluation\\evaluator_manager.py:54\u001b[0m, in \u001b[0;36mEvaluatorManager._create_evaluators\u001b[1;34m(self)\u001b[0m\n\u001b[0;32m     51\u001b[0m evaluator_id \u001b[39m=\u001b[39m \u001b[39m0\u001b[39m\n\u001b[0;32m     52\u001b[0m \u001b[39mfor\u001b[39;00m dataset_snippet \u001b[39min\u001b[39;00m datasets_list:\n\u001b[0;32m     53\u001b[0m     \u001b[39m# The get_dataset method return an already builded/loaded/generated dataset with all its features already in place;\u001b[39;00m\n\u001b[1;32m---> 54\u001b[0m     dataset \u001b[39m=\u001b[39m \u001b[39mself\u001b[39;49m\u001b[39m.\u001b[39;49mcontext\u001b[39m.\u001b[39;49mfactories[\u001b[39m'\u001b[39;49m\u001b[39mdatasets\u001b[39;49m\u001b[39m'\u001b[39;49m]\u001b[39m.\u001b[39;49mget_dataset(dataset_snippet)\n\u001b[0;32m     56\u001b[0m     \u001b[39mfor\u001b[39;00m oracle_snippet \u001b[39min\u001b[39;00m oracles_list:                \n\u001b[0;32m     57\u001b[0m         \u001b[39m# The get_oracle method returns a fitted oracle on the dataset;\u001b[39;00m\n\u001b[0;32m     58\u001b[0m         oracle \u001b[39m=\u001b[39m \u001b[39mself\u001b[39m\u001b[39m.\u001b[39mcontext\u001b[39m.\u001b[39mfactories[\u001b[39m'\u001b[39m\u001b[39moracles\u001b[39m\u001b[39m'\u001b[39m]\u001b[39m.\u001b[39mget_oracle(oracle_snippet, dataset)\n",
      "File \u001b[1;32mc:\\Users\\Roberto\\Documents\\Projects\\GRETEL\\src\\n_dataset\\dataset_factory.py:5\u001b[0m, in \u001b[0;36mDatasetFactory.get_dataset\u001b[1;34m(self, dataset_snippet)\u001b[0m\n\u001b[0;32m      4\u001b[0m \u001b[39mdef\u001b[39;00m \u001b[39mget_dataset\u001b[39m(\u001b[39mself\u001b[39m, dataset_snippet):\n\u001b[1;32m----> 5\u001b[0m     \u001b[39mreturn\u001b[39;00m \u001b[39mself\u001b[39;49m\u001b[39m.\u001b[39;49m_get_object(dataset_snippet)\n",
      "File \u001b[1;32mc:\\Users\\Roberto\\Documents\\Projects\\GRETEL\\src\\core\\factory_base.py:9\u001b[0m, in \u001b[0;36mFactory._get_object\u001b[1;34m(self, object_snippet)\u001b[0m\n\u001b[0;32m      8\u001b[0m \u001b[39mdef\u001b[39;00m \u001b[39m_get_object\u001b[39m(\u001b[39mself\u001b[39m, object_snippet):\n\u001b[1;32m----> 9\u001b[0m     base_obj \u001b[39m=\u001b[39m get_class(object_snippet[\u001b[39m'\u001b[39;49m\u001b[39mclass\u001b[39;49m\u001b[39m'\u001b[39;49m])(\u001b[39mself\u001b[39m\u001b[39m.\u001b[39mcontext, object_snippet)\n\u001b[0;32m     10\u001b[0m     \u001b[39mself\u001b[39m\u001b[39m.\u001b[39mcontext\u001b[39m.\u001b[39mlogger\u001b[39m.\u001b[39minfo(\u001b[39m\"\u001b[39m\u001b[39mCreated: \u001b[39m\u001b[39m\"\u001b[39m\u001b[39m+\u001b[39m \u001b[39mstr\u001b[39m(base_obj))\n\u001b[0;32m     11\u001b[0m     \u001b[39mreturn\u001b[39;00m base_obj\n",
      "\u001b[1;31mKeyError\u001b[0m: 'class'"
     ]
    }
   ],
   "source": [
    "from src.utils.context import Context\n",
    "ds_store_path = datasets_folder\n",
    "print(datasets_folder)\n",
    "ds_factory = CustomDatasetFactory(ds_store_path)\n",
    "context = Context.get_context(config_file=config_file_path)\n",
    "# The run number is a way to differentiate many runs of the same configurations\n",
    "eval_manager = EvaluatorManager(context)\n",
    "eval_manager.create_evaluators()\n",
    "eval_manager.evaluate()"
   ]
  },
  {
   "cell_type": "markdown",
   "metadata": {},
   "source": [
    "### Reading the results"
   ]
  },
  {
   "cell_type": "code",
   "execution_count": 14,
   "metadata": {},
   "outputs": [
    {
     "data": {
      "text/plain": [
       "'{\"config\": {\"dataset\": {\"name\": \"squares-triangles\", \"parameters\": {\"n_inst\": 100}}, \"oracle\": {\"name\": \"trisqr_custom_oracle\", \"parameters\": {\"embedder\": {\"name\": \"graph2vec\", \"parameters\": {}}}}, \"explainer\": {\"name\": \"dce_search\", \"parameters\": {\"graph_distance\": {\"name\": \"graph_edit_distance\", \"parameters\": {}}}}, \"metrics\": [{\"name\": \"graph_edit_distance\", \"parameters\": {}}, {\"name\": \"oracle_calls\", \"parameters\": {}}, {\"name\": \"correctness\", \"parameters\": {}}, {\"name\": \"sparsity\", \"parameters\": {}}, {\"name\": \"fidelity\", \"parameters\": {}}, {\"name\": \"oracle_accuracy\", \"parameters\": {}}]}, \"runtime\": [0.0008592605590820312, 0.0009090900421142578, 0.0008060932159423828, 0.0007355213165283203, 0.000823974609375, 0.0009407997131347656, 0.0024175643920898438, 0.0014560222625732422, 0.0011241436004638672, 0.0008006095886230469, 0.0006210803985595703, 0.0006079673767089844, 0.0006237030029296875, 0.0005993843078613281, 0.0007026195526123047, 0.0007009506225585938, 0.0006315708160400391, 0.000629425048828125, 0.0006651878356933594, 0.0005955696105957031, 0.0006475448608398438, 0.0006678104400634766, 0.0005939006805419922, 0.0005900859832763672, 0.0006825923919677734, 0.0006520748138427734, 0.0006103515625, 0.0018062591552734375, 0.0012962818145751953, 0.0007722377777099609, 0.0006287097930908203, 0.0006194114685058594, 0.0006952285766601562, 0.000644683837890625, 0.0005922317504882812, 0.0006864070892333984, 0.0006518363952636719, 0.0007445812225341797, 0.0006115436553955078, 0.0006482601165771484, 0.0007321834564208984, 0.0006229877471923828, 0.0006685256958007812, 0.0006628036499023438, 0.0005929470062255859, 0.0006127357482910156, 0.0013353824615478516, 0.0015680789947509766, 0.0011000633239746094, 0.0008716583251953125, 0.0007433891296386719, 0.0008966922760009766, 0.0011649131774902344, 0.0011696815490722656, 0.0010879039764404297, 0.0008885860443115234, 0.0010907649993896484, 0.0008590221405029297, 0.00092315673828125, 0.0012056827545166016, 0.0009326934814453125, 0.0007333755493164062, 0.0009374618530273438, 0.0008006095886230469, 0.001129150390625, 0.0007488727569580078, 0.0007138252258300781, 0.0017933845520019531, 0.0009067058563232422, 0.0006911754608154297, 0.0006146430969238281, 0.0006551742553710938, 0.0006113052368164062, 0.0006546974182128906, 0.0006494522094726562, 0.0006814002990722656, 0.0006585121154785156, 0.0006453990936279297, 0.0006096363067626953, 0.00067901611328125, 0.0011589527130126953, 0.0011267662048339844, 0.0007753372192382812, 0.0006487369537353516, 0.0006687641143798828, 0.0006580352783203125, 0.0006074905395507812, 0.0006165504455566406, 0.0007240772247314453, 0.0007693767547607422, 0.0006682872772216797, 0.0006632804870605469, 0.0006036758422851562, 0.0005981922149658203, 0.0006968975067138672, 0.0006172657012939453, 0.0006246566772460938, 0.0006124973297119141, 0.0005950927734375, 0.0005960464477539062], \"Graph_Edit_Distance\": [4.0, 4.0, 4.0, 4.0, 4.0, 4.0, 4.0, 4.0, 4.0, 4.0, 4.0, 4.0, 4.0, 4.0, 4.0, 4.0, 4.0, 4.0, 4.0, 4.0, 4.0, 4.0, 4.0, 4.0, 4.0, 4.0, 4.0, 4.0, 4.0, 4.0, 4.0, 4.0, 4.0, 4.0, 4.0, 4.0, 4.0, 4.0, 4.0, 4.0, 4.0, 4.0, 4.0, 4.0, 4.0, 4.0, 4.0, 4.0, 4.0, 4.0, 4.0, 4.0, 4.0, 4.0, 4.0, 4.0, 4.0, 4.0, 4.0, 4.0, 4.0, 4.0, 4.0, 4.0, 4.0, 4.0, 4.0, 4.0, 4.0, 4.0, 4.0, 4.0, 4.0, 4.0, 4.0, 4.0, 4.0, 4.0, 4.0, 4.0, 4.0, 4.0, 4.0, 4.0, 4.0, 4.0, 4.0, 4.0, 4.0, 4.0, 4.0, 4.0, 4.0, 4.0, 4.0, 4.0, 4.0, 4.0, 4.0, 4.0], \"Oracle_Calls\": [101, 101, 101, 101, 101, 101, 101, 101, 101, 101, 101, 101, 101, 101, 101, 101, 101, 101, 101, 101, 101, 101, 101, 101, 101, 101, 101, 101, 101, 101, 101, 101, 101, 101, 101, 101, 101, 101, 101, 101, 101, 101, 101, 101, 101, 101, 101, 101, 101, 101, 101, 101, 101, 101, 101, 101, 101, 101, 101, 101, 101, 101, 101, 101, 101, 101, 101, 101, 101, 101, 101, 101, 101, 101, 101, 101, 101, 101, 101, 101, 101, 101, 101, 101, 101, 101, 101, 101, 101, 101, 101, 101, 101, 101, 101, 101, 101, 101, 101, 101], \"Correctness\": [1, 1, 1, 1, 1, 1, 1, 1, 1, 1, 1, 1, 1, 1, 1, 1, 1, 1, 1, 1, 1, 1, 1, 1, 1, 1, 1, 1, 1, 1, 1, 1, 1, 1, 1, 1, 1, 1, 1, 1, 1, 1, 1, 1, 1, 1, 1, 1, 1, 1, 1, 1, 1, 1, 1, 1, 1, 1, 1, 1, 1, 1, 1, 1, 1, 1, 1, 1, 1, 1, 1, 1, 1, 1, 1, 1, 1, 1, 1, 1, 1, 1, 1, 1, 1, 1, 1, 1, 1, 1, 1, 1, 1, 1, 1, 1, 1, 1, 1, 1], \"Sparsity\": [0.5, 0.6666666666666666, 0.6666666666666666, 0.5, 0.6666666666666666, 0.5, 0.6666666666666666, 0.5, 0.6666666666666666, 0.6666666666666666, 0.5, 0.5, 0.5, 0.5, 0.5, 0.6666666666666666, 0.5, 0.5, 0.6666666666666666, 0.5, 0.6666666666666666, 0.6666666666666666, 0.5, 0.5, 0.6666666666666666, 0.6666666666666666, 0.5, 0.6666666666666666, 0.6666666666666666, 0.6666666666666666, 0.5, 0.5, 0.6666666666666666, 0.6666666666666666, 0.5, 0.5, 0.6666666666666666, 0.6666666666666666, 0.5, 0.5, 0.6666666666666666, 0.5, 0.6666666666666666, 0.6666666666666666, 0.5, 0.5, 0.6666666666666666, 0.5, 0.5, 0.6666666666666666, 0.5, 0.5, 0.5, 0.5, 0.6666666666666666, 0.5, 0.6666666666666666, 0.5, 0.6666666666666666, 0.5, 0.5, 0.5, 0.6666666666666666, 0.6666666666666666, 0.5, 0.6666666666666666, 0.6666666666666666, 0.6666666666666666, 0.6666666666666666, 0.5, 0.5, 0.6666666666666666, 0.5, 0.6666666666666666, 0.6666666666666666, 0.5, 0.6666666666666666, 0.5, 0.5, 0.6666666666666666, 0.6666666666666666, 0.6666666666666666, 0.6666666666666666, 0.5, 0.6666666666666666, 0.6666666666666666, 0.5, 0.5, 0.6666666666666666, 0.6666666666666666, 0.6666666666666666, 0.6666666666666666, 0.5, 0.5, 0.5, 0.5, 0.5, 0.5, 0.5, 0.5], \"Fidelity\": [1, 1, 1, 1, 1, 1, 1, 1, 1, 1, 1, 1, 1, 1, 1, 1, 1, 1, 1, 1, 1, 1, 1, 1, 1, 1, 1, 1, 1, 1, 1, 1, 1, 1, 1, 1, 1, 1, 1, 1, 1, 1, 1, 1, 1, 1, 1, 1, 1, 1, 1, 1, 1, 1, 1, 1, 1, 1, 1, 1, 1, 1, 1, 1, 1, 1, 1, 1, 1, 1, 1, 1, 1, 1, 1, 1, 1, 1, 1, 1, 1, 1, 1, 1, 1, 1, 1, 1, 1, 1, 1, 1, 1, 1, 1, 1, 1, 1, 1, 1], \"Oracle_Accuracy\": [1, 1, 1, 1, 1, 1, 1, 1, 1, 1, 1, 1, 1, 1, 1, 1, 1, 1, 1, 1, 1, 1, 1, 1, 1, 1, 1, 1, 1, 1, 1, 1, 1, 1, 1, 1, 1, 1, 1, 1, 1, 1, 1, 1, 1, 1, 1, 1, 1, 1, 1, 1, 1, 1, 1, 1, 1, 1, 1, 1, 1, 1, 1, 1, 1, 1, 1, 1, 1, 1, 1, 1, 1, 1, 1, 1, 1, 1, 1, 1, 1, 1, 1, 1, 1, 1, 1, 1, 1, 1, 1, 1, 1, 1, 1, 1, 1, 1, 1, 1]}'"
      ]
     },
     "execution_count": 14,
     "metadata": {},
     "output_type": "execute_result"
    }
   ],
   "source": [
    "with open(output_file_path, 'r') as rs_json_reader:\n",
    "                results = rs_json_reader.read()\n",
    "\n",
    "results"
   ]
  },
  {
   "cell_type": "markdown",
   "metadata": {},
   "source": [
    "Creating results table"
   ]
  },
  {
   "cell_type": "code",
   "execution_count": 15,
   "metadata": {},
   "outputs": [],
   "source": [
    "from src.data_analysis.data_analyzer import DataAnalyzer\n",
    "\n",
    "dtan = DataAnalyzer(output_folder, stats_folder)\n",
    "dtan.aggregate_data()\n",
    "dtan.aggregate_runs()\n",
    "dtan.create_tables_by_oracle_dataset()"
   ]
  },
  {
   "cell_type": "code",
   "execution_count": 16,
   "metadata": {},
   "outputs": [
    {
     "data": {
      "text/html": [
       "<div>\n",
       "<style scoped>\n",
       "    .dataframe tbody tr th:only-of-type {\n",
       "        vertical-align: middle;\n",
       "    }\n",
       "\n",
       "    .dataframe tbody tr th {\n",
       "        vertical-align: top;\n",
       "    }\n",
       "\n",
       "    .dataframe thead th {\n",
       "        text-align: right;\n",
       "    }\n",
       "</style>\n",
       "<table border=\"1\" class=\"dataframe\">\n",
       "  <thead>\n",
       "    <tr style=\"text-align: right;\">\n",
       "      <th></th>\n",
       "      <th>Unnamed: 0</th>\n",
       "      <th>explainer</th>\n",
       "      <th>runtime</th>\n",
       "      <th>runtime-std</th>\n",
       "      <th>Graph_Edit_Distance</th>\n",
       "      <th>Graph_Edit_Distance-std</th>\n",
       "      <th>Oracle_Calls</th>\n",
       "      <th>Oracle_Calls-std</th>\n",
       "      <th>Correctness</th>\n",
       "      <th>Correctness-std</th>\n",
       "      <th>Sparsity</th>\n",
       "      <th>Sparsity-std</th>\n",
       "      <th>Fidelity</th>\n",
       "      <th>Fidelity-std</th>\n",
       "      <th>Oracle_Accuracy</th>\n",
       "      <th>Oracle_Accuracy-std</th>\n",
       "    </tr>\n",
       "  </thead>\n",
       "  <tbody>\n",
       "    <tr>\n",
       "      <th>0</th>\n",
       "      <td>0</td>\n",
       "      <td>dce_search</td>\n",
       "      <td>0.000808</td>\n",
       "      <td>0.0</td>\n",
       "      <td>4.0</td>\n",
       "      <td>0.0</td>\n",
       "      <td>101.0</td>\n",
       "      <td>0.0</td>\n",
       "      <td>1.0</td>\n",
       "      <td>0.0</td>\n",
       "      <td>0.578333</td>\n",
       "      <td>0.0</td>\n",
       "      <td>1.0</td>\n",
       "      <td>0.0</td>\n",
       "      <td>1.0</td>\n",
       "      <td>0.0</td>\n",
       "    </tr>\n",
       "  </tbody>\n",
       "</table>\n",
       "</div>"
      ],
      "text/plain": [
       "   Unnamed: 0   explainer   runtime  runtime-std  Graph_Edit_Distance  \\\n",
       "0           0  dce_search  0.000808          0.0                  4.0   \n",
       "\n",
       "   Graph_Edit_Distance-std  Oracle_Calls  Oracle_Calls-std  Correctness  \\\n",
       "0                      0.0         101.0               0.0          1.0   \n",
       "\n",
       "   Correctness-std  Sparsity  Sparsity-std  Fidelity  Fidelity-std  \\\n",
       "0              0.0  0.578333           0.0       1.0           0.0   \n",
       "\n",
       "   Oracle_Accuracy  Oracle_Accuracy-std  \n",
       "0              1.0                  0.0  "
      ]
     },
     "execution_count": 16,
     "metadata": {},
     "output_type": "execute_result"
    }
   ],
   "source": [
    "import pandas as pd\n",
    "results_table = pd.read_csv(stats_folder + 'squares-triangles-trisqr_custom_oracle.csv')\n",
    "results_table"
   ]
  }
 ],
 "metadata": {
  "kernelspec": {
   "display_name": "Python 3",
   "language": "python",
   "name": "python3"
  },
  "language_info": {
   "codemirror_mode": {
    "name": "ipython",
    "version": 3
   },
   "file_extension": ".py",
   "mimetype": "text/x-python",
   "name": "python",
   "nbconvert_exporter": "python",
   "pygments_lexer": "ipython3",
   "version": "3.9.18"
  },
  "orig_nbformat": 4,
  "vscode": {
   "interpreter": {
    "hash": "916dbcbb3f70747c44a77c7bcd40155683ae19c65e1c03b4aa3499c5328201f1"
   }
  }
 },
 "nbformat": 4,
 "nbformat_minor": 2
}
