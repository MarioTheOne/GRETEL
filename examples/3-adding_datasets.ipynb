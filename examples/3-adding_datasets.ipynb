{
 "cells": [
  {
   "cell_type": "markdown",
   "metadata": {},
   "source": [
    "# Adding a new Dataset to GRETEL"
   ]
  },
  {
   "cell_type": "code",
   "execution_count": 1,
   "metadata": {},
   "outputs": [],
   "source": [
    "import sys\n",
    "import os\n",
    "module_path = os.path.abspath(os.path.join('..'))\n",
    "sys.path.append(module_path)"
   ]
  },
  {
   "cell_type": "code",
   "execution_count": 8,
   "metadata": {},
   "outputs": [
    {
     "data": {
      "text/plain": [
       "(True, True, True, True, True)"
      ]
     },
     "execution_count": 8,
     "metadata": {},
     "output_type": "execute_result"
    }
   ],
   "source": [
    "from src.evaluation.evaluator_manager import EvaluatorManager\n",
    "\n",
    "config_file_path =  module_path + '/examples/config/config_squares-triangles_trisqr_custom_oracle_dce.json'\n",
    "output_file_path = module_path + '/examples/output/triangles_squares_custom_oracle/DCESearchExplainer/results_run-0.json'\n",
    "output_folder = module_path + '/examples/output/'\n",
    "stats_folder = module_path + '/examples/stats/'\n",
    "datasets_folder = module_path + '/data/datasets/'\n",
    "\n",
    "# Verifying that the paths are valid\n",
    "(os.path.isfile(config_file_path), os.path.isfile(output_file_path), os.path.isdir(output_folder), os.path.isdir(stats_folder), \n",
    "os.path.isdir(datasets_folder))"
   ]
  },
  {
   "cell_type": "markdown",
   "metadata": {},
   "source": [
    "## Creating the Squares-Triangles Dataset\n",
    "\n",
    "The Squares-Triangles Dataset is a synthetic dataset generated on the fly that is composed by cycle graphs, some of them are triangles and the others are squares"
   ]
  },
  {
   "cell_type": "markdown",
   "metadata": {},
   "source": [
    "### Creating the dataset"
   ]
  },
  {
   "cell_type": "code",
   "execution_count": 4,
   "metadata": {},
   "outputs": [],
   "source": [
    "from src.dataset.data_instance_base import DataInstance\n",
    "from src.dataset.dataset_base import Dataset\n",
    "\n",
    "import networkx as nx\n",
    "import numpy as np\n",
    "\n",
    "class SquaresTrianglesDataset(Dataset):\n",
    "\n",
    "    def __init__(self, id, config_dict=None) -> None:\n",
    "        super().__init__(id, config_dict)\n",
    "        self.instances = []\n",
    "\n",
    "    def create_cycle(self, cycle_size, role_label=1):\n",
    "\n",
    "        # Creating an empty graph and adding the nodes\n",
    "        graph = nx.Graph()\n",
    "        graph.add_nodes_from(range(0, cycle_size))\n",
    "\n",
    "        # Adding the edges  of the graph\n",
    "        for i in range(cycle_size - 1):\n",
    "            graph.add_edges_from([(i, i + 1)])\n",
    "\n",
    "        graph.add_edges_from([(cycle_size - 1, 0)])\n",
    "        \n",
    "        # Creating the dictionary containing the node labels \n",
    "        node_labels = {}\n",
    "        for n in graph.nodes:\n",
    "            node_labels[n] = role_label\n",
    "\n",
    "        # Creating the dictionary containing the edge labels\n",
    "        edge_labels = {}\n",
    "        for e in graph.edges:\n",
    "            edge_labels[e] = role_label\n",
    "\n",
    "        # Returning the cycle graph and the role labels\n",
    "        return graph, node_labels, edge_labels\n",
    "\n",
    "\n",
    "    def generate_squares_triangles_dataset(self, n_instances):\n",
    "\n",
    "        self._name = ('squares-triangles_instances-'+ str(n_instances))\n",
    "\n",
    "        # Creating the empty list of instances\n",
    "        result = []\n",
    "\n",
    "        for i in range(0, n_instances):\n",
    "            # Randomly determine if the graph is going to be a traingle or a square\n",
    "            is_triangle = np.random.randint(0,2)\n",
    "\n",
    "            # Creating the instance\n",
    "            data_instance = DataInstance(id=self._instance_id_counter)\n",
    "            self._instance_id_counter +=1\n",
    "\n",
    "            i_name = 'g' + str(i)\n",
    "            i_graph = None\n",
    "            i_node_labels = None\n",
    "            i_edge_labels = None\n",
    "\n",
    "            # creating the instance properties specific for squares or triangles\n",
    "            if(is_triangle):\n",
    "                # Creating the triangle graph\n",
    "                i_graph, i_node_labels, i_edge_labels = self.create_cycle(cycle_size=3, role_label=1)\n",
    "                data_instance.graph_label = 1\n",
    "            else:\n",
    "                i_graph, i_node_labels, i_edge_labels = self.create_cycle(cycle_size=4, role_label=0)\n",
    "                data_instance.graph_label = 0  \n",
    "\n",
    "            # Creating the general instance properties\n",
    "            data_instance.graph = i_graph\n",
    "            data_instance.node_labels = i_node_labels\n",
    "            data_instance.edge_labels = i_edge_labels\n",
    "            data_instance.minimum_counterfactual_distance = 4\n",
    "            data_instance.name = i_name\n",
    "\n",
    "            result.append(data_instance)\n",
    "\n",
    "        # return the set of instances\n",
    "        self.instances = result\n",
    "\n",
    "    "
   ]
  },
  {
   "cell_type": "markdown",
   "metadata": {},
   "source": [
    "### Creating the DatasetFactory"
   ]
  },
  {
   "cell_type": "code",
   "execution_count": 5,
   "metadata": {},
   "outputs": [],
   "source": [
    "from src.dataset.dataset_base import Dataset\n",
    "from src.dataset.dataset_factory import DatasetFactory\n",
    "import os\n",
    "import shutil\n",
    "\n",
    "\n",
    "class CustomDatasetFactory(DatasetFactory):\n",
    "\n",
    "    def __init__(self, data_store_path) -> None:\n",
    "        self._data_store_path = data_store_path\n",
    "        self._dataset_id_counter = 0\n",
    "\n",
    "\n",
    "    def get_dataset_by_name(self, dataset_dict) -> Dataset:\n",
    "\n",
    "        dataset_name = dataset_dict['name']\n",
    "        params_dict = dataset_dict['parameters']\n",
    "\n",
    "        # Check if the dataset is a squares-triangles dataset\n",
    "        if dataset_name == 'squares-triangles':\n",
    "            if not 'n_inst' in params_dict:\n",
    "                raise ValueError('''\"n_inst\" parameter containing the number of instances in the dataset\n",
    "                 is mandatory for squares-triangles dataset''')\n",
    "\n",
    "            return self.get_squares_triangles_dataset(params_dict['n_inst'], False, dataset_dict)\n",
    "        else:\n",
    "            # call the base method in to generate any of the originally supported datasets\n",
    "            return super().get_dataset_by_name(dataset_dict)\n",
    "\n",
    "\n",
    "    def get_squares_triangles_dataset(self, n_instances=300, regenerate=False, config_dict=None) -> Dataset:\n",
    "        result = SquaresTrianglesDataset(self._dataset_id_counter, config_dict)\n",
    "        self._dataset_id_counter+=1\n",
    "\n",
    "        # Create the name an uri of the dataset using the provided parameters\n",
    "        ds_name = ('squares-triangles_instances-'+ str(n_instances))\n",
    "        ds_uri = os.path.join(self._data_store_path, ds_name)\n",
    "        ds_exists = os.path.exists(ds_uri)\n",
    "\n",
    "        # If regenerate is true and the dataset exists then remove it an generate it again\n",
    "        if regenerate and ds_exists: \n",
    "            shutil.rmtree(ds_uri)\n",
    "\n",
    "        # Check if the dataset already exists\n",
    "        if(ds_exists):\n",
    "            # load the dataset\n",
    "            result.read_data(ds_uri)\n",
    "        else:\n",
    "            # Generate the dataset\n",
    "            result.generate_squares_triangles_dataset(n_instances)\n",
    "            result.generate_splits()\n",
    "            result.write_data(self._data_store_path)\n",
    "            \n",
    "        return result"
   ]
  },
  {
   "cell_type": "markdown",
   "metadata": {},
   "source": [
    "### Evaluating the DCE explainer in the new dataset"
   ]
  },
  {
   "cell_type": "code",
   "execution_count": 6,
   "metadata": {},
   "outputs": [],
   "source": [
    "ds_store_path = datasets_folder\n",
    "ds_factory = CustomDatasetFactory(ds_store_path)\n",
    "\n",
    "# The run number is a way to differentiate many runs of the same configurations\n",
    "eval_manager = EvaluatorManager(config_file_path, run_number=0, \n",
    "                                dataset_factory=ds_factory, \n",
    "                                embedder_factory=None, \n",
    "                                oracle_factory=None, \n",
    "                                explainer_factory=None, \n",
    "                                evaluation_metric_factory=None)\n",
    "eval_manager.create_evaluators()\n",
    "eval_manager.evaluate()"
   ]
  },
  {
   "cell_type": "markdown",
   "metadata": {},
   "source": [
    "### Reading the results"
   ]
  },
  {
   "cell_type": "code",
   "execution_count": 9,
   "metadata": {},
   "outputs": [
    {
     "data": {
      "text/plain": [
       "'{\"config\": {\"dataset\": {\"name\": \"squares-triangles\", \"parameters\": {\"n_inst\": 100}}, \"oracle\": {\"name\": \"trisqr_custom_oracle\", \"parameters\": {\"embedder\": {\"name\": \"graph2vec\", \"parameters\": {}}}}, \"explainer\": {\"name\": \"dce_search\", \"parameters\": {\"graph_distance\": {\"name\": \"graph_edit_distance\", \"parameters\": {}}}}, \"metrics\": [{\"name\": \"graph_edit_distance\", \"parameters\": {}}, {\"name\": \"oracle_calls\", \"parameters\": {}}, {\"name\": \"correctness\", \"parameters\": {}}, {\"name\": \"sparsity\", \"parameters\": {}}, {\"name\": \"fidelity\", \"parameters\": {}}, {\"name\": \"oracle_accuracy\", \"parameters\": {}}]}, \"runtime\": [0.0013515949249267578, 0.0009775161743164062, 0.0010020732879638672, 0.0008046627044677734, 0.0008766651153564453, 0.0007398128509521484, 0.0008320808410644531, 0.0006115436553955078, 0.0007717609405517578, 0.0006520748138427734, 0.0006070137023925781, 0.0006251335144042969, 0.0005903244018554688, 0.0007309913635253906, 0.0023086071014404297, 0.0009348392486572266, 0.0007414817810058594, 0.0007293224334716797, 0.0006978511810302734, 0.0008876323699951172, 0.0008685588836669922, 0.0006964206695556641, 0.0006079673767089844, 0.0005886554718017578, 0.0006399154663085938, 0.0006396770477294922, 0.0006055831909179688, 0.000640869140625, 0.0006406307220458984, 0.000640869140625, 0.0005877017974853516, 0.0006017684936523438, 0.0006577968597412109, 0.0007340908050537109, 0.0007004737854003906, 0.0022115707397460938, 0.0012862682342529297, 0.0012814998626708984, 0.0007212162017822266, 0.0007216930389404297, 0.0007882118225097656, 0.0007216930389404297, 0.0008502006530761719, 0.0008101463317871094, 0.0008590221405029297, 0.0007214546203613281, 0.0007898807525634766, 0.0007243156433105469, 0.0007212162017822266, 0.0008592605590820312, 0.0007271766662597656, 0.0007228851318359375, 0.0007686614990234375, 0.0009632110595703125, 0.00083160400390625, 0.0007245540618896484, 0.0007970333099365234, 0.0007719993591308594, 0.0008480548858642578, 0.0007703304290771484, 0.0008029937744140625, 0.0007727146148681641, 0.000993967056274414, 0.0012204647064208984, 0.0011892318725585938, 0.001226186752319336, 0.0011065006256103516, 0.0009818077087402344, 0.0017321109771728516, 0.0016434192657470703, 0.0012426376342773438, 0.001131296157836914, 0.0010864734649658203, 0.0011582374572753906, 0.001138925552368164, 0.0009741783142089844, 0.0010585784912109375, 0.0011088848114013672, 0.0009713172912597656, 0.0008556842803955078, 0.0008420944213867188, 0.0028290748596191406, 0.0011870861053466797, 0.0008764266967773438, 0.0009093284606933594, 0.0008790493011474609, 0.0006475448608398438, 0.0006246566772460938, 0.0007631778717041016, 0.0008549690246582031, 0.0007834434509277344, 0.0007619857788085938, 0.0006985664367675781, 0.0006983280181884766, 0.0005939006805419922, 0.0007023811340332031, 0.0006151199340820312, 0.0006072521209716797, 0.0006361007690429688, 0.0005970001220703125], \"Graph_Edit_Distance\": [4.0, 4.0, 4.0, 4.0, 4.0, 4.0, 4.0, 4.0, 4.0, 4.0, 4.0, 4.0, 4.0, 4.0, 4.0, 4.0, 4.0, 4.0, 4.0, 4.0, 4.0, 4.0, 4.0, 4.0, 4.0, 4.0, 4.0, 4.0, 4.0, 4.0, 4.0, 4.0, 4.0, 4.0, 4.0, 4.0, 4.0, 4.0, 4.0, 4.0, 4.0, 4.0, 4.0, 4.0, 4.0, 4.0, 4.0, 4.0, 4.0, 4.0, 4.0, 4.0, 4.0, 4.0, 4.0, 4.0, 4.0, 4.0, 4.0, 4.0, 4.0, 4.0, 4.0, 4.0, 4.0, 4.0, 4.0, 4.0, 4.0, 4.0, 4.0, 4.0, 4.0, 4.0, 4.0, 4.0, 4.0, 4.0, 4.0, 4.0, 4.0, 4.0, 4.0, 4.0, 4.0, 4.0, 4.0, 4.0, 4.0, 4.0, 4.0, 4.0, 4.0, 4.0, 4.0, 4.0, 4.0, 4.0, 4.0, 4.0], \"Oracle_Calls\": [101, 101, 101, 101, 101, 101, 101, 101, 101, 101, 101, 101, 101, 101, 101, 101, 101, 101, 101, 101, 101, 101, 101, 101, 101, 101, 101, 101, 101, 101, 101, 101, 101, 101, 101, 101, 101, 101, 101, 101, 101, 101, 101, 101, 101, 101, 101, 101, 101, 101, 101, 101, 101, 101, 101, 101, 101, 101, 101, 101, 101, 101, 101, 101, 101, 101, 101, 101, 101, 101, 101, 101, 101, 101, 101, 101, 101, 101, 101, 101, 101, 101, 101, 101, 101, 101, 101, 101, 101, 101, 101, 101, 101, 101, 101, 101, 101, 101, 101, 101], \"Correctness\": [1, 1, 1, 1, 1, 1, 1, 1, 1, 1, 1, 1, 1, 1, 1, 1, 1, 1, 1, 1, 1, 1, 1, 1, 1, 1, 1, 1, 1, 1, 1, 1, 1, 1, 1, 1, 1, 1, 1, 1, 1, 1, 1, 1, 1, 1, 1, 1, 1, 1, 1, 1, 1, 1, 1, 1, 1, 1, 1, 1, 1, 1, 1, 1, 1, 1, 1, 1, 1, 1, 1, 1, 1, 1, 1, 1, 1, 1, 1, 1, 1, 1, 1, 1, 1, 1, 1, 1, 1, 1, 1, 1, 1, 1, 1, 1, 1, 1, 1, 1], \"Sparsity\": [0.5, 0.6666666666666666, 0.6666666666666666, 0.5, 0.6666666666666666, 0.5, 0.6666666666666666, 0.5, 0.6666666666666666, 0.6666666666666666, 0.5, 0.5, 0.5, 0.5, 0.5, 0.6666666666666666, 0.5, 0.5, 0.6666666666666666, 0.5, 0.6666666666666666, 0.6666666666666666, 0.5, 0.5, 0.6666666666666666, 0.6666666666666666, 0.5, 0.6666666666666666, 0.6666666666666666, 0.6666666666666666, 0.5, 0.5, 0.6666666666666666, 0.6666666666666666, 0.5, 0.5, 0.6666666666666666, 0.6666666666666666, 0.5, 0.5, 0.6666666666666666, 0.5, 0.6666666666666666, 0.6666666666666666, 0.5, 0.5, 0.6666666666666666, 0.5, 0.5, 0.6666666666666666, 0.5, 0.5, 0.5, 0.5, 0.6666666666666666, 0.5, 0.6666666666666666, 0.5, 0.6666666666666666, 0.5, 0.5, 0.5, 0.6666666666666666, 0.6666666666666666, 0.5, 0.6666666666666666, 0.6666666666666666, 0.6666666666666666, 0.6666666666666666, 0.5, 0.5, 0.6666666666666666, 0.5, 0.6666666666666666, 0.6666666666666666, 0.5, 0.6666666666666666, 0.5, 0.5, 0.6666666666666666, 0.6666666666666666, 0.6666666666666666, 0.6666666666666666, 0.5, 0.6666666666666666, 0.6666666666666666, 0.5, 0.5, 0.6666666666666666, 0.6666666666666666, 0.6666666666666666, 0.6666666666666666, 0.5, 0.5, 0.5, 0.5, 0.5, 0.5, 0.5, 0.5], \"Fidelity\": [1, 1, 1, 1, 1, 1, 1, 1, 1, 1, 1, 1, 1, 1, 1, 1, 1, 1, 1, 1, 1, 1, 1, 1, 1, 1, 1, 1, 1, 1, 1, 1, 1, 1, 1, 1, 1, 1, 1, 1, 1, 1, 1, 1, 1, 1, 1, 1, 1, 1, 1, 1, 1, 1, 1, 1, 1, 1, 1, 1, 1, 1, 1, 1, 1, 1, 1, 1, 1, 1, 1, 1, 1, 1, 1, 1, 1, 1, 1, 1, 1, 1, 1, 1, 1, 1, 1, 1, 1, 1, 1, 1, 1, 1, 1, 1, 1, 1, 1, 1], \"Oracle_Accuracy\": [1, 1, 1, 1, 1, 1, 1, 1, 1, 1, 1, 1, 1, 1, 1, 1, 1, 1, 1, 1, 1, 1, 1, 1, 1, 1, 1, 1, 1, 1, 1, 1, 1, 1, 1, 1, 1, 1, 1, 1, 1, 1, 1, 1, 1, 1, 1, 1, 1, 1, 1, 1, 1, 1, 1, 1, 1, 1, 1, 1, 1, 1, 1, 1, 1, 1, 1, 1, 1, 1, 1, 1, 1, 1, 1, 1, 1, 1, 1, 1, 1, 1, 1, 1, 1, 1, 1, 1, 1, 1, 1, 1, 1, 1, 1, 1, 1, 1, 1, 1]}'"
      ]
     },
     "execution_count": 9,
     "metadata": {},
     "output_type": "execute_result"
    }
   ],
   "source": [
    "with open(output_file_path, 'r') as rs_json_reader:\n",
    "                results = rs_json_reader.read()\n",
    "\n",
    "results"
   ]
  },
  {
   "cell_type": "markdown",
   "metadata": {},
   "source": [
    "Creating results table"
   ]
  },
  {
   "cell_type": "code",
   "execution_count": 10,
   "metadata": {},
   "outputs": [],
   "source": [
    "from src.data_analysis.data_analyzer import DataAnalyzer\n",
    "\n",
    "dtan = DataAnalyzer(output_folder, stats_folder)\n",
    "dtan.aggregate_data()\n",
    "dtan.aggregate_runs()\n",
    "dtan.create_tables_by_oracle_dataset()"
   ]
  },
  {
   "cell_type": "code",
   "execution_count": 11,
   "metadata": {},
   "outputs": [
    {
     "data": {
      "text/html": [
       "<div>\n",
       "<style scoped>\n",
       "    .dataframe tbody tr th:only-of-type {\n",
       "        vertical-align: middle;\n",
       "    }\n",
       "\n",
       "    .dataframe tbody tr th {\n",
       "        vertical-align: top;\n",
       "    }\n",
       "\n",
       "    .dataframe thead th {\n",
       "        text-align: right;\n",
       "    }\n",
       "</style>\n",
       "<table border=\"1\" class=\"dataframe\">\n",
       "  <thead>\n",
       "    <tr style=\"text-align: right;\">\n",
       "      <th></th>\n",
       "      <th>Unnamed: 0</th>\n",
       "      <th>explainer</th>\n",
       "      <th>runtime</th>\n",
       "      <th>runtime-std</th>\n",
       "      <th>Graph_Edit_Distance</th>\n",
       "      <th>Graph_Edit_Distance-std</th>\n",
       "      <th>Oracle_Calls</th>\n",
       "      <th>Oracle_Calls-std</th>\n",
       "      <th>Correctness</th>\n",
       "      <th>Correctness-std</th>\n",
       "      <th>Sparsity</th>\n",
       "      <th>Sparsity-std</th>\n",
       "      <th>Fidelity</th>\n",
       "      <th>Fidelity-std</th>\n",
       "      <th>Oracle_Accuracy</th>\n",
       "      <th>Oracle_Accuracy-std</th>\n",
       "    </tr>\n",
       "  </thead>\n",
       "  <tbody>\n",
       "    <tr>\n",
       "      <th>0</th>\n",
       "      <td>0</td>\n",
       "      <td>dce_search</td>\n",
       "      <td>0.000888</td>\n",
       "      <td>0.0</td>\n",
       "      <td>4.0</td>\n",
       "      <td>0.0</td>\n",
       "      <td>101.0</td>\n",
       "      <td>0.0</td>\n",
       "      <td>1.0</td>\n",
       "      <td>0.0</td>\n",
       "      <td>0.578333</td>\n",
       "      <td>0.0</td>\n",
       "      <td>1.0</td>\n",
       "      <td>0.0</td>\n",
       "      <td>1.0</td>\n",
       "      <td>0.0</td>\n",
       "    </tr>\n",
       "  </tbody>\n",
       "</table>\n",
       "</div>"
      ],
      "text/plain": [
       "   Unnamed: 0   explainer   runtime  runtime-std  Graph_Edit_Distance  \\\n",
       "0           0  dce_search  0.000888          0.0                  4.0   \n",
       "\n",
       "   Graph_Edit_Distance-std  Oracle_Calls  Oracle_Calls-std  Correctness  \\\n",
       "0                      0.0         101.0               0.0          1.0   \n",
       "\n",
       "   Correctness-std  Sparsity  Sparsity-std  Fidelity  Fidelity-std  \\\n",
       "0              0.0  0.578333           0.0       1.0           0.0   \n",
       "\n",
       "   Oracle_Accuracy  Oracle_Accuracy-std  \n",
       "0              1.0                  0.0  "
      ]
     },
     "execution_count": 11,
     "metadata": {},
     "output_type": "execute_result"
    }
   ],
   "source": [
    "import pandas as pd\n",
    "results_table = pd.read_csv(stats_folder + 'squares-triangles-trisqr_custom_oracle.csv')\n",
    "results_table"
   ]
  }
 ],
 "metadata": {
  "kernelspec": {
   "display_name": "Python 3",
   "language": "python",
   "name": "python3"
  },
  "language_info": {
   "codemirror_mode": {
    "name": "ipython",
    "version": 3
   },
   "file_extension": ".py",
   "mimetype": "text/x-python",
   "name": "python",
   "nbconvert_exporter": "python",
   "pygments_lexer": "ipython3",
   "version": "3.8.10"
  },
  "orig_nbformat": 4,
  "vscode": {
   "interpreter": {
    "hash": "916dbcbb3f70747c44a77c7bcd40155683ae19c65e1c03b4aa3499c5328201f1"
   }
  }
 },
 "nbformat": 4,
 "nbformat_minor": 2
}
