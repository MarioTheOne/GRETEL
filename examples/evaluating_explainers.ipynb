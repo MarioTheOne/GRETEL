{
 "cells": [
  {
   "cell_type": "markdown",
   "metadata": {},
   "source": [
    "# Using GRETEL\n",
    "### Evaluating a counterfactual explanation method on ASD dataset"
   ]
  },
  {
   "cell_type": "markdown",
   "metadata": {},
   "source": [
    "### Setting the config file path"
   ]
  },
  {
   "cell_type": "code",
   "execution_count": 1,
   "metadata": {},
   "outputs": [],
   "source": [
    "import sys\n",
    "import os\n",
    "module_path = os.path.abspath(os.path.join('..'))\n",
    "sys.path.append(module_path)"
   ]
  },
  {
   "cell_type": "code",
   "execution_count": 2,
   "metadata": {},
   "outputs": [
    {
     "name": "stderr",
     "output_type": "stream",
     "text": [
      "2022-06-08 16:10:57.885534: W tensorflow/stream_executor/platform/default/dso_loader.cc:64] Could not load dynamic library 'libcudart.so.11.0'; dlerror: libcudart.so.11.0: cannot open shared object file: No such file or directory; LD_LIBRARY_PATH: /opt/gridengine/lib/lx-amd64:/opt/openmpi/lib\n",
      "2022-06-08 16:10:57.885574: I tensorflow/stream_executor/cuda/cudart_stub.cc:29] Ignore above cudart dlerror if you do not have a GPU set up on your machine.\n"
     ]
    }
   ],
   "source": [
    "from src.evaluation.evaluator_manager import EvaluatorManager\n",
    "\n",
    "config_file_path = '/NFSHOME/mprado/CODE/GRETEL/examples/config/config_autism_custom-oracle_dce.json'\n",
    "output_file_path = '/NFSHOME/mprado/CODE/GRETEL/output/asd_custom_oracle/DCESearchExplainer/results_run-0.json'"
   ]
  },
  {
   "cell_type": "markdown",
   "metadata": {},
   "source": [
    "### Creating the Evaluator Manager"
   ]
  },
  {
   "cell_type": "code",
   "execution_count": 3,
   "metadata": {},
   "outputs": [],
   "source": [
    "# The run number is a way to differentiate many runs of the same configurations\n",
    "eval_manager = EvaluatorManager(config_file_path, run_number=0)"
   ]
  },
  {
   "cell_type": "markdown",
   "metadata": {},
   "source": [
    "### Creating the Evaluators"
   ]
  },
  {
   "cell_type": "code",
   "execution_count": 4,
   "metadata": {},
   "outputs": [],
   "source": [
    "eval_manager.create_evaluators()"
   ]
  },
  {
   "cell_type": "markdown",
   "metadata": {},
   "source": [
    "### Evaluating the DCE Explainer on ASD dataset"
   ]
  },
  {
   "cell_type": "code",
   "execution_count": 5,
   "metadata": {},
   "outputs": [],
   "source": [
    "eval_manager.evaluate()"
   ]
  },
  {
   "cell_type": "markdown",
   "metadata": {},
   "source": [
    "After executing the previous steps, inside output/asd_custom_oracle/DCESearchExplainer/ should be located a file called results_run-0.json with the results"
   ]
  },
  {
   "cell_type": "code",
   "execution_count": 6,
   "metadata": {},
   "outputs": [
    {
     "data": {
      "text/plain": [
       "'{\"config\": {\"dataset\": {\"name\": \"autism\", \"parameters\": {}}, \"oracle\": {\"name\": \"asd_custom_oracle\", \"parameters\": {}}, \"explainer\": {\"name\": \"dce_search\", \"parameters\": {\"graph_distance\": {\"name\": \"graph_edit_distance\", \"parameters\": {}}}}, \"metrics\": [{\"name\": \"graph_edit_distance\", \"parameters\": {}}, {\"name\": \"oracle_calls\", \"parameters\": {}}, {\"name\": \"correctness\", \"parameters\": {}}, {\"name\": \"sparsity\", \"parameters\": {}}, {\"name\": \"fidelity\", \"parameters\": {}}, {\"name\": \"oracle_accuracy\", \"parameters\": {}}]}, \"runtime\": [0.12464284896850586, 0.06409883499145508, 0.06409287452697754, 0.06414198875427246, 0.06434822082519531, 0.06413102149963379, 0.059610843658447266, 0.0643610954284668, 0.06401562690734863, 0.06424832344055176, 0.059923648834228516, 0.05990147590637207, 0.06484818458557129, 0.06450462341308594, 0.05979156494140625, 0.06449222564697266, 0.06415820121765137, 0.06438541412353516, 0.06420207023620605, 0.06380248069763184, 0.06392693519592285, 0.05915498733520508, 0.06384563446044922, 0.06414198875427246, 0.06403899192810059, 0.06329655647277832, 0.05907917022705078, 0.06409478187561035, 0.059177398681640625, 0.06360769271850586, 0.06366133689880371, 0.06415200233459473, 0.059969425201416016, 0.06448030471801758, 0.06351757049560547, 0.06393790245056152, 0.06411147117614746, 0.0594630241394043, 0.06402873992919922, 0.06412172317504883, 0.059592247009277344, 0.05961418151855469, 0.06384515762329102, 0.06415700912475586, 0.05970573425292969, 0.06355118751525879, 0.06370854377746582, 0.06372833251953125, 0.0640099048614502, 0.05952858924865723, 0.0635061264038086, 0.06344246864318848, 0.05936241149902344, 0.05962252616882324, 0.059468984603881836, 0.06435608863830566, 0.05968952178955078, 0.06403970718383789, 0.0599973201751709, 0.05964779853820801, 0.06432485580444336, 0.05937838554382324, 0.05919194221496582, 0.05940413475036621, 0.05931687355041504, 0.05939292907714844, 0.059517621994018555, 0.059188127517700195, 0.05909132957458496, 0.05923199653625488, 0.06373119354248047, 0.0600132942199707, 0.05920600891113281, 0.05916428565979004, 0.05957627296447754, 0.05944085121154785, 0.05928158760070801, 0.05933666229248047, 0.05936241149902344, 0.05934405326843262, 0.06385302543640137, 0.05933737754821777, 0.059461116790771484, 0.059214115142822266, 0.05954718589782715, 0.05915260314941406, 0.059565067291259766, 0.059351444244384766, 0.059127092361450195, 0.06381344795227051, 0.05948901176452637, 0.058901309967041016, 0.0589599609375, 0.05916142463684082, 0.05893087387084961, 0.06390738487243652, 0.0592961311340332, 0.05982637405395508, 0.0641176700592041, 0.05979657173156738, 0.06432533264160156], \"Graph_Edit_Distance\": [1022.0, 1012.0, 1033.0, 968.0, 989.0, 963.0, 1007.0, 1020.0, 998.0, 1015.0, 1017.0, 1026.0, 1057.0, 998.0, 968.0, 1037.0, 972.0, 1003.0, 980.0, 1010.0, 1004.0, 998.0, 1003.0, 1013.0, 979.0, 958.0, 1011.0, 1008.0, 1004.0, 993.0, 993.0, 997.0, 968.0, 1050.0, 985.0, 1035.0, 1027.0, 1041.0, 1012.0, 1058.0, 980.0, 1070.0, 1050.0, 996.0, 1045.0, 968.0, 1019.0, 994.0, 968.0, 1003.0, 1022.0, 1008.0, 1048.0, 1035.0, 1007.0, 1043.0, 1034.0, 1008.0, 1036.0, 1017.0, 1007.0, 1090.0, 1003.0, 996.0, 997.0, 1001.0, 1035.0, 1001.0, 1018.0, 1023.0, 989.0, 1055.0, 958.0, 1001.0, 1017.0, 1003.0, 1016.0, 1044.0, 1020.0, 1043.0, 994.0, 1019.0, 1029.0, 1034.0, 1022.0, 972.0, 1036.0, 1042.0, 963.0, 1033.0, 1011.0, 1026.0, 1019.0, 1005.0, 985.0, 1040.0, 1020.0, 1030.0, 1016.0, 998.0, 987.0], \"Oracle_Calls\": [102, 102, 102, 102, 102, 102, 102, 102, 102, 102, 102, 102, 102, 102, 102, 102, 102, 102, 102, 102, 102, 102, 102, 102, 102, 102, 102, 102, 102, 102, 102, 102, 102, 102, 102, 102, 102, 102, 102, 102, 102, 102, 102, 102, 102, 102, 102, 102, 102, 102, 102, 102, 102, 102, 102, 102, 102, 102, 102, 102, 102, 102, 102, 102, 102, 102, 102, 102, 102, 102, 102, 102, 102, 102, 102, 102, 102, 102, 102, 102, 102, 102, 102, 102, 102, 102, 102, 102, 102, 102, 102, 102, 102, 102, 102, 102, 102, 102, 102, 102, 102], \"Correctness\": [1, 1, 1, 1, 1, 1, 1, 1, 1, 1, 1, 1, 1, 1, 1, 1, 1, 1, 1, 1, 1, 1, 1, 1, 1, 1, 1, 1, 1, 1, 1, 1, 1, 1, 1, 1, 1, 1, 1, 1, 1, 1, 1, 1, 1, 1, 1, 1, 1, 1, 1, 1, 1, 1, 1, 1, 1, 1, 1, 1, 1, 1, 1, 1, 1, 1, 1, 1, 1, 1, 1, 1, 1, 1, 1, 1, 1, 1, 1, 1, 1, 1, 1, 1, 1, 1, 1, 1, 1, 1, 1, 1, 1, 1, 1, 1, 1, 1, 1, 1, 1], \"Sparsity\": [1.3153153153153154, 1.295774647887324, 1.3520942408376964, 1.2522639068564037, 1.2728442728442728, 1.2314578005115089, 1.297680412371134, 1.3076923076923077, 1.2961038961038962, 1.3096774193548386, 1.317357512953368, 1.3204633204633205, 1.3638709677419354, 1.2977893368010402, 1.2720105124835743, 1.3415265200517466, 1.2857142857142858, 1.3162729658792651, 1.2596401028277635, 1.3116883116883118, 1.2904884318766068, 1.2778489116517286, 1.3025974025974025, 1.2953964194373402, 1.2681347150259068, 1.255570117955439, 1.3198433420365536, 1.290653008962868, 1.3107049608355092, 1.3031496062992125, 1.306578947368421, 1.2881136950904393, 1.2620599739243807, 1.3513513513513513, 1.2808842652795838, 1.332046332046332, 1.3217503217503217, 1.343225806451613, 1.3024453024453024, 1.3651612903225807, 1.2694300518134716, 1.3665389527458494, 1.3601036269430051, 1.2901554404145077, 1.3501291989664084, 1.2753623188405796, 1.3268229166666667, 1.2892347600518808, 1.2522639068564037, 1.2826086956521738, 1.3572377158034528, 1.3193717277486912, 1.352258064516129, 1.335483870967742, 1.2993548387096774, 1.337179487179487, 1.3376455368693403, 1.3176470588235294, 1.336774193548387, 1.3294117647058823, 1.3077922077922077, 1.4046391752577319, 1.3232189973614776, 1.2918287937743191, 1.281491002570694, 1.311926605504587, 1.3372093023255813, 1.3084967320261438, 1.3342070773263435, 1.3285714285714285, 1.2894393741851369, 1.3525641025641026, 1.2457737321196358, 1.3136482939632546, 1.30719794344473, 1.3059895833333333, 1.3333333333333333, 1.3367477592829706, 1.3195342820181113, 1.3406169665809768, 1.2993464052287582, 1.3114543114543114, 1.3277419354838709, 1.3428571428571427, 1.3035714285714286, 1.2755905511811023, 1.3248081841432224, 1.339331619537275, 1.2621231979030145, 1.3277634961439588, 1.3011583011583012, 1.3482260183968462, 1.337270341207349, 1.3018134715025906, 1.309840425531915, 1.3282247765006385, 1.3385826771653544, 1.3154533844189016, 1.3075933075933075, 1.2977893368010402, 1.2768434670116429], \"Fidelity\": [-1, 1, 1, 1, 1, 1, -1, 1, 1, 1, -1, -1, 1, 1, -1, 1, 1, 1, 1, 1, 1, -1, 1, 1, 1, 1, -1, 1, -1, 1, 1, 1, -1, 1, 1, 1, 1, -1, 1, 1, -1, -1, 1, 1, -1, 1, 1, 1, 1, -1, 1, 1, 1, 1, 1, -1, 1, -1, 1, 1, -1, 1, 1, 1, 1, 1, 1, 1, 1, 1, -1, 1, 1, 1, 1, 1, 1, 1, 1, 1, -1, 1, 1, 1, 1, 1, 1, 1, 1, -1, 1, 1, 1, 1, 1, -1, 1, 1, -1, 1, -1], \"Oracle_Accuracy\": [0, 1, 1, 1, 1, 1, 0, 1, 1, 1, 0, 0, 1, 1, 0, 1, 1, 1, 1, 1, 1, 0, 1, 1, 1, 1, 0, 1, 0, 1, 1, 1, 0, 1, 1, 1, 1, 0, 1, 1, 0, 0, 1, 1, 0, 1, 1, 1, 1, 0, 1, 1, 1, 1, 1, 0, 1, 0, 1, 1, 0, 1, 1, 1, 1, 1, 1, 1, 1, 1, 0, 1, 1, 1, 1, 1, 1, 1, 1, 1, 0, 1, 1, 1, 1, 1, 1, 1, 1, 0, 1, 1, 1, 1, 1, 0, 1, 1, 0, 1, 0]}'"
      ]
     },
     "execution_count": 6,
     "metadata": {},
     "output_type": "execute_result"
    }
   ],
   "source": [
    "with open(output_file_path, 'r') as rs_json_reader:\n",
    "                results = rs_json_reader.read()\n",
    "\n",
    "results"
   ]
  },
  {
   "cell_type": "markdown",
   "metadata": {},
   "source": [
    " Generating tables with the aggregated results"
   ]
  },
  {
   "cell_type": "code",
   "execution_count": 7,
   "metadata": {},
   "outputs": [],
   "source": [
    "from src.data_analysis.data_analyzer import DataAnalyzer\n",
    "\n",
    "dtan = DataAnalyzer('/NFSHOME/mprado/CODE/GRETEL/output', '/NFSHOME/mprado/CODE/GRETEL/stats')\n",
    "dtan.aggregate_data()\n",
    "dtan.aggregate_runs()\n",
    "dtan.create_tables_by_oracle_dataset()"
   ]
  },
  {
   "cell_type": "code",
   "execution_count": 8,
   "metadata": {},
   "outputs": [
    {
     "data": {
      "text/html": [
       "<div>\n",
       "<style scoped>\n",
       "    .dataframe tbody tr th:only-of-type {\n",
       "        vertical-align: middle;\n",
       "    }\n",
       "\n",
       "    .dataframe tbody tr th {\n",
       "        vertical-align: top;\n",
       "    }\n",
       "\n",
       "    .dataframe thead th {\n",
       "        text-align: right;\n",
       "    }\n",
       "</style>\n",
       "<table border=\"1\" class=\"dataframe\">\n",
       "  <thead>\n",
       "    <tr style=\"text-align: right;\">\n",
       "      <th></th>\n",
       "      <th>Unnamed: 0</th>\n",
       "      <th>explainer</th>\n",
       "      <th>runtime</th>\n",
       "      <th>Graph_Edit_Distance</th>\n",
       "      <th>Oracle_Calls</th>\n",
       "      <th>Correctness</th>\n",
       "      <th>Sparsity</th>\n",
       "      <th>Fidelity</th>\n",
       "      <th>Oracle_Accuracy</th>\n",
       "    </tr>\n",
       "  </thead>\n",
       "  <tbody>\n",
       "    <tr>\n",
       "      <th>0</th>\n",
       "      <td>0</td>\n",
       "      <td>dce_search</td>\n",
       "      <td>0.062215</td>\n",
       "      <td>1011.693069</td>\n",
       "      <td>102.000000</td>\n",
       "      <td>1.0</td>\n",
       "      <td>1.311108</td>\n",
       "      <td>0.544554</td>\n",
       "      <td>0.772277</td>\n",
       "    </tr>\n",
       "    <tr>\n",
       "      <th>1</th>\n",
       "      <td>1</td>\n",
       "      <td>dummy_explainer</td>\n",
       "      <td>0.001329</td>\n",
       "      <td>1077.356436</td>\n",
       "      <td>2.534653</td>\n",
       "      <td>1.0</td>\n",
       "      <td>1.396227</td>\n",
       "      <td>0.544554</td>\n",
       "      <td>0.772277</td>\n",
       "    </tr>\n",
       "  </tbody>\n",
       "</table>\n",
       "</div>"
      ],
      "text/plain": [
       "   Unnamed: 0        explainer   runtime  Graph_Edit_Distance  Oracle_Calls  \\\n",
       "0           0       dce_search  0.062215          1011.693069    102.000000   \n",
       "1           1  dummy_explainer  0.001329          1077.356436      2.534653   \n",
       "\n",
       "   Correctness  Sparsity  Fidelity  Oracle_Accuracy  \n",
       "0          1.0  1.311108  0.544554         0.772277  \n",
       "1          1.0  1.396227  0.544554         0.772277  "
      ]
     },
     "execution_count": 8,
     "metadata": {},
     "output_type": "execute_result"
    }
   ],
   "source": [
    "import pandas as pd\n",
    "results_table = pd.read_csv('/NFSHOME/mprado/CODE/GRETEL/stats/autism-asd_custom_oracle.csv')\n",
    "results_table"
   ]
  }
 ],
 "metadata": {
  "interpreter": {
   "hash": "88322b12a140a80a1f1aeee35a26a90b248c7483a7bd5d3291ac713b57c394e7"
  },
  "kernelspec": {
   "display_name": "Python 3.7.13 ('XAI37')",
   "language": "python",
   "name": "python3"
  },
  "language_info": {
   "codemirror_mode": {
    "name": "ipython",
    "version": 3
   },
   "file_extension": ".py",
   "mimetype": "text/x-python",
   "name": "python",
   "nbconvert_exporter": "python",
   "pygments_lexer": "ipython3",
   "version": "3.7.13"
  },
  "orig_nbformat": 4
 },
 "nbformat": 4,
 "nbformat_minor": 2
}
