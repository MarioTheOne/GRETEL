{
 "cells": [
  {
   "cell_type": "markdown",
   "metadata": {},
   "source": [
    "# Adding a New Explainer to GRETEL"
   ]
  },
  {
   "cell_type": "code",
   "execution_count": 1,
   "metadata": {},
   "outputs": [],
   "source": [
    "import sys\n",
    "import os\n",
    "module_path = os.path.abspath(os.path.join('..'))\n",
    "sys.path.append(module_path)"
   ]
  },
  {
   "cell_type": "code",
   "execution_count": 2,
   "metadata": {},
   "outputs": [
    {
     "name": "stderr",
     "output_type": "stream",
     "text": [
      "2023-02-09 22:00:19.042885: I tensorflow/core/platform/cpu_feature_guard.cc:193] This TensorFlow binary is optimized with oneAPI Deep Neural Network Library (oneDNN) to use the following CPU instructions in performance-critical operations:  AVX2 AVX512F AVX512_VNNI FMA\n",
      "To enable them in other operations, rebuild TensorFlow with the appropriate compiler flags.\n",
      "2023-02-09 22:00:19.275466: I tensorflow/core/util/port.cc:104] oneDNN custom operations are on. You may see slightly different numerical results due to floating-point round-off errors from different computation orders. To turn them off, set the environment variable `TF_ENABLE_ONEDNN_OPTS=0`.\n"
     ]
    },
    {
     "data": {
      "text/plain": [
       "(True, False, True, True, True)"
      ]
     },
     "execution_count": 2,
     "metadata": {},
     "output_type": "execute_result"
    }
   ],
   "source": [
    "from src.evaluation.evaluator_manager import EvaluatorManager\n",
    "\n",
    "config_file_path = module_path + '/examples/config/config_autism_custom-oracle_dummy_explainer.json'\n",
    "output_file_path = module_path + '/examples/output/asd_custom_oracle/DummyExplainer/results_run-0.json'\n",
    "output_folder = module_path + '/examples/output/'\n",
    "stats_folder = module_path + '/examples/stats/'\n",
    "ex_store_path = module_path + '/data/explainers/'\n",
    "\n",
    "# Verifying that the paths are valid\n",
    "(os.path.isfile(config_file_path), os.path.isfile(output_file_path), os.path.isdir(output_folder), os.path.isdir(stats_folder), \n",
    "os.path.isdir(ex_store_path))"
   ]
  },
  {
   "cell_type": "markdown",
   "metadata": {},
   "source": [
    "## Creating a new Explainer"
   ]
  },
  {
   "cell_type": "markdown",
   "metadata": {},
   "source": [
    " Creating the explainer"
   ]
  },
  {
   "cell_type": "code",
   "execution_count": 3,
   "metadata": {},
   "outputs": [],
   "source": [
    "from src.evaluation.evaluation_metric_base import EvaluationMetric\n",
    "from src.explainer.explainer_base import Explainer\n",
    "from src.dataset.dataset_base import Dataset\n",
    "from src.oracle.oracle_base import Oracle\n",
    "\n",
    "class DummyExplainer(Explainer):\n",
    "    \"\"\"This Dummy Explainer search for the first counterfactual instance in the dataset and returns it\"\"\"\n",
    "\n",
    "    def __init__(self, id, config_dict=None) -> None:\n",
    "        super().__init__(id, config_dict)\n",
    "        self._name = 'DummyExplainer'\n",
    "\n",
    "\n",
    "    def explain(self, instance, oracle: Oracle, dataset: Dataset):\n",
    "        l_input_inst = oracle.predict(instance)\n",
    "\n",
    "        # if the method does not find a counterfactual example returns the original graph\n",
    "        min_counterfactual = instance\n",
    "\n",
    "        for d_inst in dataset.instances:\n",
    "            \n",
    "            l_data_inst = oracle.predict(d_inst)\n",
    "\n",
    "            if (l_input_inst != l_data_inst):\n",
    "                min_counterfactual = d_inst\n",
    "\n",
    "                return min_counterfactual\n",
    "        \n",
    "        return min_counterfactual\n"
   ]
  },
  {
   "cell_type": "markdown",
   "metadata": {},
   "source": [
    "Creating a custom ExplainerFactory that extends the base class with the new explainer"
   ]
  },
  {
   "cell_type": "code",
   "execution_count": 4,
   "metadata": {},
   "outputs": [],
   "source": [
    "from src.explainer.explainer_factory import ExplainerFactory\n",
    "from src.evaluation.evaluation_metric_factory import EvaluationMetricFactory\n",
    "\n",
    "class CustomExplainerFactory(ExplainerFactory):\n",
    "\n",
    "    def __init__(self, explainer_store_path):\n",
    "        super().__init__(explainer_store_path)\n",
    "\n",
    "    def get_explainer_by_name(self, explainer_dict, metric_factory : EvaluationMetricFactory) -> Explainer:\n",
    "        explainer_name = explainer_dict['name']\n",
    "\n",
    "        # Check if the explainer is DCE Search\n",
    "        if explainer_name == 'dummy_explainer':\n",
    "            # Returning the explainer\n",
    "            return self.get_dummy_explainer(explainer_dict)\n",
    "        else:\n",
    "            return super().get_explainer_by_name(explainer_dict, metric_factory)\n",
    "\n",
    "    def get_dummy_explainer(self, config_dict=None):\n",
    "        result = DummyExplainer(self._explainer_id_counter, config_dict)\n",
    "        self._explainer_id_counter += 1\n",
    "        return result\n",
    "            \n"
   ]
  },
  {
   "cell_type": "code",
   "execution_count": 5,
   "metadata": {},
   "outputs": [],
   "source": [
    "ex_factory = CustomExplainerFactory(ex_store_path)\n",
    "\n",
    "# The run number is a way to differentiate many runs of the same configurations\n",
    "eval_manager = EvaluatorManager(config_file_path, run_number=0, \n",
    "                                dataset_factory=None, \n",
    "                                embedder_factory=None, \n",
    "                                oracle_factory=None, \n",
    "                                explainer_factory=ex_factory, \n",
    "                                evaluation_metric_factory=None)\n",
    "eval_manager.create_evaluators()\n",
    "eval_manager.evaluate()"
   ]
  },
  {
   "cell_type": "code",
   "execution_count": 6,
   "metadata": {},
   "outputs": [
    {
     "data": {
      "text/plain": [
       "'{\"config\": {\"dataset\": {\"name\": \"autism\", \"parameters\": {}}, \"oracle\": {\"name\": \"asd_custom_oracle\", \"parameters\": {}}, \"explainer\": {\"name\": \"dummy_explainer\", \"parameters\": {}}, \"metrics\": [{\"name\": \"graph_edit_distance\", \"parameters\": {}}, {\"name\": \"oracle_calls\", \"parameters\": {}}, {\"name\": \"correctness\", \"parameters\": {}}, {\"name\": \"sparsity\", \"parameters\": {}}, {\"name\": \"fidelity\", \"parameters\": {}}, {\"name\": \"oracle_accuracy\", \"parameters\": {}}]}, \"runtime\": [0.002505779266357422, 0.001361846923828125, 0.0005340576171875, 0.0012595653533935547, 0.002105236053466797, 0.0014488697052001953, 0.0012538433074951172, 0.0012094974517822266, 0.0022635459899902344, 0.0018124580383300781, 0.0016002655029296875, 0.0013415813446044922, 0.0012216567993164062, 0.0012845993041992188, 0.0010364055633544922, 0.0016109943389892578, 0.0013437271118164062, 0.0018134117126464844, 0.0013954639434814453, 0.0012295246124267578, 0.0015778541564941406, 0.0014688968658447266, 0.005125761032104492, 0.0023889541625976562, 0.0013043880462646484, 0.0015125274658203125, 0.001481771469116211, 0.0008778572082519531, 0.002741098403930664, 0.0016417503356933594, 0.0015423297882080078, 0.0018928050994873047, 0.001332998275756836, 0.0012333393096923828, 0.0010530948638916016, 0.0013082027435302734, 0.001207113265991211, 0.0010008811950683594, 0.001750946044921875, 0.002622365951538086, 0.002595186233520508, 0.0017194747924804688, 0.0008435249328613281, 0.0015783309936523438, 0.001081705093383789, 0.0015132427215576172, 0.0010898113250732422, 0.0011417865753173828, 0.0014483928680419922, 0.0013086795806884766, 0.0010271072387695312, 0.00189971923828125, 0.0038721561431884766, 0.0008606910705566406, 0.0008695125579833984, 0.0013120174407958984, 0.002180814743041992, 0.0008404254913330078, 0.0021080970764160156, 0.0008628368377685547, 0.0012345314025878906, 0.001317739486694336, 0.0008540153503417969, 0.0019593238830566406, 0.0014224052429199219, 0.0012519359588623047, 0.0008423328399658203, 0.0014731884002685547, 0.001493692398071289, 0.001626729965209961, 0.0010209083557128906, 0.0018856525421142578, 0.0009291172027587891, 0.0009958744049072266, 0.0008094310760498047, 0.0017595291137695312, 0.0016326904296875, 0.00495147705078125, 0.0010671615600585938, 0.0008716583251953125, 0.0009369850158691406, 0.0023069381713867188, 0.0015985965728759766, 0.0009436607360839844, 0.0008389949798583984, 0.0009126663208007812, 0.0019092559814453125, 0.0009214878082275391, 0.0009698867797851562, 0.0009169578552246094, 0.0009291172027587891, 0.0008792877197265625, 0.00164031982421875, 0.0015909671783447266, 0.0010793209075927734, 0.0008351802825927734, 0.0008680820465087891, 0.0009853839874267578, 0.0008192062377929688, 0.0008568763732910156, 0.0018477439880371094], \"Graph_Edit_Distance\": [1038.0, 1074.0, 1038.0, 1077.0, 1071.0, 1040.0, 980.0, 1059.0, 1056.0, 1031.0, 1065.0, 1050.0, 1101.0, 1072.0, 1085.0, 1087.0, 1076.0, 1109.0, 1076.0, 1100.0, 1084.0, 1067.0, 1058.0, 1082.0, 1085.0, 1090.0, 1092.0, 1050.0, 1064.0, 1127.0, 1067.0, 1097.0, 1071.0, 1064.0, 1029.0, 1110.0, 1047.0, 1095.0, 1081.0, 1127.0, 1075.0, 1073.0, 1080.0, 1094.0, 1050.0, 1107.0, 1105.0, 1040.0, 1064.0, 1035.0, 1062.0, 1047.0, 1076.0, 1041.0, 993.0, 1047.0, 1052.0, 1040.0, 1055.0, 1085.0, 1075.0, 1045.0, 1066.0, 1062.0, 1099.0, 1090.0, 1060.0, 1069.0, 1088.0, 1065.0, 1084.0, 1087.0, 1061.0, 1071.0, 1073.0, 1074.0, 1079.0, 1063.0, 1070.0, 1055.0, 1082.0, 1081.0, 1056.0, 1116.0, 1034.0, 1055.0, 1068.0, 1044.0, 1065.0, 1112.0, 1060.0, 1070.0, 1050.0, 1087.0, 1028.0, 1077.0, 1026.0, 1059.0, 1081.0, 1047.0, 1065.0], \"Oracle_Calls\": [4, 4, 2, 4, 4, 4, 4, 4, 4, 4, 4, 4, 4, 4, 2, 4, 4, 4, 4, 4, 4, 4, 4, 4, 4, 4, 4, 2, 2, 4, 4, 4, 2, 4, 2, 4, 4, 2, 2, 4, 4, 4, 2, 4, 2, 4, 2, 2, 4, 2, 2, 4, 4, 2, 2, 4, 2, 2, 4, 2, 2, 2, 2, 2, 2, 4, 2, 2, 4, 4, 2, 2, 2, 2, 2, 2, 2, 2, 2, 2, 2, 4, 2, 2, 2, 2, 2, 2, 2, 2, 2, 2, 2, 4, 2, 2, 2, 2, 2, 2, 4], \"Correctness\": [1, 1, 1, 1, 1, 1, 1, 1, 1, 1, 1, 1, 1, 1, 1, 1, 1, 1, 1, 1, 1, 1, 1, 1, 1, 1, 1, 1, 1, 1, 1, 1, 1, 1, 1, 1, 1, 1, 1, 1, 1, 1, 1, 1, 1, 1, 1, 1, 1, 1, 1, 1, 1, 1, 1, 1, 1, 1, 1, 1, 1, 1, 1, 1, 1, 1, 1, 1, 1, 1, 1, 1, 1, 1, 1, 1, 1, 1, 1, 1, 1, 1, 1, 1, 1, 1, 1, 1, 1, 1, 1, 1, 1, 1, 1, 1, 1, 1, 1, 1, 1], \"Sparsity\": [1.3622047244094488, 1.3984375, 1.3445595854922279, 1.3932729624838291, 1.3783783783783783, 1.329923273657289, 1.2596401028277635, 1.377113133940182, 1.3894736842105264, 1.3372243839169908, 1.3777490297542043, 1.3888888888888888, 1.424320827943079, 1.3743589743589744, 1.4, 1.4435590969455512, 1.3974025974025974, 1.4199743918053778, 1.3974025974025974, 1.4397905759162304, 1.4225721784776904, 1.3732303732303732, 1.3669250645994833, 1.4015544041450778, 1.4, 1.39386189258312, 1.4181818181818182, 1.3601036269430051, 1.3746770025839794, 1.4504504504504505, 1.3732303732303732, 1.415483870967742, 1.3783783783783783, 1.3676092544987146, 1.3415906127770534, 1.4378238341968912, 1.3722149410222804, 1.4020486555697824, 1.3912483912483913, 1.4541935483870967, 1.3979193758127437, 1.4137022397891963, 1.4099216710182767, 1.431937172774869, 1.370757180156658, 1.4247104247104247, 1.4112388250319285, 1.3402061855670102, 1.378238341968912, 1.3600525624178712, 1.3580562659846547, 1.3405889884763125, 1.3830334190231361, 1.3397683397683398, 1.3014416775884665, 1.3474903474903475, 1.3418367346938775, 1.329923273657289, 1.3790849673202614, 1.4, 1.3906856403622252, 1.351875808538163, 1.3701799485861184, 1.3937007874015748, 1.4403669724770642, 1.4155844155844155, 1.3984168865435356, 1.3973856209150326, 1.3948717948717948, 1.3777490297542043, 1.4077922077922078, 1.4246395806028833, 1.3690322580645162, 1.3819354838709677, 1.380952380952381, 1.4094488188976377, 1.4104575163398694, 1.3575989782886335, 1.3824289405684755, 1.3508322663252241, 1.3907455012853471, 1.4130718954248367, 1.3678756476683938, 1.4381443298969072, 1.356955380577428, 1.3719115734720415, 1.4015748031496063, 1.3558441558441559, 1.3741935483870968, 1.4256410256410257, 1.3624678663239074, 1.3753213367609254, 1.3671875, 1.3882503192848021, 1.3670212765957446, 1.4152431011826545, 1.3464566929133859, 1.3664516129032258, 1.4057217165149545, 1.3579766536964981, 1.3885267275097783], \"Fidelity\": [1, 1, -1, 1, 1, 1, 1, 1, 1, 1, 1, 1, 1, 1, -1, 1, 1, 1, 1, 1, 1, 1, 1, 1, 1, 1, 1, -1, -1, 1, 1, 1, -1, 1, -1, 1, 1, -1, -1, 1, 1, 1, -1, 1, -1, 1, -1, -1, 1, -1, -1, 1, -1, 1, 1, -1, 1, 1, -1, 1, 1, 1, 1, 1, 1, -1, 1, 1, -1, -1, 1, 1, 1, 1, 1, 1, 1, 1, 1, 1, 1, -1, 1, 1, 1, 1, 1, 1, 1, 1, 1, 1, 1, -1, 1, 1, 1, 1, 1, 1, -1], \"Oracle_Accuracy\": [1, 1, 0, 1, 1, 1, 1, 1, 1, 1, 1, 1, 1, 1, 0, 1, 1, 1, 1, 1, 1, 1, 1, 1, 1, 1, 1, 0, 0, 1, 1, 1, 0, 1, 0, 1, 1, 0, 0, 1, 1, 1, 0, 1, 0, 1, 0, 0, 1, 0, 0, 1, 0, 1, 1, 0, 1, 1, 0, 1, 1, 1, 1, 1, 1, 0, 1, 1, 0, 0, 1, 1, 1, 1, 1, 1, 1, 1, 1, 1, 1, 0, 1, 1, 1, 1, 1, 1, 1, 1, 1, 1, 1, 0, 1, 1, 1, 1, 1, 1, 0]}'"
      ]
     },
     "execution_count": 6,
     "metadata": {},
     "output_type": "execute_result"
    }
   ],
   "source": [
    "with open(output_file_path, 'r') as rs_json_reader:\n",
    "                results = rs_json_reader.read()\n",
    "\n",
    "results"
   ]
  },
  {
   "cell_type": "code",
   "execution_count": 7,
   "metadata": {},
   "outputs": [],
   "source": [
    "from src.data_analysis.data_analyzer import DataAnalyzer\n",
    "\n",
    "dtan = DataAnalyzer(output_folder, stats_folder)\n",
    "dtan.aggregate_data()\n",
    "dtan.aggregate_runs()\n",
    "dtan.create_tables_by_oracle_dataset()"
   ]
  },
  {
   "cell_type": "code",
   "execution_count": 8,
   "metadata": {},
   "outputs": [
    {
     "data": {
      "text/html": [
       "<div>\n",
       "<style scoped>\n",
       "    .dataframe tbody tr th:only-of-type {\n",
       "        vertical-align: middle;\n",
       "    }\n",
       "\n",
       "    .dataframe tbody tr th {\n",
       "        vertical-align: top;\n",
       "    }\n",
       "\n",
       "    .dataframe thead th {\n",
       "        text-align: right;\n",
       "    }\n",
       "</style>\n",
       "<table border=\"1\" class=\"dataframe\">\n",
       "  <thead>\n",
       "    <tr style=\"text-align: right;\">\n",
       "      <th></th>\n",
       "      <th>Unnamed: 0</th>\n",
       "      <th>explainer</th>\n",
       "      <th>runtime</th>\n",
       "      <th>runtime-std</th>\n",
       "      <th>Graph_Edit_Distance</th>\n",
       "      <th>Graph_Edit_Distance-std</th>\n",
       "      <th>Oracle_Calls</th>\n",
       "      <th>Oracle_Calls-std</th>\n",
       "      <th>Correctness</th>\n",
       "      <th>Correctness-std</th>\n",
       "      <th>Sparsity</th>\n",
       "      <th>Sparsity-std</th>\n",
       "      <th>Fidelity</th>\n",
       "      <th>Fidelity-std</th>\n",
       "      <th>Oracle_Accuracy</th>\n",
       "      <th>Oracle_Accuracy-std</th>\n",
       "    </tr>\n",
       "  </thead>\n",
       "  <tbody>\n",
       "    <tr>\n",
       "      <th>0</th>\n",
       "      <td>0</td>\n",
       "      <td>dce_search</td>\n",
       "      <td>0.072224</td>\n",
       "      <td>0.0</td>\n",
       "      <td>1011.693069</td>\n",
       "      <td>0.0</td>\n",
       "      <td>102.000000</td>\n",
       "      <td>0.0</td>\n",
       "      <td>1.0</td>\n",
       "      <td>0.0</td>\n",
       "      <td>1.311108</td>\n",
       "      <td>0.0</td>\n",
       "      <td>0.544554</td>\n",
       "      <td>0.0</td>\n",
       "      <td>0.772277</td>\n",
       "      <td>0.0</td>\n",
       "    </tr>\n",
       "    <tr>\n",
       "      <th>1</th>\n",
       "      <td>1</td>\n",
       "      <td>dummy_explainer</td>\n",
       "      <td>0.001474</td>\n",
       "      <td>0.0</td>\n",
       "      <td>1068.237624</td>\n",
       "      <td>0.0</td>\n",
       "      <td>2.930693</td>\n",
       "      <td>0.0</td>\n",
       "      <td>1.0</td>\n",
       "      <td>0.0</td>\n",
       "      <td>1.384470</td>\n",
       "      <td>0.0</td>\n",
       "      <td>0.544554</td>\n",
       "      <td>0.0</td>\n",
       "      <td>0.772277</td>\n",
       "      <td>0.0</td>\n",
       "    </tr>\n",
       "  </tbody>\n",
       "</table>\n",
       "</div>"
      ],
      "text/plain": [
       "   Unnamed: 0        explainer   runtime  runtime-std  Graph_Edit_Distance  \\\n",
       "0           0       dce_search  0.072224          0.0          1011.693069   \n",
       "1           1  dummy_explainer  0.001474          0.0          1068.237624   \n",
       "\n",
       "   Graph_Edit_Distance-std  Oracle_Calls  Oracle_Calls-std  Correctness  \\\n",
       "0                      0.0    102.000000               0.0          1.0   \n",
       "1                      0.0      2.930693               0.0          1.0   \n",
       "\n",
       "   Correctness-std  Sparsity  Sparsity-std  Fidelity  Fidelity-std  \\\n",
       "0              0.0  1.311108           0.0  0.544554           0.0   \n",
       "1              0.0  1.384470           0.0  0.544554           0.0   \n",
       "\n",
       "   Oracle_Accuracy  Oracle_Accuracy-std  \n",
       "0         0.772277                  0.0  \n",
       "1         0.772277                  0.0  "
      ]
     },
     "execution_count": 8,
     "metadata": {},
     "output_type": "execute_result"
    }
   ],
   "source": [
    "import pandas as pd\n",
    "results_table = pd.read_csv(module_path + '/examples/stats/autism-asd_custom_oracle.csv')\n",
    "results_table"
   ]
  },
  {
   "cell_type": "markdown",
   "metadata": {},
   "source": []
  }
 ],
 "metadata": {
  "kernelspec": {
   "display_name": "Python 3",
   "language": "python",
   "name": "python3"
  },
  "language_info": {
   "codemirror_mode": {
    "name": "ipython",
    "version": 3
   },
   "file_extension": ".py",
   "mimetype": "text/x-python",
   "name": "python",
   "nbconvert_exporter": "python",
   "pygments_lexer": "ipython3",
   "version": "3.8.10"
  },
  "orig_nbformat": 4,
  "vscode": {
   "interpreter": {
    "hash": "916dbcbb3f70747c44a77c7bcd40155683ae19c65e1c03b4aa3499c5328201f1"
   }
  }
 },
 "nbformat": 4,
 "nbformat_minor": 2
}
