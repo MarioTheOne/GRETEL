{
 "cells": [
  {
   "cell_type": "markdown",
   "metadata": {},
   "source": [
    "# Adding a New Explainer to GRETEL"
   ]
  },
  {
   "cell_type": "code",
   "execution_count": 9,
   "metadata": {},
   "outputs": [],
   "source": [
    "import sys\n",
    "import os\n",
    "module_path = os.path.abspath(os.path.join('..'))\n",
    "sys.path.append(module_path)"
   ]
  },
  {
   "cell_type": "code",
   "execution_count": 10,
   "metadata": {},
   "outputs": [
    {
     "data": {
      "text/plain": [
       "(True, True, True, True, True)"
      ]
     },
     "execution_count": 10,
     "metadata": {},
     "output_type": "execute_result"
    }
   ],
   "source": [
    "from src.evaluation.evaluator_manager import EvaluatorManager\n",
    "\n",
    "config_file_path = module_path + '/examples/config/config_autism_custom-oracle_dummy_explainer.json'\n",
    "output_file_path = module_path + '/examples/output/asd_custom_oracle/DummyExplainer/results_run-0.json'\n",
    "output_folder = module_path + '/examples/output/'\n",
    "stats_folder = module_path + '/examples/stats/'\n",
    "ex_store_path = module_path + '/data/explainers/'\n",
    "\n",
    "# Verifying that the paths are valid\n",
    "(os.path.isfile(config_file_path), os.path.isfile(output_file_path), os.path.isdir(output_folder), os.path.isdir(stats_folder), \n",
    "os.path.isdir(ex_store_path))"
   ]
  },
  {
   "cell_type": "markdown",
   "metadata": {},
   "source": [
    "## Creating a new Explainer"
   ]
  },
  {
   "cell_type": "markdown",
   "metadata": {},
   "source": [
    " Creating the explainer"
   ]
  },
  {
   "cell_type": "code",
   "execution_count": 11,
   "metadata": {},
   "outputs": [],
   "source": [
    "from src.evaluation.evaluation_metric_base import EvaluationMetric\n",
    "from src.core.explainer_base import Explainer\n",
    "from src.dataset.dataset_base import Dataset\n",
    "from src.oracle.oracle_base import Oracle\n",
    "\n",
    "class DummyExplainer(Explainer):\n",
    "    \"\"\"This Dummy Explainer search for the first counterfactual instance in the dataset and returns it\"\"\"\n",
    "\n",
    "    def __init__(self, id, config_dict=None) -> None:\n",
    "        super().__init__(id, config_dict)\n",
    "        self._name = 'DummyExplainer'\n",
    "\n",
    "\n",
    "    def explain(self, instance, oracle: Oracle, dataset: Dataset):\n",
    "        l_input_inst = oracle.predict(instance)\n",
    "\n",
    "        # if the method does not find a counterfactual example returns the original graph\n",
    "        min_counterfactual = instance\n",
    "\n",
    "        for d_inst in dataset.instances:\n",
    "            \n",
    "            l_data_inst = oracle.predict(d_inst)\n",
    "\n",
    "            if (l_input_inst != l_data_inst):\n",
    "                min_counterfactual = d_inst\n",
    "\n",
    "                return min_counterfactual\n",
    "        \n",
    "        return min_counterfactual\n"
   ]
  },
  {
   "cell_type": "markdown",
   "metadata": {},
   "source": [
    "Creating a custom ExplainerFactory that extends the base class with the new explainer"
   ]
  },
  {
   "cell_type": "code",
   "execution_count": 12,
   "metadata": {},
   "outputs": [],
   "source": [
    "from src.explainer.explainer_factory import ExplainerFactory\n",
    "from src.evaluation.evaluation_metric_factory import EvaluationMetricFactory\n",
    "\n",
    "class CustomExplainerFactory(ExplainerFactory):\n",
    "\n",
    "    def __init__(self, explainer_store_path):\n",
    "        super().__init__(explainer_store_path)\n",
    "\n",
    "    def get_explainer_by_name(self, explainer_dict, metric_factory : EvaluationMetricFactory) -> Explainer:\n",
    "        explainer_name = explainer_dict['name']\n",
    "\n",
    "        # Check if the explainer is DCE Search\n",
    "        if explainer_name == 'dummy_explainer':\n",
    "            # Returning the explainer\n",
    "            return self.get_dummy_explainer(explainer_dict)\n",
    "        else:\n",
    "            return super().get_explainer_by_name(explainer_dict, metric_factory)\n",
    "\n",
    "    def get_dummy_explainer(self, config_dict=None):\n",
    "        result = DummyExplainer(self._explainer_id_counter, config_dict)\n",
    "        self._explainer_id_counter += 1\n",
    "        return result\n",
    "            \n"
   ]
  },
  {
   "cell_type": "code",
   "execution_count": 13,
   "metadata": {},
   "outputs": [],
   "source": [
    "ex_factory = CustomExplainerFactory(ex_store_path)\n",
    "\n",
    "# The run number is a way to differentiate many runs of the same configurations\n",
    "eval_manager = EvaluatorManager(config_file_path, run_number=0, \n",
    "                                dataset_factory=None, \n",
    "                                embedder_factory=None, \n",
    "                                oracle_factory=None, \n",
    "                                explainer_factory=ex_factory, \n",
    "                                evaluation_metric_factory=None)\n",
    "eval_manager.create_evaluators()\n",
    "eval_manager.evaluate()"
   ]
  },
  {
   "cell_type": "code",
   "execution_count": 14,
   "metadata": {},
   "outputs": [
    {
     "data": {
      "text/plain": [
       "'{\"config\": {\"dataset\": {\"name\": \"autism\", \"parameters\": {}}, \"oracle\": {\"name\": \"asd_custom_oracle\", \"parameters\": {}}, \"explainer\": {\"name\": \"dummy_explainer\", \"parameters\": {}}, \"metrics\": [{\"name\": \"graph_edit_distance\", \"parameters\": {}}, {\"name\": \"oracle_calls\", \"parameters\": {}}, {\"name\": \"correctness\", \"parameters\": {}}, {\"name\": \"sparsity\", \"parameters\": {}}, {\"name\": \"fidelity\", \"parameters\": {}}, {\"name\": \"oracle_accuracy\", \"parameters\": {}}]}, \"runtime\": [0.004630565643310547, 0.00087738037109375, 0.0006477832794189453, 0.0013399124145507812, 0.0015294551849365234, 0.0015406608581542969, 0.0021657943725585938, 0.0015702247619628906, 0.0017459392547607422, 0.0016269683837890625, 0.001634359359741211, 0.0039708614349365234, 0.0022461414337158203, 0.002299785614013672, 0.0010879039764404297, 0.0017116069793701172, 0.002150297164916992, 0.0017747879028320312, 0.0019245147705078125, 0.002154111862182617, 0.0013227462768554688, 0.0016021728515625, 0.0020668506622314453, 0.0015528202056884766, 0.002331972122192383, 0.00153350830078125, 0.001558065414428711, 0.0011792182922363281, 0.0013637542724609375, 0.0015549659729003906, 0.002360820770263672, 0.001504659652709961, 0.0008883476257324219, 0.0021789073944091797, 0.0010235309600830078, 0.0021452903747558594, 0.001628875732421875, 0.0008945465087890625, 0.0010974407196044922, 0.0015528202056884766, 0.0015397071838378906, 0.0031082630157470703, 0.0009098052978515625, 0.0014083385467529297, 0.0008752346038818359, 0.00140380859375, 0.0011017322540283203, 0.0009567737579345703, 0.002154111862182617, 0.001270294189453125, 0.0017745494842529297, 0.0017888545989990234, 0.0015382766723632812, 0.002117633819580078, 0.0009062290191650391, 0.0015022754669189453, 0.0014209747314453125, 0.0012803077697753906, 0.004126310348510742, 0.0015363693237304688, 0.0008604526519775391, 0.0009508132934570312, 0.0013689994812011719, 0.002345561981201172, 0.0011582374572753906, 0.0014979839324951172, 0.0017845630645751953, 0.0016644001007080078, 0.00199127197265625, 0.002540111541748047, 0.0009527206420898438, 0.0009777545928955078, 0.001528024673461914, 0.0012810230255126953, 0.0009286403656005859, 0.0010986328125, 0.0011701583862304688, 0.0010042190551757812, 0.001712799072265625, 0.0009031295776367188, 0.0010383129119873047, 0.00202178955078125, 0.0018486976623535156, 0.0009291172027587891, 0.0009202957153320312, 0.0009634494781494141, 0.0012807846069335938, 0.0009069442749023438, 0.001203298568725586, 0.0010726451873779297, 0.0010042190551757812, 0.0019309520721435547, 0.0009350776672363281, 0.0013117790222167969, 0.0015592575073242188, 0.0008435249328613281, 0.0008492469787597656, 0.0009703636169433594, 0.0027544498443603516, 0.0009560585021972656, 0.0014395713806152344], \"Graph_Edit_Distance\": [1038.0, 1074.0, 1038.0, 1077.0, 1071.0, 1040.0, 980.0, 1059.0, 1056.0, 1031.0, 1065.0, 1050.0, 1101.0, 1072.0, 1085.0, 1087.0, 1076.0, 1109.0, 1076.0, 1100.0, 1084.0, 1067.0, 1058.0, 1082.0, 1085.0, 1090.0, 1092.0, 1050.0, 1064.0, 1127.0, 1067.0, 1097.0, 1071.0, 1064.0, 1029.0, 1110.0, 1047.0, 1095.0, 1081.0, 1127.0, 1075.0, 1073.0, 1080.0, 1094.0, 1050.0, 1107.0, 1105.0, 1040.0, 1064.0, 1035.0, 1062.0, 1047.0, 1076.0, 1041.0, 993.0, 1047.0, 1052.0, 1040.0, 1055.0, 1085.0, 1075.0, 1045.0, 1066.0, 1062.0, 1099.0, 1090.0, 1060.0, 1069.0, 1088.0, 1065.0, 1084.0, 1087.0, 1061.0, 1071.0, 1073.0, 1074.0, 1079.0, 1063.0, 1070.0, 1055.0, 1082.0, 1081.0, 1056.0, 1116.0, 1034.0, 1055.0, 1068.0, 1044.0, 1065.0, 1112.0, 1060.0, 1070.0, 1050.0, 1087.0, 1028.0, 1077.0, 1026.0, 1059.0, 1081.0, 1047.0, 1065.0], \"Oracle_Calls\": [4, 4, 2, 4, 4, 4, 4, 4, 4, 4, 4, 4, 4, 4, 2, 4, 4, 4, 4, 4, 4, 4, 4, 4, 4, 4, 4, 2, 2, 4, 4, 4, 2, 4, 2, 4, 4, 2, 2, 4, 4, 4, 2, 4, 2, 4, 2, 2, 4, 2, 2, 4, 4, 2, 2, 4, 2, 2, 4, 2, 2, 2, 2, 2, 2, 4, 2, 2, 4, 4, 2, 2, 2, 2, 2, 2, 2, 2, 2, 2, 2, 4, 2, 2, 2, 2, 2, 2, 2, 2, 2, 2, 2, 4, 2, 2, 2, 2, 2, 2, 4], \"Correctness\": [1, 1, 1, 1, 1, 1, 1, 1, 1, 1, 1, 1, 1, 1, 1, 1, 1, 1, 1, 1, 1, 1, 1, 1, 1, 1, 1, 1, 1, 1, 1, 1, 1, 1, 1, 1, 1, 1, 1, 1, 1, 1, 1, 1, 1, 1, 1, 1, 1, 1, 1, 1, 1, 1, 1, 1, 1, 1, 1, 1, 1, 1, 1, 1, 1, 1, 1, 1, 1, 1, 1, 1, 1, 1, 1, 1, 1, 1, 1, 1, 1, 1, 1, 1, 1, 1, 1, 1, 1, 1, 1, 1, 1, 1, 1, 1, 1, 1, 1, 1, 1], \"Sparsity\": [1.3622047244094488, 1.3984375, 1.3445595854922279, 1.3932729624838291, 1.3783783783783783, 1.329923273657289, 1.2596401028277635, 1.377113133940182, 1.3894736842105264, 1.3372243839169908, 1.3777490297542043, 1.3888888888888888, 1.424320827943079, 1.3743589743589744, 1.4, 1.4435590969455512, 1.3974025974025974, 1.4199743918053778, 1.3974025974025974, 1.4397905759162304, 1.4225721784776904, 1.3732303732303732, 1.3669250645994833, 1.4015544041450778, 1.4, 1.39386189258312, 1.4181818181818182, 1.3601036269430051, 1.3746770025839794, 1.4504504504504505, 1.3732303732303732, 1.415483870967742, 1.3783783783783783, 1.3676092544987146, 1.3415906127770534, 1.4378238341968912, 1.3722149410222804, 1.4020486555697824, 1.3912483912483913, 1.4541935483870967, 1.3979193758127437, 1.4137022397891963, 1.4099216710182767, 1.431937172774869, 1.370757180156658, 1.4247104247104247, 1.4112388250319285, 1.3402061855670102, 1.378238341968912, 1.3600525624178712, 1.3580562659846547, 1.3405889884763125, 1.3830334190231361, 1.3397683397683398, 1.3014416775884665, 1.3474903474903475, 1.3418367346938775, 1.329923273657289, 1.3790849673202614, 1.4, 1.3906856403622252, 1.351875808538163, 1.3701799485861184, 1.3937007874015748, 1.4403669724770642, 1.4155844155844155, 1.3984168865435356, 1.3973856209150326, 1.3948717948717948, 1.3777490297542043, 1.4077922077922078, 1.4246395806028833, 1.3690322580645162, 1.3819354838709677, 1.380952380952381, 1.4094488188976377, 1.4104575163398694, 1.3575989782886335, 1.3824289405684755, 1.3508322663252241, 1.3907455012853471, 1.4130718954248367, 1.3678756476683938, 1.4381443298969072, 1.356955380577428, 1.3719115734720415, 1.4015748031496063, 1.3558441558441559, 1.3741935483870968, 1.4256410256410257, 1.3624678663239074, 1.3753213367609254, 1.3671875, 1.3882503192848021, 1.3670212765957446, 1.4152431011826545, 1.3464566929133859, 1.3664516129032258, 1.4057217165149545, 1.3579766536964981, 1.3885267275097783], \"Fidelity\": [1, 1, -1, 1, 1, 1, 1, 1, 1, 1, 1, 1, 1, 1, -1, 1, 1, 1, 1, 1, 1, 1, 1, 1, 1, 1, 1, -1, -1, 1, 1, 1, -1, 1, -1, 1, 1, -1, -1, 1, 1, 1, -1, 1, -1, 1, -1, -1, 1, -1, -1, 1, -1, 1, 1, -1, 1, 1, -1, 1, 1, 1, 1, 1, 1, -1, 1, 1, -1, -1, 1, 1, 1, 1, 1, 1, 1, 1, 1, 1, 1, -1, 1, 1, 1, 1, 1, 1, 1, 1, 1, 1, 1, -1, 1, 1, 1, 1, 1, 1, -1], \"Oracle_Accuracy\": [1, 1, 0, 1, 1, 1, 1, 1, 1, 1, 1, 1, 1, 1, 0, 1, 1, 1, 1, 1, 1, 1, 1, 1, 1, 1, 1, 0, 0, 1, 1, 1, 0, 1, 0, 1, 1, 0, 0, 1, 1, 1, 0, 1, 0, 1, 0, 0, 1, 0, 0, 1, 0, 1, 1, 0, 1, 1, 0, 1, 1, 1, 1, 1, 1, 0, 1, 1, 0, 0, 1, 1, 1, 1, 1, 1, 1, 1, 1, 1, 1, 0, 1, 1, 1, 1, 1, 1, 1, 1, 1, 1, 1, 0, 1, 1, 1, 1, 1, 1, 0]}'"
      ]
     },
     "execution_count": 14,
     "metadata": {},
     "output_type": "execute_result"
    }
   ],
   "source": [
    "with open(output_file_path, 'r') as rs_json_reader:\n",
    "                results = rs_json_reader.read()\n",
    "\n",
    "results"
   ]
  },
  {
   "cell_type": "code",
   "execution_count": 15,
   "metadata": {},
   "outputs": [],
   "source": [
    "from src.data_analysis.data_analyzer import DataAnalyzer\n",
    "\n",
    "dtan = DataAnalyzer(output_folder, stats_folder)\n",
    "dtan.aggregate_data()\n",
    "dtan.aggregate_runs()\n",
    "dtan.create_tables_by_oracle_dataset()"
   ]
  },
  {
   "cell_type": "code",
   "execution_count": 16,
   "metadata": {},
   "outputs": [
    {
     "data": {
      "text/html": [
       "<div>\n",
       "<style scoped>\n",
       "    .dataframe tbody tr th:only-of-type {\n",
       "        vertical-align: middle;\n",
       "    }\n",
       "\n",
       "    .dataframe tbody tr th {\n",
       "        vertical-align: top;\n",
       "    }\n",
       "\n",
       "    .dataframe thead th {\n",
       "        text-align: right;\n",
       "    }\n",
       "</style>\n",
       "<table border=\"1\" class=\"dataframe\">\n",
       "  <thead>\n",
       "    <tr style=\"text-align: right;\">\n",
       "      <th></th>\n",
       "      <th>Unnamed: 0</th>\n",
       "      <th>explainer</th>\n",
       "      <th>runtime</th>\n",
       "      <th>runtime-std</th>\n",
       "      <th>Graph_Edit_Distance</th>\n",
       "      <th>Graph_Edit_Distance-std</th>\n",
       "      <th>Oracle_Calls</th>\n",
       "      <th>Oracle_Calls-std</th>\n",
       "      <th>Correctness</th>\n",
       "      <th>Correctness-std</th>\n",
       "      <th>Sparsity</th>\n",
       "      <th>Sparsity-std</th>\n",
       "      <th>Fidelity</th>\n",
       "      <th>Fidelity-std</th>\n",
       "      <th>Oracle_Accuracy</th>\n",
       "      <th>Oracle_Accuracy-std</th>\n",
       "    </tr>\n",
       "  </thead>\n",
       "  <tbody>\n",
       "    <tr>\n",
       "      <th>0</th>\n",
       "      <td>0</td>\n",
       "      <td>dce_search</td>\n",
       "      <td>0.075059</td>\n",
       "      <td>0.0</td>\n",
       "      <td>1011.693069</td>\n",
       "      <td>0.0</td>\n",
       "      <td>102.000000</td>\n",
       "      <td>0.0</td>\n",
       "      <td>1.0</td>\n",
       "      <td>0.0</td>\n",
       "      <td>1.311108</td>\n",
       "      <td>0.0</td>\n",
       "      <td>0.544554</td>\n",
       "      <td>0.0</td>\n",
       "      <td>0.772277</td>\n",
       "      <td>0.0</td>\n",
       "    </tr>\n",
       "    <tr>\n",
       "      <th>1</th>\n",
       "      <td>1</td>\n",
       "      <td>dummy_explainer</td>\n",
       "      <td>0.001556</td>\n",
       "      <td>0.0</td>\n",
       "      <td>1068.237624</td>\n",
       "      <td>0.0</td>\n",
       "      <td>2.930693</td>\n",
       "      <td>0.0</td>\n",
       "      <td>1.0</td>\n",
       "      <td>0.0</td>\n",
       "      <td>1.384470</td>\n",
       "      <td>0.0</td>\n",
       "      <td>0.544554</td>\n",
       "      <td>0.0</td>\n",
       "      <td>0.772277</td>\n",
       "      <td>0.0</td>\n",
       "    </tr>\n",
       "  </tbody>\n",
       "</table>\n",
       "</div>"
      ],
      "text/plain": [
       "   Unnamed: 0        explainer   runtime  runtime-std  Graph_Edit_Distance  \\\n",
       "0           0       dce_search  0.075059          0.0          1011.693069   \n",
       "1           1  dummy_explainer  0.001556          0.0          1068.237624   \n",
       "\n",
       "   Graph_Edit_Distance-std  Oracle_Calls  Oracle_Calls-std  Correctness  \\\n",
       "0                      0.0    102.000000               0.0          1.0   \n",
       "1                      0.0      2.930693               0.0          1.0   \n",
       "\n",
       "   Correctness-std  Sparsity  Sparsity-std  Fidelity  Fidelity-std  \\\n",
       "0              0.0  1.311108           0.0  0.544554           0.0   \n",
       "1              0.0  1.384470           0.0  0.544554           0.0   \n",
       "\n",
       "   Oracle_Accuracy  Oracle_Accuracy-std  \n",
       "0         0.772277                  0.0  \n",
       "1         0.772277                  0.0  "
      ]
     },
     "execution_count": 16,
     "metadata": {},
     "output_type": "execute_result"
    }
   ],
   "source": [
    "import pandas as pd\n",
    "results_table = pd.read_csv(module_path + '/examples/stats/autism-asd_custom_oracle.csv')\n",
    "results_table"
   ]
  },
  {
   "cell_type": "markdown",
   "metadata": {},
   "source": []
  }
 ],
 "metadata": {
  "kernelspec": {
   "display_name": "Python 3",
   "language": "python",
   "name": "python3"
  },
  "language_info": {
   "codemirror_mode": {
    "name": "ipython",
    "version": 3
   },
   "file_extension": ".py",
   "mimetype": "text/x-python",
   "name": "python",
   "nbconvert_exporter": "python",
   "pygments_lexer": "ipython3",
   "version": "3.8.10"
  },
  "orig_nbformat": 4,
  "vscode": {
   "interpreter": {
    "hash": "916dbcbb3f70747c44a77c7bcd40155683ae19c65e1c03b4aa3499c5328201f1"
   }
  }
 },
 "nbformat": 4,
 "nbformat_minor": 2
}
