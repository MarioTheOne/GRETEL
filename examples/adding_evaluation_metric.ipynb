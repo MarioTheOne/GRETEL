{
 "cells": [
  {
   "cell_type": "markdown",
   "metadata": {},
   "source": [
    "# Adding a new Evaluation Metric to GRETEL"
   ]
  },
  {
   "cell_type": "code",
   "execution_count": 1,
   "metadata": {},
   "outputs": [],
   "source": [
    "import sys\n",
    "import os\n",
    "module_path = os.path.abspath(os.path.join('..'))\n",
    "sys.path.append(module_path)"
   ]
  },
  {
   "cell_type": "code",
   "execution_count": 2,
   "metadata": {},
   "outputs": [
    {
     "name": "stderr",
     "output_type": "stream",
     "text": [
      "2022-06-15 11:32:38.503438: W tensorflow/stream_executor/platform/default/dso_loader.cc:64] Could not load dynamic library 'libcudart.so.11.0'; dlerror: libcudart.so.11.0: cannot open shared object file: No such file or directory; LD_LIBRARY_PATH: /opt/gridengine/lib/lx-amd64:/opt/openmpi/lib\n",
      "2022-06-15 11:32:38.503480: I tensorflow/stream_executor/cuda/cudart_stub.cc:29] Ignore above cudart dlerror if you do not have a GPU set up on your machine.\n"
     ]
    }
   ],
   "source": [
    "from src.evaluation.evaluator_manager import EvaluatorManager\n",
    "\n",
    "config_file_path = '/NFSHOME/mprado/CODE/GRETEL/examples/config/config_autism_custom-oracle_dce_validity.json'\n",
    "output_file_path = '/NFSHOME/mprado/CODE/GRETEL/output/asd_custom_oracle/DCESearchExplainer/results_run-0.json'"
   ]
  },
  {
   "cell_type": "markdown",
   "metadata": {},
   "source": [
    "## Creating a new Evaluation Metric"
   ]
  },
  {
   "cell_type": "code",
   "execution_count": 3,
   "metadata": {},
   "outputs": [],
   "source": [
    "from src.evaluation.evaluation_metric_base import EvaluationMetric\n",
    "from src.dataset.data_instance_base import DataInstance\n",
    "from src.oracle.oracle_base import Oracle\n",
    "\n",
    "\n",
    "class ValidityMetric(EvaluationMetric):\n",
    "    \"\"\"Verifies that the class from the counterfactual example \n",
    "    is different from that of the original instance\n",
    "    \"\"\"\n",
    "\n",
    "    def __init__(self, config_dict=None) -> None:\n",
    "        super().__init__(config_dict)\n",
    "        self._name = 'Validity'\n",
    "\n",
    "    def evaluate(self, instance_1: DataInstance, instance_2: DataInstance, oracle: Oracle):\n",
    "\n",
    "        label_instance_1 = oracle.predict(instance_1)\n",
    "        label_instance_2 = oracle.predict(instance_2)\n",
    "        oracle._call_counter -= 2\n",
    "\n",
    "        result = 1 if (label_instance_1 != label_instance_2) else 0\n",
    "        \n",
    "        return result"
   ]
  },
  {
   "cell_type": "markdown",
   "metadata": {},
   "source": [
    "## Creating a custom Evaluation Metic Factory"
   ]
  },
  {
   "cell_type": "code",
   "execution_count": 4,
   "metadata": {},
   "outputs": [],
   "source": [
    "from src.evaluation.evaluation_metric_factory import EvaluationMetricFactory\n",
    "\n",
    "\n",
    "class CustomEvaluationMetricFactory(EvaluationMetricFactory):\n",
    "\n",
    "    def __init__(self) -> None:\n",
    "        super().__init__()\n",
    "\n",
    "    def get_evaluation_metric_by_name(self, metric_dict) -> EvaluationMetric:\n",
    "        metric_name = metric_dict['name']\n",
    "        metric_parameters = metric_dict['parameters']\n",
    "\n",
    "        if(metric_name == 'validity'):\n",
    "            return self.get_validity_metric(config_dict=metric_dict)\n",
    "\n",
    "        else:\n",
    "            return super().get_evaluation_metric_by_name(metric_dict)\n",
    "\n",
    "\n",
    "    def get_validity_metric(self, config_dict=None) -> EvaluationMetric:\n",
    "        result = ValidityMetric(config_dict)\n",
    "        return result\n"
   ]
  },
  {
   "cell_type": "markdown",
   "metadata": {},
   "source": [
    "## Using the new Evaluation Metric"
   ]
  },
  {
   "cell_type": "code",
   "execution_count": 8,
   "metadata": {},
   "outputs": [],
   "source": [
    "em_factory = CustomEvaluationMetricFactory()\n",
    "\n",
    "# The run number is a way to differentiate many runs of the same configurations\n",
    "eval_manager = EvaluatorManager(config_file_path, run_number=0, \n",
    "                                dataset_factory=None, \n",
    "                                embedder_factory=None, \n",
    "                                oracle_factory=None, \n",
    "                                explainer_factory=None, \n",
    "                                evaluation_metric_factory=em_factory)\n",
    "eval_manager.create_evaluators()\n",
    "eval_manager.evaluate()"
   ]
  },
  {
   "cell_type": "markdown",
   "metadata": {},
   "source": [
    "## Checking the results"
   ]
  },
  {
   "cell_type": "code",
   "execution_count": 9,
   "metadata": {},
   "outputs": [
    {
     "data": {
      "text/plain": [
       "'{\"config\": {\"dataset\": {\"name\": \"autism\", \"parameters\": {}}, \"oracle\": {\"name\": \"asd_custom_oracle\", \"parameters\": {}}, \"explainer\": {\"name\": \"dce_search\", \"parameters\": {\"graph_distance\": {\"name\": \"graph_edit_distance\", \"parameters\": {}}}}, \"metrics\": [{\"name\": \"graph_edit_distance\", \"parameters\": {}}, {\"name\": \"oracle_calls\", \"parameters\": {}}, {\"name\": \"validity\", \"parameters\": {}}, {\"name\": \"sparsity\", \"parameters\": {}}, {\"name\": \"fidelity\", \"parameters\": {}}, {\"name\": \"oracle_accuracy\", \"parameters\": {}}]}, \"runtime\": [0.2835714817047119, 0.16933059692382812, 0.16750001907348633, 0.16767382621765137, 0.1678917407989502, 0.16853713989257812, 0.150054931640625, 0.16866755485534668, 0.16694045066833496, 0.16832780838012695, 0.15080833435058594, 0.15102505683898926, 0.1688697338104248, 0.16669034957885742, 0.14879298210144043, 0.16776418685913086, 0.16547012329101562, 0.16491937637329102, 0.16670918464660645, 0.16618704795837402, 0.16722607612609863, 0.14999914169311523, 0.16740846633911133, 0.16717004776000977, 0.16695475578308105, 0.1650240421295166, 0.14884305000305176, 0.16704010963439941, 0.1486341953277588, 0.16563963890075684, 0.16528701782226562, 0.16646623611450195, 0.14821791648864746, 0.16677260398864746, 0.16616177558898926, 0.16678333282470703, 0.16669130325317383, 0.14936137199401855, 0.16639208793640137, 0.16686701774597168, 0.14992403984069824, 0.1499032974243164, 0.16712188720703125, 0.16674137115478516, 0.1501002311706543, 0.16530823707580566, 0.16633915901184082, 0.16677570343017578, 0.16637158393859863, 0.15024924278259277, 0.16570138931274414, 0.16650152206420898, 0.14983487129211426, 0.14934468269348145, 0.14981603622436523, 0.16712093353271484, 0.14901256561279297, 0.16565775871276855, 0.149306058883667, 0.14890646934509277, 0.16650700569152832, 0.14960026741027832, 0.14811944961547852, 0.14856410026550293, 0.14975428581237793, 0.14791464805603027, 0.14962005615234375, 0.14833831787109375, 0.1481943130493164, 0.1491985321044922, 0.1661229133605957, 0.14970731735229492, 0.1498274803161621, 0.14864015579223633, 0.15004420280456543, 0.14986634254455566, 0.14961934089660645, 0.15017008781433105, 0.1509230136871338, 0.14978432655334473, 0.16598010063171387, 0.15039277076721191, 0.14942002296447754, 0.14985346794128418, 0.15099811553955078, 0.1484827995300293, 0.1501758098602295, 0.14947128295898438, 0.14938640594482422, 0.16849899291992188, 0.14995360374450684, 0.14945268630981445, 0.1493828296661377, 0.15037107467651367, 0.14838123321533203, 0.1682589054107666, 0.1495344638824463, 0.1504054069519043, 0.16840052604675293, 0.1493697166442871, 0.1678333282470703], \"Graph_Edit_Distance\": [1022.0, 1012.0, 1033.0, 968.0, 989.0, 963.0, 1007.0, 1020.0, 998.0, 1015.0, 1017.0, 1026.0, 1057.0, 998.0, 968.0, 1037.0, 972.0, 1003.0, 980.0, 1010.0, 1004.0, 998.0, 1003.0, 1013.0, 979.0, 958.0, 1011.0, 1008.0, 1004.0, 993.0, 993.0, 997.0, 968.0, 1050.0, 985.0, 1035.0, 1027.0, 1041.0, 1012.0, 1058.0, 980.0, 1070.0, 1050.0, 996.0, 1045.0, 968.0, 1019.0, 994.0, 968.0, 1003.0, 1022.0, 1008.0, 1048.0, 1035.0, 1007.0, 1043.0, 1034.0, 1008.0, 1036.0, 1017.0, 1007.0, 1090.0, 1003.0, 996.0, 997.0, 1001.0, 1035.0, 1001.0, 1018.0, 1023.0, 989.0, 1055.0, 958.0, 1001.0, 1017.0, 1003.0, 1016.0, 1044.0, 1020.0, 1043.0, 994.0, 1019.0, 1029.0, 1034.0, 1022.0, 972.0, 1036.0, 1042.0, 963.0, 1033.0, 1011.0, 1026.0, 1019.0, 1005.0, 985.0, 1040.0, 1020.0, 1030.0, 1016.0, 998.0, 987.0], \"Oracle_Calls\": [102, 102, 102, 102, 102, 102, 102, 102, 102, 102, 102, 102, 102, 102, 102, 102, 102, 102, 102, 102, 102, 102, 102, 102, 102, 102, 102, 102, 102, 102, 102, 102, 102, 102, 102, 102, 102, 102, 102, 102, 102, 102, 102, 102, 102, 102, 102, 102, 102, 102, 102, 102, 102, 102, 102, 102, 102, 102, 102, 102, 102, 102, 102, 102, 102, 102, 102, 102, 102, 102, 102, 102, 102, 102, 102, 102, 102, 102, 102, 102, 102, 102, 102, 102, 102, 102, 102, 102, 102, 102, 102, 102, 102, 102, 102, 102, 102, 102, 102, 102, 102], \"Validity\": [1, 1, 1, 1, 1, 1, 1, 1, 1, 1, 1, 1, 1, 1, 1, 1, 1, 1, 1, 1, 1, 1, 1, 1, 1, 1, 1, 1, 1, 1, 1, 1, 1, 1, 1, 1, 1, 1, 1, 1, 1, 1, 1, 1, 1, 1, 1, 1, 1, 1, 1, 1, 1, 1, 1, 1, 1, 1, 1, 1, 1, 1, 1, 1, 1, 1, 1, 1, 1, 1, 1, 1, 1, 1, 1, 1, 1, 1, 1, 1, 1, 1, 1, 1, 1, 1, 1, 1, 1, 1, 1, 1, 1, 1, 1, 1, 1, 1, 1, 1, 1], \"Sparsity\": [1.3153153153153154, 1.295774647887324, 1.3520942408376964, 1.2522639068564037, 1.2728442728442728, 1.2314578005115089, 1.297680412371134, 1.3076923076923077, 1.2961038961038962, 1.3096774193548386, 1.317357512953368, 1.3204633204633205, 1.3638709677419354, 1.2977893368010402, 1.2720105124835743, 1.3415265200517466, 1.2857142857142858, 1.3162729658792651, 1.2596401028277635, 1.3116883116883118, 1.2904884318766068, 1.2778489116517286, 1.3025974025974025, 1.2953964194373402, 1.2681347150259068, 1.255570117955439, 1.3198433420365536, 1.290653008962868, 1.3107049608355092, 1.3031496062992125, 1.306578947368421, 1.2881136950904393, 1.2620599739243807, 1.3513513513513513, 1.2808842652795838, 1.332046332046332, 1.3217503217503217, 1.343225806451613, 1.3024453024453024, 1.3651612903225807, 1.2694300518134716, 1.3665389527458494, 1.3601036269430051, 1.2901554404145077, 1.3501291989664084, 1.2753623188405796, 1.3268229166666667, 1.2892347600518808, 1.2522639068564037, 1.2826086956521738, 1.3572377158034528, 1.3193717277486912, 1.352258064516129, 1.335483870967742, 1.2993548387096774, 1.337179487179487, 1.3376455368693403, 1.3176470588235294, 1.336774193548387, 1.3294117647058823, 1.3077922077922077, 1.4046391752577319, 1.3232189973614776, 1.2918287937743191, 1.281491002570694, 1.311926605504587, 1.3372093023255813, 1.3084967320261438, 1.3342070773263435, 1.3285714285714285, 1.2894393741851369, 1.3525641025641026, 1.2457737321196358, 1.3136482939632546, 1.30719794344473, 1.3059895833333333, 1.3333333333333333, 1.3367477592829706, 1.3195342820181113, 1.3406169665809768, 1.2993464052287582, 1.3114543114543114, 1.3277419354838709, 1.3428571428571427, 1.3035714285714286, 1.2755905511811023, 1.3248081841432224, 1.339331619537275, 1.2621231979030145, 1.3277634961439588, 1.3011583011583012, 1.3482260183968462, 1.337270341207349, 1.3018134715025906, 1.309840425531915, 1.3282247765006385, 1.3385826771653544, 1.3154533844189016, 1.3075933075933075, 1.2977893368010402, 1.2768434670116429], \"Fidelity\": [-1, 1, 1, 1, 1, 1, -1, 1, 1, 1, -1, -1, 1, 1, -1, 1, 1, 1, 1, 1, 1, -1, 1, 1, 1, 1, -1, 1, -1, 1, 1, 1, -1, 1, 1, 1, 1, -1, 1, 1, -1, -1, 1, 1, -1, 1, 1, 1, 1, -1, 1, 1, 1, 1, 1, -1, 1, -1, 1, 1, -1, 1, 1, 1, 1, 1, 1, 1, 1, 1, -1, 1, 1, 1, 1, 1, 1, 1, 1, 1, -1, 1, 1, 1, 1, 1, 1, 1, 1, -1, 1, 1, 1, 1, 1, -1, 1, 1, -1, 1, -1], \"Oracle_Accuracy\": [0, 1, 1, 1, 1, 1, 0, 1, 1, 1, 0, 0, 1, 1, 0, 1, 1, 1, 1, 1, 1, 0, 1, 1, 1, 1, 0, 1, 0, 1, 1, 1, 0, 1, 1, 1, 1, 0, 1, 1, 0, 0, 1, 1, 0, 1, 1, 1, 1, 0, 1, 1, 1, 1, 1, 0, 1, 0, 1, 1, 0, 1, 1, 1, 1, 1, 1, 1, 1, 1, 0, 1, 1, 1, 1, 1, 1, 1, 1, 1, 0, 1, 1, 1, 1, 1, 1, 1, 1, 0, 1, 1, 1, 1, 1, 0, 1, 1, 0, 1, 0]}'"
      ]
     },
     "execution_count": 9,
     "metadata": {},
     "output_type": "execute_result"
    }
   ],
   "source": [
    "with open(output_file_path, 'r') as rs_json_reader:\n",
    "                results = rs_json_reader.read()\n",
    "\n",
    "results"
   ]
  }
 ],
 "metadata": {
  "kernelspec": {
   "display_name": "Python 3.7.13 ('XAI37')",
   "language": "python",
   "name": "python3"
  },
  "language_info": {
   "codemirror_mode": {
    "name": "ipython",
    "version": 3
   },
   "file_extension": ".py",
   "mimetype": "text/x-python",
   "name": "python",
   "nbconvert_exporter": "python",
   "pygments_lexer": "ipython3",
   "version": "3.7.13"
  },
  "orig_nbformat": 4,
  "vscode": {
   "interpreter": {
    "hash": "88322b12a140a80a1f1aeee35a26a90b248c7483a7bd5d3291ac713b57c394e7"
   }
  }
 },
 "nbformat": 4,
 "nbformat_minor": 2
}
