{
 "cells": [
  {
   "cell_type": "markdown",
   "metadata": {},
   "source": [
    "# Using GRETEL\n",
    "### Evaluating a counterfactual explanation method on ASD dataset"
   ]
  },
  {
   "cell_type": "markdown",
   "metadata": {},
   "source": [
    "### Setting the config file path"
   ]
  },
  {
   "cell_type": "code",
   "execution_count": 1,
   "metadata": {},
   "outputs": [
    {
     "data": {
      "text/plain": [
       "'/home/coder/gretel'"
      ]
     },
     "execution_count": 1,
     "metadata": {},
     "output_type": "execute_result"
    }
   ],
   "source": [
    "import sys\n",
    "import os\n",
    "module_path = os.path.abspath(os.path.join('..'))\n",
    "sys.path.append(module_path)\n",
    "module_path"
   ]
  },
  {
   "cell_type": "code",
   "execution_count": 2,
   "metadata": {},
   "outputs": [
    {
     "name": "stderr",
     "output_type": "stream",
     "text": [
      "2023-02-09 16:47:05.487468: I tensorflow/core/platform/cpu_feature_guard.cc:193] This TensorFlow binary is optimized with oneAPI Deep Neural Network Library (oneDNN) to use the following CPU instructions in performance-critical operations:  AVX2 AVX512F AVX512_VNNI FMA\n",
      "To enable them in other operations, rebuild TensorFlow with the appropriate compiler flags.\n",
      "2023-02-09 16:47:05.619537: I tensorflow/core/util/port.cc:104] oneDNN custom operations are on. You may see slightly different numerical results due to floating-point round-off errors from different computation orders. To turn them off, set the environment variable `TF_ENABLE_ONEDNN_OPTS=0`.\n"
     ]
    },
    {
     "data": {
      "text/plain": [
       "(True, True, True, True)"
      ]
     },
     "execution_count": 2,
     "metadata": {},
     "output_type": "execute_result"
    }
   ],
   "source": [
    "from src.evaluation.evaluator_manager import EvaluatorManager\n",
    "\n",
    "config_file_path = module_path + '/examples/config/config_autism_custom-oracle_dce.json'\n",
    "output_file_path = module_path + '/output/asd_custom_oracle/DCESearchExplainer/results_run-0.json'\n",
    "output_folder = module_path + '/output/'\n",
    "stats_folder = module_path + '/stats/'\n",
    "\n",
    "# Verifying that the paths are valid\n",
    "(os.path.isfile(config_file_path), os.path.isfile(output_file_path), os.path.isdir(output_folder), os.path.isdir(stats_folder))"
   ]
  },
  {
   "cell_type": "markdown",
   "metadata": {},
   "source": [
    "### Creating the Evaluator Manager"
   ]
  },
  {
   "cell_type": "code",
   "execution_count": 3,
   "metadata": {},
   "outputs": [],
   "source": [
    "# The run number is a way to differentiate many runs of the same configurations\n",
    "eval_manager = EvaluatorManager(config_file_path, run_number=0)"
   ]
  },
  {
   "cell_type": "markdown",
   "metadata": {},
   "source": [
    "### Creating the Evaluators"
   ]
  },
  {
   "cell_type": "code",
   "execution_count": 4,
   "metadata": {},
   "outputs": [],
   "source": [
    "eval_manager.create_evaluators()"
   ]
  },
  {
   "cell_type": "markdown",
   "metadata": {},
   "source": [
    "### Evaluating the DCE Explainer on ASD dataset"
   ]
  },
  {
   "cell_type": "code",
   "execution_count": 5,
   "metadata": {},
   "outputs": [],
   "source": [
    "eval_manager.evaluate()"
   ]
  },
  {
   "cell_type": "markdown",
   "metadata": {},
   "source": [
    "After executing the previous steps, inside output/asd_custom_oracle/DCESearchExplainer/ should be located a file called results_run-0.json with the results"
   ]
  },
  {
   "cell_type": "code",
   "execution_count": 6,
   "metadata": {},
   "outputs": [
    {
     "data": {
      "text/plain": [
       "'{\"config\": {\"dataset\": {\"name\": \"autism\", \"parameters\": {}}, \"oracle\": {\"name\": \"asd_custom_oracle\", \"parameters\": {}}, \"explainer\": {\"name\": \"dce_search\", \"parameters\": {\"graph_distance\": {\"name\": \"graph_edit_distance\", \"parameters\": {}}}}, \"metrics\": [{\"name\": \"graph_edit_distance\", \"parameters\": {}}, {\"name\": \"oracle_calls\", \"parameters\": {}}, {\"name\": \"correctness\", \"parameters\": {}}, {\"name\": \"sparsity\", \"parameters\": {}}, {\"name\": \"fidelity\", \"parameters\": {}}, {\"name\": \"oracle_accuracy\", \"parameters\": {}}]}, \"runtime\": [0.13542890548706055, 0.05556941032409668, 0.06520533561706543, 0.05511879920959473, 0.06227397918701172, 0.05386662483215332, 0.06470417976379395, 0.06195259094238281, 0.0682976245880127, 0.07328081130981445, 0.06482291221618652, 0.07667231559753418, 0.08073687553405762, 0.055065155029296875, 0.061556339263916016, 0.05448555946350098, 0.06636214256286621, 0.06094861030578613, 0.0736238956451416, 0.06183791160583496, 0.0603337287902832, 0.06580710411071777, 0.05963611602783203, 0.0563352108001709, 0.06416058540344238, 0.09015059471130371, 0.06649327278137207, 0.055985212326049805, 0.051488399505615234, 0.07404685020446777, 0.06371808052062988, 0.05827641487121582, 0.0623166561126709, 0.06236147880554199, 0.07336544990539551, 0.08475041389465332, 0.0648350715637207, 0.06281423568725586, 0.05655479431152344, 0.054168701171875, 0.06275534629821777, 0.06769084930419922, 0.0630195140838623, 0.07208108901977539, 0.05650806427001953, 0.05646634101867676, 0.05670881271362305, 0.054755210876464844, 0.056180477142333984, 0.06279730796813965, 0.06157279014587402, 0.05909085273742676, 0.054555654525756836, 0.07251667976379395, 0.0597844123840332, 0.07431411743164062, 0.04963350296020508, 0.06267166137695312, 0.06465029716491699, 0.05858159065246582, 0.05092334747314453, 0.05872607231140137, 0.057994842529296875, 0.05925893783569336, 0.04909229278564453, 0.05794119834899902, 0.05066275596618652, 0.05418586730957031, 0.0723421573638916, 0.06720972061157227, 0.05118870735168457, 0.0583348274230957, 0.05640721321105957, 0.0641942024230957, 0.051598310470581055, 0.06859612464904785, 0.05861783027648926, 0.06812620162963867, 0.05246138572692871, 0.05751347541809082, 0.05945324897766113, 0.07091069221496582, 0.05005216598510742, 0.06409120559692383, 0.0578305721282959, 0.058618783950805664, 0.05162358283996582, 0.05508780479431152, 0.055878639221191406, 0.06049489974975586, 0.05051708221435547, 0.062170982360839844, 0.05461263656616211, 0.060524702072143555, 0.0703427791595459, 0.0578310489654541, 0.053870201110839844, 0.05346870422363281, 0.05232501029968262, 0.05740499496459961, 0.06712865829467773], \"Graph_Edit_Distance\": [993.0, 1019.0, 980.0, 968.0, 1012.0, 963.0, 980.0, 998.0, 993.0, 994.0, 968.0, 972.0, 1037.0, 1020.0, 1041.0, 1022.0, 998.0, 1008.0, 1010.0, 1033.0, 1003.0, 989.0, 997.0, 1050.0, 1015.0, 1013.0, 1003.0, 1017.0, 1045.0, 1050.0, 1035.0, 1057.0, 1022.0, 1004.0, 968.0, 996.0, 958.0, 998.0, 1026.0, 1058.0, 985.0, 968.0, 1004.0, 1008.0, 1011.0, 1027.0, 1070.0, 1007.0, 979.0, 968.0, 1003.0, 1012.0, 1033.0, 1019.0, 963.0, 1016.0, 1022.0, 1036.0, 1008.0, 1035.0, 1034.0, 1020.0, 997.0, 1020.0, 1018.0, 1007.0, 1003.0, 1017.0, 1043.0, 987.0, 1034.0, 1001.0, 1007.0, 1029.0, 1011.0, 1016.0, 1001.0, 1030.0, 1035.0, 1044.0, 1042.0, 994.0, 1005.0, 1090.0, 1001.0, 958.0, 1019.0, 1023.0, 1048.0, 1055.0, 1043.0, 1017.0, 1003.0, 1040.0, 985.0, 1026.0, 972.0, 1036.0, 998.0, 996.0, 989.0], \"Oracle_Calls\": [102, 102, 102, 102, 102, 102, 102, 102, 102, 102, 102, 102, 102, 102, 102, 102, 102, 102, 102, 102, 102, 102, 102, 102, 102, 102, 102, 102, 102, 102, 102, 102, 102, 102, 102, 102, 102, 102, 102, 102, 102, 102, 102, 102, 102, 102, 102, 102, 102, 102, 102, 102, 102, 102, 102, 102, 102, 102, 102, 102, 102, 102, 102, 102, 102, 102, 102, 102, 102, 102, 102, 102, 102, 102, 102, 102, 102, 102, 102, 102, 102, 102, 102, 102, 102, 102, 102, 102, 102, 102, 102, 102, 102, 102, 102, 102, 102, 102, 102, 102, 102], \"Correctness\": [1, 1, 1, 1, 1, 1, 1, 1, 1, 1, 1, 1, 1, 1, 1, 1, 1, 1, 1, 1, 1, 1, 1, 1, 1, 1, 1, 1, 1, 1, 1, 1, 1, 1, 1, 1, 1, 1, 1, 1, 1, 1, 1, 1, 1, 1, 1, 1, 1, 1, 1, 1, 1, 1, 1, 1, 1, 1, 1, 1, 1, 1, 1, 1, 1, 1, 1, 1, 1, 1, 1, 1, 1, 1, 1, 1, 1, 1, 1, 1, 1, 1, 1, 1, 1, 1, 1, 1, 1, 1, 1, 1, 1, 1, 1, 1, 1, 1, 1, 1, 1], \"Sparsity\": [1.3031496062992125, 1.3268229166666667, 1.2694300518134716, 1.2522639068564037, 1.3024453024453024, 1.2314578005115089, 1.2596401028277635, 1.2977893368010402, 1.306578947368421, 1.2892347600518808, 1.2522639068564037, 1.2857142857142858, 1.3415265200517466, 1.3076923076923077, 1.343225806451613, 1.3572377158034528, 1.2961038961038962, 1.290653008962868, 1.3116883116883118, 1.3520942408376964, 1.3162729658792651, 1.2728442728442728, 1.2881136950904393, 1.3601036269430051, 1.3096774193548386, 1.2953964194373402, 1.3025974025974025, 1.317357512953368, 1.3501291989664084, 1.3513513513513513, 1.332046332046332, 1.3638709677419354, 1.3153153153153154, 1.2904884318766068, 1.2620599739243807, 1.2901554404145077, 1.255570117955439, 1.2778489116517286, 1.3204633204633205, 1.3651612903225807, 1.2808842652795838, 1.2753623188405796, 1.3107049608355092, 1.3193717277486912, 1.3198433420365536, 1.3217503217503217, 1.3665389527458494, 1.297680412371134, 1.2681347150259068, 1.2720105124835743, 1.2826086956521738, 1.295774647887324, 1.3277634961439588, 1.3114543114543114, 1.2621231979030145, 1.3075933075933075, 1.3035714285714286, 1.3248081841432224, 1.3176470588235294, 1.335483870967742, 1.3376455368693403, 1.3195342820181113, 1.281491002570694, 1.3385826771653544, 1.3342070773263435, 1.3077922077922077, 1.3232189973614776, 1.3294117647058823, 1.337179487179487, 1.2768434670116429, 1.3428571428571427, 1.311926605504587, 1.2993548387096774, 1.3277419354838709, 1.3011583011583012, 1.3333333333333333, 1.3084967320261438, 1.3154533844189016, 1.3372093023255813, 1.3367477592829706, 1.339331619537275, 1.2993464052287582, 1.3018134715025906, 1.4046391752577319, 1.3136482939632546, 1.2457737321196358, 1.337270341207349, 1.3285714285714285, 1.352258064516129, 1.3525641025641026, 1.3406169665809768, 1.30719794344473, 1.3059895833333333, 1.3282247765006385, 1.309840425531915, 1.3482260183968462, 1.2755905511811023, 1.336774193548387, 1.2977893368010402, 1.2918287937743191, 1.2894393741851369], \"Fidelity\": [1, 1, -1, 1, 1, 1, 1, 1, 1, 1, 1, 1, 1, 1, -1, 1, 1, 1, 1, 1, 1, 1, 1, 1, 1, 1, 1, -1, -1, 1, 1, 1, -1, 1, -1, 1, 1, -1, -1, 1, 1, 1, -1, 1, -1, 1, -1, -1, 1, -1, -1, 1, -1, 1, 1, -1, 1, 1, -1, 1, 1, 1, 1, 1, 1, -1, 1, 1, -1, -1, 1, 1, 1, 1, 1, 1, 1, 1, 1, 1, 1, -1, 1, 1, 1, 1, 1, 1, 1, 1, 1, 1, 1, -1, 1, 1, 1, 1, 1, 1, -1], \"Oracle_Accuracy\": [1, 1, 0, 1, 1, 1, 1, 1, 1, 1, 1, 1, 1, 1, 0, 1, 1, 1, 1, 1, 1, 1, 1, 1, 1, 1, 1, 0, 0, 1, 1, 1, 0, 1, 0, 1, 1, 0, 0, 1, 1, 1, 0, 1, 0, 1, 0, 0, 1, 0, 0, 1, 0, 1, 1, 0, 1, 1, 0, 1, 1, 1, 1, 1, 1, 0, 1, 1, 0, 0, 1, 1, 1, 1, 1, 1, 1, 1, 1, 1, 1, 0, 1, 1, 1, 1, 1, 1, 1, 1, 1, 1, 1, 0, 1, 1, 1, 1, 1, 1, 0]}'"
      ]
     },
     "execution_count": 6,
     "metadata": {},
     "output_type": "execute_result"
    }
   ],
   "source": [
    "with open(output_file_path, 'r') as rs_json_reader:\n",
    "                results = rs_json_reader.read()\n",
    "\n",
    "results"
   ]
  },
  {
   "cell_type": "markdown",
   "metadata": {},
   "source": [
    " Generating tables with the aggregated results"
   ]
  },
  {
   "cell_type": "code",
   "execution_count": 7,
   "metadata": {},
   "outputs": [],
   "source": [
    "from src.data_analysis.data_analyzer import DataAnalyzer\n",
    "\n",
    "dtan = DataAnalyzer(output_folder, stats_folder)\n",
    "dtan.aggregate_data()\n",
    "dtan.aggregate_runs()\n",
    "dtan.create_tables_by_oracle_dataset()"
   ]
  },
  {
   "cell_type": "code",
   "execution_count": 8,
   "metadata": {},
   "outputs": [
    {
     "data": {
      "text/html": [
       "<div>\n",
       "<style scoped>\n",
       "    .dataframe tbody tr th:only-of-type {\n",
       "        vertical-align: middle;\n",
       "    }\n",
       "\n",
       "    .dataframe tbody tr th {\n",
       "        vertical-align: top;\n",
       "    }\n",
       "\n",
       "    .dataframe thead th {\n",
       "        text-align: right;\n",
       "    }\n",
       "</style>\n",
       "<table border=\"1\" class=\"dataframe\">\n",
       "  <thead>\n",
       "    <tr style=\"text-align: right;\">\n",
       "      <th></th>\n",
       "      <th>Unnamed: 0</th>\n",
       "      <th>explainer</th>\n",
       "      <th>runtime</th>\n",
       "      <th>runtime-std</th>\n",
       "      <th>Graph_Edit_Distance</th>\n",
       "      <th>Graph_Edit_Distance-std</th>\n",
       "      <th>Oracle_Calls</th>\n",
       "      <th>Oracle_Calls-std</th>\n",
       "      <th>Correctness</th>\n",
       "      <th>Correctness-std</th>\n",
       "      <th>Sparsity</th>\n",
       "      <th>Sparsity-std</th>\n",
       "      <th>Fidelity</th>\n",
       "      <th>Fidelity-std</th>\n",
       "      <th>Oracle_Accuracy</th>\n",
       "      <th>Oracle_Accuracy-std</th>\n",
       "    </tr>\n",
       "  </thead>\n",
       "  <tbody>\n",
       "    <tr>\n",
       "      <th>0</th>\n",
       "      <td>0</td>\n",
       "      <td>dce_search</td>\n",
       "      <td>0.061934</td>\n",
       "      <td>0.0</td>\n",
       "      <td>1011.693069</td>\n",
       "      <td>0.0</td>\n",
       "      <td>102.000000</td>\n",
       "      <td>0.0</td>\n",
       "      <td>1.0</td>\n",
       "      <td>0.0</td>\n",
       "      <td>1.311108</td>\n",
       "      <td>0.0</td>\n",
       "      <td>0.544554</td>\n",
       "      <td>0.0</td>\n",
       "      <td>0.772277</td>\n",
       "      <td>0.0</td>\n",
       "    </tr>\n",
       "    <tr>\n",
       "      <th>1</th>\n",
       "      <td>1</td>\n",
       "      <td>dummy_explainer</td>\n",
       "      <td>0.001634</td>\n",
       "      <td>0.0</td>\n",
       "      <td>1068.237624</td>\n",
       "      <td>0.0</td>\n",
       "      <td>2.930693</td>\n",
       "      <td>0.0</td>\n",
       "      <td>1.0</td>\n",
       "      <td>0.0</td>\n",
       "      <td>1.384470</td>\n",
       "      <td>0.0</td>\n",
       "      <td>0.544554</td>\n",
       "      <td>0.0</td>\n",
       "      <td>0.772277</td>\n",
       "      <td>0.0</td>\n",
       "    </tr>\n",
       "  </tbody>\n",
       "</table>\n",
       "</div>"
      ],
      "text/plain": [
       "   Unnamed: 0        explainer   runtime  runtime-std  Graph_Edit_Distance  \\\n",
       "0           0       dce_search  0.061934          0.0          1011.693069   \n",
       "1           1  dummy_explainer  0.001634          0.0          1068.237624   \n",
       "\n",
       "   Graph_Edit_Distance-std  Oracle_Calls  Oracle_Calls-std  Correctness  \\\n",
       "0                      0.0    102.000000               0.0          1.0   \n",
       "1                      0.0      2.930693               0.0          1.0   \n",
       "\n",
       "   Correctness-std  Sparsity  Sparsity-std  Fidelity  Fidelity-std  \\\n",
       "0              0.0  1.311108           0.0  0.544554           0.0   \n",
       "1              0.0  1.384470           0.0  0.544554           0.0   \n",
       "\n",
       "   Oracle_Accuracy  Oracle_Accuracy-std  \n",
       "0         0.772277                  0.0  \n",
       "1         0.772277                  0.0  "
      ]
     },
     "execution_count": 8,
     "metadata": {},
     "output_type": "execute_result"
    }
   ],
   "source": [
    "import pandas as pd\n",
    "results_table = pd.read_csv(stats_folder + 'autism-asd_custom_oracle.csv')\n",
    "results_table"
   ]
  }
 ],
 "metadata": {
  "kernelspec": {
   "display_name": "Python 3",
   "language": "python",
   "name": "python3"
  },
  "language_info": {
   "codemirror_mode": {
    "name": "ipython",
    "version": 3
   },
   "file_extension": ".py",
   "mimetype": "text/x-python",
   "name": "python",
   "nbconvert_exporter": "python",
   "pygments_lexer": "ipython3",
   "version": "3.8.10"
  },
  "orig_nbformat": 4,
  "vscode": {
   "interpreter": {
    "hash": "916dbcbb3f70747c44a77c7bcd40155683ae19c65e1c03b4aa3499c5328201f1"
   }
  }
 },
 "nbformat": 4,
 "nbformat_minor": 2
}
