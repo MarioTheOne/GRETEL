{
 "cells": [
  {
   "cell_type": "markdown",
   "metadata": {},
   "source": [
    "# Using GRETEL\n",
    "### Evaluating a counterfactual explanation method on ASD dataset"
   ]
  },
  {
   "cell_type": "markdown",
   "metadata": {},
   "source": [
    "### Setting the config file path"
   ]
  },
  {
   "cell_type": "code",
   "execution_count": 9,
   "metadata": {},
   "outputs": [
    {
     "data": {
      "text/plain": [
       "'/home/coder/gretel'"
      ]
     },
     "execution_count": 9,
     "metadata": {},
     "output_type": "execute_result"
    }
   ],
   "source": [
    "import sys\n",
    "import os\n",
    "module_path = os.path.abspath(os.path.join('..'))\n",
    "sys.path.append(module_path)\n",
    "module_path"
   ]
  },
  {
   "cell_type": "code",
   "execution_count": 10,
   "metadata": {},
   "outputs": [
    {
     "data": {
      "text/plain": [
       "(True, True, True, True)"
      ]
     },
     "execution_count": 10,
     "metadata": {},
     "output_type": "execute_result"
    }
   ],
   "source": [
    "from src.evaluation.evaluator_manager import EvaluatorManager\n",
    "\n",
    "config_file_path = module_path + '/examples/config/config_autism_custom-oracle_dce.json'\n",
    "output_file_path = module_path + '/examples//output/asd_custom_oracle/DCESearchExplainer/results_run-0.json'\n",
    "output_folder = module_path + '/examples/output/'\n",
    "stats_folder = module_path + '/examples/stats/'\n",
    "\n",
    "# Verifying that the paths are valid\n",
    "(os.path.isfile(config_file_path), os.path.isfile(output_file_path), os.path.isdir(output_folder), os.path.isdir(stats_folder))"
   ]
  },
  {
   "cell_type": "markdown",
   "metadata": {},
   "source": [
    "### Creating the Evaluator Manager"
   ]
  },
  {
   "cell_type": "code",
   "execution_count": 11,
   "metadata": {},
   "outputs": [],
   "source": [
    "# The run number is a way to differentiate many runs of the same configurations\n",
    "eval_manager = EvaluatorManager(config_file_path, run_number=0)"
   ]
  },
  {
   "cell_type": "markdown",
   "metadata": {},
   "source": [
    "### Creating the Evaluators"
   ]
  },
  {
   "cell_type": "code",
   "execution_count": 12,
   "metadata": {},
   "outputs": [],
   "source": [
    "eval_manager.create_evaluators()"
   ]
  },
  {
   "cell_type": "markdown",
   "metadata": {},
   "source": [
    "### Evaluating the DCE Explainer on ASD dataset"
   ]
  },
  {
   "cell_type": "code",
   "execution_count": 13,
   "metadata": {},
   "outputs": [],
   "source": [
    "eval_manager.evaluate()"
   ]
  },
  {
   "cell_type": "markdown",
   "metadata": {},
   "source": [
    "After executing the previous steps, inside output/asd_custom_oracle/DCESearchExplainer/ should be located a file called results_run-0.json with the results"
   ]
  },
  {
   "cell_type": "code",
   "execution_count": 14,
   "metadata": {},
   "outputs": [
    {
     "data": {
      "text/plain": [
       "'{\"config\": {\"dataset\": {\"name\": \"autism\", \"parameters\": {}}, \"oracle\": {\"name\": \"asd_custom_oracle\", \"parameters\": {}}, \"explainer\": {\"name\": \"dce_search\", \"parameters\": {\"graph_distance\": {\"name\": \"graph_edit_distance\", \"parameters\": {}}}}, \"metrics\": [{\"name\": \"graph_edit_distance\", \"parameters\": {}}, {\"name\": \"oracle_calls\", \"parameters\": {}}, {\"name\": \"correctness\", \"parameters\": {}}, {\"name\": \"sparsity\", \"parameters\": {}}, {\"name\": \"fidelity\", \"parameters\": {}}, {\"name\": \"oracle_accuracy\", \"parameters\": {}}]}, \"runtime\": [0.13955402374267578, 0.08224225044250488, 0.07448935508728027, 0.07350993156433105, 0.06711459159851074, 0.06621885299682617, 0.0805819034576416, 0.07087850570678711, 0.06338620185852051, 0.07472395896911621, 0.0677335262298584, 0.06718611717224121, 0.07448887825012207, 0.0710439682006836, 0.06502676010131836, 0.07040238380432129, 0.08196330070495605, 0.07391667366027832, 0.07193279266357422, 0.07082629203796387, 0.06645965576171875, 0.0754082202911377, 0.06884431838989258, 0.0730583667755127, 0.06902813911437988, 0.0863199234008789, 0.08142638206481934, 0.06791853904724121, 0.06375956535339355, 0.08240962028503418, 0.07133340835571289, 0.07171821594238281, 0.07304096221923828, 0.06953859329223633, 0.05811595916748047, 0.07005023956298828, 0.06958341598510742, 0.06260228157043457, 0.06956887245178223, 0.07287287712097168, 0.07860493659973145, 0.07607913017272949, 0.08188104629516602, 0.12391233444213867, 0.06547832489013672, 0.08491325378417969, 0.06296586990356445, 0.07388424873352051, 0.09526419639587402, 0.0715785026550293, 0.07540178298950195, 0.07889413833618164, 0.07487702369689941, 0.0723578929901123, 0.06786751747131348, 0.0833747386932373, 0.06793498992919922, 0.065338134765625, 0.0691671371459961, 0.06486034393310547, 0.08205795288085938, 0.0652766227722168, 0.060500144958496094, 0.06412267684936523, 0.06590747833251953, 0.08439016342163086, 0.06070280075073242, 0.06224417686462402, 0.07722091674804688, 0.06991839408874512, 0.07332158088684082, 0.06041407585144043, 0.07340645790100098, 0.07240962982177734, 0.06585335731506348, 0.08836126327514648, 0.08223104476928711, 0.06646323204040527, 0.0598444938659668, 0.08233237266540527, 0.09759259223937988, 0.09217429161071777, 0.06060051918029785, 0.0615839958190918, 0.06193375587463379, 0.06039094924926758, 0.056522369384765625, 0.07403707504272461, 0.11292791366577148, 0.09574413299560547, 0.08471083641052246, 0.08722805976867676, 0.07875370979309082, 0.0863502025604248, 0.08610105514526367, 0.06953930854797363, 0.09063839912414551, 0.0635993480682373, 0.07831096649169922, 0.07157349586486816, 0.08030319213867188], \"Graph_Edit_Distance\": [993.0, 1019.0, 980.0, 968.0, 1012.0, 963.0, 980.0, 998.0, 993.0, 994.0, 968.0, 972.0, 1037.0, 1020.0, 1041.0, 1022.0, 998.0, 1008.0, 1010.0, 1033.0, 1003.0, 989.0, 997.0, 1050.0, 1015.0, 1013.0, 1003.0, 1017.0, 1045.0, 1050.0, 1035.0, 1057.0, 1022.0, 1004.0, 968.0, 996.0, 958.0, 998.0, 1026.0, 1058.0, 985.0, 968.0, 1004.0, 1008.0, 1011.0, 1027.0, 1070.0, 1007.0, 979.0, 968.0, 1003.0, 1012.0, 1033.0, 1019.0, 963.0, 1016.0, 1022.0, 1036.0, 1008.0, 1035.0, 1034.0, 1020.0, 997.0, 1020.0, 1018.0, 1007.0, 1003.0, 1017.0, 1043.0, 987.0, 1034.0, 1001.0, 1007.0, 1029.0, 1011.0, 1016.0, 1001.0, 1030.0, 1035.0, 1044.0, 1042.0, 994.0, 1005.0, 1090.0, 1001.0, 958.0, 1019.0, 1023.0, 1048.0, 1055.0, 1043.0, 1017.0, 1003.0, 1040.0, 985.0, 1026.0, 972.0, 1036.0, 998.0, 996.0, 989.0], \"Oracle_Calls\": [102, 102, 102, 102, 102, 102, 102, 102, 102, 102, 102, 102, 102, 102, 102, 102, 102, 102, 102, 102, 102, 102, 102, 102, 102, 102, 102, 102, 102, 102, 102, 102, 102, 102, 102, 102, 102, 102, 102, 102, 102, 102, 102, 102, 102, 102, 102, 102, 102, 102, 102, 102, 102, 102, 102, 102, 102, 102, 102, 102, 102, 102, 102, 102, 102, 102, 102, 102, 102, 102, 102, 102, 102, 102, 102, 102, 102, 102, 102, 102, 102, 102, 102, 102, 102, 102, 102, 102, 102, 102, 102, 102, 102, 102, 102, 102, 102, 102, 102, 102, 102], \"Correctness\": [1, 1, 1, 1, 1, 1, 1, 1, 1, 1, 1, 1, 1, 1, 1, 1, 1, 1, 1, 1, 1, 1, 1, 1, 1, 1, 1, 1, 1, 1, 1, 1, 1, 1, 1, 1, 1, 1, 1, 1, 1, 1, 1, 1, 1, 1, 1, 1, 1, 1, 1, 1, 1, 1, 1, 1, 1, 1, 1, 1, 1, 1, 1, 1, 1, 1, 1, 1, 1, 1, 1, 1, 1, 1, 1, 1, 1, 1, 1, 1, 1, 1, 1, 1, 1, 1, 1, 1, 1, 1, 1, 1, 1, 1, 1, 1, 1, 1, 1, 1, 1], \"Sparsity\": [1.3031496062992125, 1.3268229166666667, 1.2694300518134716, 1.2522639068564037, 1.3024453024453024, 1.2314578005115089, 1.2596401028277635, 1.2977893368010402, 1.306578947368421, 1.2892347600518808, 1.2522639068564037, 1.2857142857142858, 1.3415265200517466, 1.3076923076923077, 1.343225806451613, 1.3572377158034528, 1.2961038961038962, 1.290653008962868, 1.3116883116883118, 1.3520942408376964, 1.3162729658792651, 1.2728442728442728, 1.2881136950904393, 1.3601036269430051, 1.3096774193548386, 1.2953964194373402, 1.3025974025974025, 1.317357512953368, 1.3501291989664084, 1.3513513513513513, 1.332046332046332, 1.3638709677419354, 1.3153153153153154, 1.2904884318766068, 1.2620599739243807, 1.2901554404145077, 1.255570117955439, 1.2778489116517286, 1.3204633204633205, 1.3651612903225807, 1.2808842652795838, 1.2753623188405796, 1.3107049608355092, 1.3193717277486912, 1.3198433420365536, 1.3217503217503217, 1.3665389527458494, 1.297680412371134, 1.2681347150259068, 1.2720105124835743, 1.2826086956521738, 1.295774647887324, 1.3277634961439588, 1.3114543114543114, 1.2621231979030145, 1.3075933075933075, 1.3035714285714286, 1.3248081841432224, 1.3176470588235294, 1.335483870967742, 1.3376455368693403, 1.3195342820181113, 1.281491002570694, 1.3385826771653544, 1.3342070773263435, 1.3077922077922077, 1.3232189973614776, 1.3294117647058823, 1.337179487179487, 1.2768434670116429, 1.3428571428571427, 1.311926605504587, 1.2993548387096774, 1.3277419354838709, 1.3011583011583012, 1.3333333333333333, 1.3084967320261438, 1.3154533844189016, 1.3372093023255813, 1.3367477592829706, 1.339331619537275, 1.2993464052287582, 1.3018134715025906, 1.4046391752577319, 1.3136482939632546, 1.2457737321196358, 1.337270341207349, 1.3285714285714285, 1.352258064516129, 1.3525641025641026, 1.3406169665809768, 1.30719794344473, 1.3059895833333333, 1.3282247765006385, 1.309840425531915, 1.3482260183968462, 1.2755905511811023, 1.336774193548387, 1.2977893368010402, 1.2918287937743191, 1.2894393741851369], \"Fidelity\": [1, 1, -1, 1, 1, 1, 1, 1, 1, 1, 1, 1, 1, 1, -1, 1, 1, 1, 1, 1, 1, 1, 1, 1, 1, 1, 1, -1, -1, 1, 1, 1, -1, 1, -1, 1, 1, -1, -1, 1, 1, 1, -1, 1, -1, 1, -1, -1, 1, -1, -1, 1, -1, 1, 1, -1, 1, 1, -1, 1, 1, 1, 1, 1, 1, -1, 1, 1, -1, -1, 1, 1, 1, 1, 1, 1, 1, 1, 1, 1, 1, -1, 1, 1, 1, 1, 1, 1, 1, 1, 1, 1, 1, -1, 1, 1, 1, 1, 1, 1, -1], \"Oracle_Accuracy\": [1, 1, 0, 1, 1, 1, 1, 1, 1, 1, 1, 1, 1, 1, 0, 1, 1, 1, 1, 1, 1, 1, 1, 1, 1, 1, 1, 0, 0, 1, 1, 1, 0, 1, 0, 1, 1, 0, 0, 1, 1, 1, 0, 1, 0, 1, 0, 0, 1, 0, 0, 1, 0, 1, 1, 0, 1, 1, 0, 1, 1, 1, 1, 1, 1, 0, 1, 1, 0, 0, 1, 1, 1, 1, 1, 1, 1, 1, 1, 1, 1, 0, 1, 1, 1, 1, 1, 1, 1, 1, 1, 1, 1, 0, 1, 1, 1, 1, 1, 1, 0]}'"
      ]
     },
     "execution_count": 14,
     "metadata": {},
     "output_type": "execute_result"
    }
   ],
   "source": [
    "with open(output_file_path, 'r') as rs_json_reader:\n",
    "                results = rs_json_reader.read()\n",
    "\n",
    "results"
   ]
  },
  {
   "cell_type": "markdown",
   "metadata": {},
   "source": [
    " Generating tables with the aggregated results"
   ]
  },
  {
   "cell_type": "code",
   "execution_count": 15,
   "metadata": {},
   "outputs": [],
   "source": [
    "from src.data_analysis.data_analyzer import DataAnalyzer\n",
    "\n",
    "dtan = DataAnalyzer(output_folder, stats_folder)\n",
    "dtan.aggregate_data()\n",
    "dtan.aggregate_runs()\n",
    "dtan.create_tables_by_oracle_dataset()"
   ]
  },
  {
   "cell_type": "code",
   "execution_count": 16,
   "metadata": {},
   "outputs": [
    {
     "data": {
      "text/html": [
       "<div>\n",
       "<style scoped>\n",
       "    .dataframe tbody tr th:only-of-type {\n",
       "        vertical-align: middle;\n",
       "    }\n",
       "\n",
       "    .dataframe tbody tr th {\n",
       "        vertical-align: top;\n",
       "    }\n",
       "\n",
       "    .dataframe thead th {\n",
       "        text-align: right;\n",
       "    }\n",
       "</style>\n",
       "<table border=\"1\" class=\"dataframe\">\n",
       "  <thead>\n",
       "    <tr style=\"text-align: right;\">\n",
       "      <th></th>\n",
       "      <th>Unnamed: 0</th>\n",
       "      <th>explainer</th>\n",
       "      <th>runtime</th>\n",
       "      <th>runtime-std</th>\n",
       "      <th>Graph_Edit_Distance</th>\n",
       "      <th>Graph_Edit_Distance-std</th>\n",
       "      <th>Oracle_Calls</th>\n",
       "      <th>Oracle_Calls-std</th>\n",
       "      <th>Correctness</th>\n",
       "      <th>Correctness-std</th>\n",
       "      <th>Sparsity</th>\n",
       "      <th>Sparsity-std</th>\n",
       "      <th>Fidelity</th>\n",
       "      <th>Fidelity-std</th>\n",
       "      <th>Oracle_Accuracy</th>\n",
       "      <th>Oracle_Accuracy-std</th>\n",
       "    </tr>\n",
       "  </thead>\n",
       "  <tbody>\n",
       "    <tr>\n",
       "      <th>0</th>\n",
       "      <td>0</td>\n",
       "      <td>dce_search</td>\n",
       "      <td>0.074579</td>\n",
       "      <td>0.0</td>\n",
       "      <td>1011.693069</td>\n",
       "      <td>0.0</td>\n",
       "      <td>102.000000</td>\n",
       "      <td>0.0</td>\n",
       "      <td>1.0</td>\n",
       "      <td>0.0</td>\n",
       "      <td>1.311108</td>\n",
       "      <td>0.0</td>\n",
       "      <td>0.544554</td>\n",
       "      <td>0.0</td>\n",
       "      <td>0.772277</td>\n",
       "      <td>0.0</td>\n",
       "    </tr>\n",
       "    <tr>\n",
       "      <th>1</th>\n",
       "      <td>1</td>\n",
       "      <td>dummy_explainer</td>\n",
       "      <td>0.001474</td>\n",
       "      <td>0.0</td>\n",
       "      <td>1068.237624</td>\n",
       "      <td>0.0</td>\n",
       "      <td>2.930693</td>\n",
       "      <td>0.0</td>\n",
       "      <td>1.0</td>\n",
       "      <td>0.0</td>\n",
       "      <td>1.384470</td>\n",
       "      <td>0.0</td>\n",
       "      <td>0.544554</td>\n",
       "      <td>0.0</td>\n",
       "      <td>0.772277</td>\n",
       "      <td>0.0</td>\n",
       "    </tr>\n",
       "  </tbody>\n",
       "</table>\n",
       "</div>"
      ],
      "text/plain": [
       "   Unnamed: 0        explainer   runtime  runtime-std  Graph_Edit_Distance  \\\n",
       "0           0       dce_search  0.074579          0.0          1011.693069   \n",
       "1           1  dummy_explainer  0.001474          0.0          1068.237624   \n",
       "\n",
       "   Graph_Edit_Distance-std  Oracle_Calls  Oracle_Calls-std  Correctness  \\\n",
       "0                      0.0    102.000000               0.0          1.0   \n",
       "1                      0.0      2.930693               0.0          1.0   \n",
       "\n",
       "   Correctness-std  Sparsity  Sparsity-std  Fidelity  Fidelity-std  \\\n",
       "0              0.0  1.311108           0.0  0.544554           0.0   \n",
       "1              0.0  1.384470           0.0  0.544554           0.0   \n",
       "\n",
       "   Oracle_Accuracy  Oracle_Accuracy-std  \n",
       "0         0.772277                  0.0  \n",
       "1         0.772277                  0.0  "
      ]
     },
     "execution_count": 16,
     "metadata": {},
     "output_type": "execute_result"
    }
   ],
   "source": [
    "import pandas as pd\n",
    "results_table = pd.read_csv(stats_folder + 'autism-asd_custom_oracle.csv')\n",
    "results_table"
   ]
  }
 ],
 "metadata": {
  "kernelspec": {
   "display_name": "Python 3",
   "language": "python",
   "name": "python3"
  },
  "language_info": {
   "codemirror_mode": {
    "name": "ipython",
    "version": 3
   },
   "file_extension": ".py",
   "mimetype": "text/x-python",
   "name": "python",
   "nbconvert_exporter": "python",
   "pygments_lexer": "ipython3",
   "version": "3.8.10"
  },
  "orig_nbformat": 4,
  "vscode": {
   "interpreter": {
    "hash": "916dbcbb3f70747c44a77c7bcd40155683ae19c65e1c03b4aa3499c5328201f1"
   }
  }
 },
 "nbformat": 4,
 "nbformat_minor": 2
}
