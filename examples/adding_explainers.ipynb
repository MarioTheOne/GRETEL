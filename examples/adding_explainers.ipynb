{
 "cells": [
  {
   "cell_type": "markdown",
   "metadata": {},
   "source": [
    "# Adding a New Explainer to GRETEL"
   ]
  },
  {
   "cell_type": "code",
   "execution_count": 1,
   "metadata": {},
   "outputs": [],
   "source": [
    "import sys\n",
    "import os\n",
    "module_path = os.path.abspath(os.path.join('..'))\n",
    "sys.path.append(module_path)"
   ]
  },
  {
   "cell_type": "code",
   "execution_count": 9,
   "metadata": {},
   "outputs": [],
   "source": [
    "from src.evaluation.evaluator_manager import EvaluatorManager\n",
    "\n",
    "config_file_path = '/NFSHOME/mprado/CODE/GRETEL/examples/config/config_autism_custom-oracle_dummy_explainer.json'\n",
    "output_file_path = '/NFSHOME/mprado/CODE/GRETEL/output/asd_custom_oracle/DummyExplainer/results_run-0.json'"
   ]
  },
  {
   "cell_type": "markdown",
   "metadata": {},
   "source": [
    "## Creating a new Explainer"
   ]
  },
  {
   "cell_type": "markdown",
   "metadata": {},
   "source": [
    " Creating the explainer"
   ]
  },
  {
   "cell_type": "code",
   "execution_count": 10,
   "metadata": {},
   "outputs": [],
   "source": [
    "from src.evaluation.evaluation_metric_base import EvaluationMetric\n",
    "from src.explainer.explainer_base import Explainer\n",
    "from src.dataset.dataset_base import Dataset\n",
    "from src.oracle.oracle_base import Oracle\n",
    "\n",
    "class DummyExplainer(Explainer):\n",
    "    \"\"\"This Dummy Explainer search for the first counterfactual instance in the dataset and returns it\"\"\"\n",
    "\n",
    "    def __init__(self, id, config_dict=None) -> None:\n",
    "        super().__init__(id, config_dict)\n",
    "        self._name = 'DummyExplainer'\n",
    "\n",
    "\n",
    "    def explain(self, instance, oracle: Oracle, dataset: Dataset):\n",
    "        l_input_inst = oracle.predict(instance)\n",
    "\n",
    "        # if the method does not find a counterfactual example returns the original graph\n",
    "        min_counterfactual = instance\n",
    "\n",
    "        for d_inst in dataset.instances:\n",
    "            \n",
    "            l_data_inst = oracle.predict(d_inst)\n",
    "\n",
    "            if (l_input_inst != l_data_inst):\n",
    "                min_counterfactual = d_inst\n",
    "\n",
    "                return min_counterfactual\n",
    "        \n",
    "        return min_counterfactual\n"
   ]
  },
  {
   "cell_type": "markdown",
   "metadata": {},
   "source": [
    "Creating a custom ExplainerFactory that extends the base class with the new explainer"
   ]
  },
  {
   "cell_type": "code",
   "execution_count": 11,
   "metadata": {},
   "outputs": [],
   "source": [
    "from src.explainer.explainer_factory import ExplainerFactory\n",
    "from src.evaluation.evaluation_metric_factory import EvaluationMetricFactory\n",
    "\n",
    "class CustomExplainerFactory(ExplainerFactory):\n",
    "\n",
    "    def __init__(self, explainer_store_path):\n",
    "        super().__init__(explainer_store_path)\n",
    "\n",
    "    def get_explainer_by_name(self, explainer_dict, metric_factory : EvaluationMetricFactory) -> Explainer:\n",
    "        explainer_name = explainer_dict['name']\n",
    "\n",
    "        # Check if the explainer is DCE Search\n",
    "        if explainer_name == 'dummy_explainer':\n",
    "            # Returning the explainer\n",
    "            return self.get_dummy_explainer(explainer_dict)\n",
    "        else:\n",
    "            return super().get_explainer_by_name(explainer_dict, metric_factory)\n",
    "\n",
    "    def get_dummy_explainer(self, config_dict=None):\n",
    "        result = DummyExplainer(self._explainer_id_counter, config_dict)\n",
    "        self._explainer_id_counter += 1\n",
    "        return result\n",
    "            \n"
   ]
  },
  {
   "cell_type": "code",
   "execution_count": 12,
   "metadata": {},
   "outputs": [],
   "source": [
    "ex_store_path = '/NFSHOME/mprado/CODE/GRETEL/data/explainers/'\n",
    "ex_factory = CustomExplainerFactory(ex_store_path)\n",
    "\n",
    "# The run number is a way to differentiate many runs of the same configurations\n",
    "eval_manager = EvaluatorManager(config_file_path, run_number=0, \n",
    "                                dataset_factory=None, \n",
    "                                embedder_factory=None, \n",
    "                                oracle_factory=None, \n",
    "                                explainer_factory=ex_factory, \n",
    "                                evaluation_metric_factory=None)\n",
    "eval_manager.create_evaluators()\n",
    "eval_manager.evaluate()"
   ]
  },
  {
   "cell_type": "code",
   "execution_count": 13,
   "metadata": {},
   "outputs": [
    {
     "data": {
      "text/plain": [
       "'{\"config\": {\"dataset\": {\"name\": \"autism\", \"parameters\": {}}, \"oracle\": {\"name\": \"asd_custom_oracle\", \"parameters\": {}}, \"explainer\": {\"name\": \"dummy_explainer\", \"parameters\": {}}, \"metrics\": [{\"name\": \"graph_edit_distance\", \"parameters\": {}}, {\"name\": \"oracle_calls\", \"parameters\": {}}, {\"name\": \"correctness\", \"parameters\": {}}, {\"name\": \"sparsity\", \"parameters\": {}}, {\"name\": \"fidelity\", \"parameters\": {}}, {\"name\": \"oracle_accuracy\", \"parameters\": {}}]}, \"runtime\": [0.002142667770385742, 0.0005326271057128906, 0.0011496543884277344, 0.001150369644165039, 0.0011563301086425781, 0.001268625259399414, 0.0014653205871582031, 0.0011479854583740234, 0.0011401176452636719, 0.0011873245239257812, 0.0014743804931640625, 0.0014410018920898438, 0.0011568069458007812, 0.0011444091796875, 0.0014407634735107422, 0.0011823177337646484, 0.0011701583862304688, 0.0011718273162841797, 0.0011553764343261719, 0.0011591911315917969, 0.0011403560638427734, 0.0014922618865966797, 0.0011365413665771484, 0.0011832714080810547, 0.0011227130889892578, 0.001115560531616211, 0.0014317035675048828, 0.0011298656463623047, 0.0014879703521728516, 0.0011417865753173828, 0.0011563301086425781, 0.0011606216430664062, 0.0014848709106445312, 0.0011744499206542969, 0.001171112060546875, 0.0011932849884033203, 0.0011641979217529297, 0.001489400863647461, 0.001220703125, 0.0011610984802246094, 0.0014605522155761719, 0.0014591217041015625, 0.001161336898803711, 0.0011606216430664062, 0.0014548301696777344, 0.0011456012725830078, 0.0011625289916992188, 0.001171112060546875, 0.001161336898803711, 0.0014829635620117188, 0.0011432170867919922, 0.0011432170867919922, 0.0014646053314208984, 0.0014445781707763672, 0.001468658447265625, 0.0011687278747558594, 0.0014736652374267578, 0.0011603832244873047, 0.0014989376068115234, 0.0014688968658447266, 0.001163482666015625, 0.0014801025390625, 0.001458883285522461, 0.00146484375, 0.0015223026275634766, 0.0014586448669433594, 0.0014522075653076172, 0.0015888214111328125, 0.0014796257019042969, 0.0014519691467285156, 0.0011620521545410156, 0.0014848709106445312, 0.0014739036560058594, 0.0014531612396240234, 0.0014684200286865234, 0.0014691352844238281, 0.001451730728149414, 0.0014681816101074219, 0.0014650821685791016, 0.001466512680053711, 0.0011589527130126953, 0.0014667510986328125, 0.0014700889587402344, 0.0015010833740234375, 0.0014629364013671875, 0.0014567375183105469, 0.0015459060668945312, 0.0014722347259521484, 0.0014636516571044922, 0.0011744499206542969, 0.0014808177947998047, 0.0014660358428955078, 0.001505136489868164, 0.0014765262603759766, 0.0014722347259521484, 0.001165151596069336, 0.0014927387237548828, 0.0014603137969970703, 0.0011610984802246094, 0.001489877700805664, 0.0011515617370605469], \"Graph_Edit_Distance\": [1102.0, 1102.0, 1091.0, 1098.0, 1052.0, 1099.0, 1089.0, 1111.0, 1077.0, 1058.0, 1069.0, 1080.0, 1100.0, 1120.0, 1034.0, 1112.0, 1057.0, 1051.0, 1091.0, 1065.0, 1089.0, 1080.0, 1105.0, 1083.0, 1071.0, 1022.0, 1059.0, 1098.0, 1047.0, 1071.0, 1079.0, 1073.0, 1012.0, 1138.0, 1078.0, 1112.0, 1064.0, 1090.0, 1092.0, 1138.0, 1047.0, 1132.0, 1121.0, 1071.0, 1069.0, 1088.0, 1093.0, 1108.0, 1052.0, 1039.0, 1086.0, 1085.0, 1102.0, 1056.0, 1084.0, 1121.0, 1088.0, 1116.0, 1060.0, 1072.0, 1077.0, 1121.0, 1049.0, 1032.0, 1041.0, 1064.0, 1107.0, 1064.0, 1080.0, 1061.0, 1076.0, 1077.0, 1056.0, 1055.0, 1077.0, 1065.0, 1069.0, 1108.0, 1088.0, 1077.0, 1058.0, 1070.0, 1048.0, 1085.0, 1065.0, 1029.0, 1071.0, 1079.0, 1040.0, 1097.0, 1092.0, 1098.0, 1075.0, 1049.0, 1031.0, 1104.0, 1055.0, 1070.0, 1070.0, 1068.0, 1066.0], \"Oracle_Calls\": [3, 2, 2, 2, 2, 2, 3, 2, 2, 2, 3, 3, 2, 2, 3, 2, 2, 2, 2, 2, 2, 3, 2, 2, 2, 2, 3, 2, 3, 2, 2, 2, 3, 2, 2, 2, 2, 3, 2, 2, 3, 3, 2, 2, 3, 2, 2, 2, 2, 3, 2, 2, 3, 3, 3, 2, 3, 2, 3, 3, 2, 3, 3, 3, 3, 3, 3, 3, 3, 3, 2, 3, 3, 3, 3, 3, 3, 3, 3, 3, 2, 3, 3, 3, 3, 3, 3, 3, 3, 2, 3, 3, 3, 3, 3, 2, 3, 3, 2, 3, 2], \"Correctness\": [1, 1, 1, 1, 1, 1, 1, 1, 1, 1, 1, 1, 1, 1, 1, 1, 1, 1, 1, 1, 1, 1, 1, 1, 1, 1, 1, 1, 1, 1, 1, 1, 1, 1, 1, 1, 1, 1, 1, 1, 1, 1, 1, 1, 1, 1, 1, 1, 1, 1, 1, 1, 1, 1, 1, 1, 1, 1, 1, 1, 1, 1, 1, 1, 1, 1, 1, 1, 1, 1, 1, 1, 1, 1, 1, 1, 1, 1, 1, 1, 1, 1, 1, 1, 1, 1, 1, 1, 1, 1, 1, 1, 1, 1, 1, 1, 1, 1, 1, 1, 1], \"Sparsity\": [1.4182754182754183, 1.41101152368758, 1.4280104712041886, 1.4204398447606728, 1.353925353925354, 1.4053708439897699, 1.4033505154639174, 1.4243589743589744, 1.3987012987012988, 1.3651612903225807, 1.3847150259067358, 1.38996138996139, 1.4193548387096775, 1.4564369310793237, 1.3587385019710907, 1.4385510996119018, 1.3981481481481481, 1.379265091863517, 1.4023136246786632, 1.3831168831168832, 1.3997429305912596, 1.382842509603073, 1.4350649350649352, 1.3849104859335037, 1.3873056994818653, 1.3394495412844036, 1.3825065274151436, 1.4058898847631243, 1.366840731070496, 1.405511811023622, 1.4197368421052632, 1.3863049095607236, 1.319426336375489, 1.4646074646074647, 1.401820546163849, 1.4311454311454312, 1.3693693693693694, 1.4064516129032258, 1.4054054054054055, 1.4683870967741937, 1.3562176165803108, 1.445721583652618, 1.4520725388601037, 1.3873056994818653, 1.3811369509043927, 1.4334650856389988, 1.4231770833333333, 1.437094682230869, 1.3609314359637774, 1.3286445012787724, 1.4422310756972112, 1.4201570680628273, 1.4219354838709677, 1.3625806451612903, 1.3987096774193548, 1.4371794871794872, 1.407503234152652, 1.4588235294117646, 1.367741935483871, 1.4013071895424836, 1.3987012987012988, 1.4445876288659794, 1.383905013192612, 1.33852140077821, 1.3380462724935733, 1.3944954128440368, 1.430232558139535, 1.3908496732026143, 1.4154652686762779, 1.377922077922078, 1.4028683181225554, 1.3807692307692307, 1.3732119635890767, 1.3845144356955381, 1.3843187660668381, 1.38671875, 1.4028871391076116, 1.4186939820742637, 1.407503234152652, 1.3843187660668381, 1.3830065359477124, 1.377091377091377, 1.352258064516129, 1.4090909090909092, 1.3584183673469388, 1.3503937007874016, 1.3695652173913044, 1.3868894601542416, 1.363040629095675, 1.4100257069408741, 1.4054054054054055, 1.442838370565046, 1.4107611548556431, 1.3588082901554404, 1.3710106382978724, 1.4099616858237547, 1.3845144356955381, 1.3665389527458494, 1.377091377091377, 1.388816644993498, 1.3790426908150064], \"Fidelity\": [-1, 1, 1, 1, 1, 1, -1, 1, 1, 1, -1, -1, 1, 1, -1, 1, 1, 1, 1, 1, 1, -1, 1, 1, 1, 1, -1, 1, -1, 1, 1, 1, -1, 1, 1, 1, 1, -1, 1, 1, -1, -1, 1, 1, -1, 1, 1, 1, 1, -1, 1, 1, 1, 1, 1, -1, 1, -1, 1, 1, -1, 1, 1, 1, 1, 1, 1, 1, 1, 1, -1, 1, 1, 1, 1, 1, 1, 1, 1, 1, -1, 1, 1, 1, 1, 1, 1, 1, 1, -1, 1, 1, 1, 1, 1, -1, 1, 1, -1, 1, -1], \"Oracle_Accuracy\": [0, 1, 1, 1, 1, 1, 0, 1, 1, 1, 0, 0, 1, 1, 0, 1, 1, 1, 1, 1, 1, 0, 1, 1, 1, 1, 0, 1, 0, 1, 1, 1, 0, 1, 1, 1, 1, 0, 1, 1, 0, 0, 1, 1, 0, 1, 1, 1, 1, 0, 1, 1, 1, 1, 1, 0, 1, 0, 1, 1, 0, 1, 1, 1, 1, 1, 1, 1, 1, 1, 0, 1, 1, 1, 1, 1, 1, 1, 1, 1, 0, 1, 1, 1, 1, 1, 1, 1, 1, 0, 1, 1, 1, 1, 1, 0, 1, 1, 0, 1, 0]}'"
      ]
     },
     "execution_count": 13,
     "metadata": {},
     "output_type": "execute_result"
    }
   ],
   "source": [
    "with open(output_file_path, 'r') as rs_json_reader:\n",
    "                results = rs_json_reader.read()\n",
    "\n",
    "results"
   ]
  },
  {
   "cell_type": "code",
   "execution_count": 14,
   "metadata": {},
   "outputs": [],
   "source": [
    "from src.data_analysis.data_analyzer import DataAnalyzer\n",
    "\n",
    "dtan = DataAnalyzer('/NFSHOME/mprado/CODE/GRETEL/output', '/NFSHOME/mprado/CODE/GRETEL/stats')\n",
    "dtan.aggregate_data()\n",
    "dtan.aggregate_runs()\n",
    "dtan.create_tables_by_oracle_dataset()"
   ]
  },
  {
   "cell_type": "code",
   "execution_count": 15,
   "metadata": {},
   "outputs": [
    {
     "data": {
      "text/html": [
       "<div>\n",
       "<style scoped>\n",
       "    .dataframe tbody tr th:only-of-type {\n",
       "        vertical-align: middle;\n",
       "    }\n",
       "\n",
       "    .dataframe tbody tr th {\n",
       "        vertical-align: top;\n",
       "    }\n",
       "\n",
       "    .dataframe thead th {\n",
       "        text-align: right;\n",
       "    }\n",
       "</style>\n",
       "<table border=\"1\" class=\"dataframe\">\n",
       "  <thead>\n",
       "    <tr style=\"text-align: right;\">\n",
       "      <th></th>\n",
       "      <th>Unnamed: 0</th>\n",
       "      <th>explainer</th>\n",
       "      <th>runtime</th>\n",
       "      <th>Graph_Edit_Distance</th>\n",
       "      <th>Oracle_Calls</th>\n",
       "      <th>Correctness</th>\n",
       "      <th>Sparsity</th>\n",
       "      <th>Fidelity</th>\n",
       "      <th>Oracle_Accuracy</th>\n",
       "    </tr>\n",
       "  </thead>\n",
       "  <tbody>\n",
       "    <tr>\n",
       "      <th>0</th>\n",
       "      <td>0</td>\n",
       "      <td>dce_search</td>\n",
       "      <td>0.059996</td>\n",
       "      <td>1011.693069</td>\n",
       "      <td>102.000000</td>\n",
       "      <td>1.0</td>\n",
       "      <td>1.311108</td>\n",
       "      <td>0.544554</td>\n",
       "      <td>0.772277</td>\n",
       "    </tr>\n",
       "    <tr>\n",
       "      <th>1</th>\n",
       "      <td>1</td>\n",
       "      <td>dummy_explainer</td>\n",
       "      <td>0.001329</td>\n",
       "      <td>1077.356436</td>\n",
       "      <td>2.534653</td>\n",
       "      <td>1.0</td>\n",
       "      <td>1.396227</td>\n",
       "      <td>0.544554</td>\n",
       "      <td>0.772277</td>\n",
       "    </tr>\n",
       "  </tbody>\n",
       "</table>\n",
       "</div>"
      ],
      "text/plain": [
       "   Unnamed: 0        explainer   runtime  Graph_Edit_Distance  Oracle_Calls  \\\n",
       "0           0       dce_search  0.059996          1011.693069    102.000000   \n",
       "1           1  dummy_explainer  0.001329          1077.356436      2.534653   \n",
       "\n",
       "   Correctness  Sparsity  Fidelity  Oracle_Accuracy  \n",
       "0          1.0  1.311108  0.544554         0.772277  \n",
       "1          1.0  1.396227  0.544554         0.772277  "
      ]
     },
     "execution_count": 15,
     "metadata": {},
     "output_type": "execute_result"
    }
   ],
   "source": [
    "import pandas as pd\n",
    "results_table = pd.read_csv('/NFSHOME/mprado/CODE/GRETEL/stats/autism-asd_custom_oracle.csv')\n",
    "results_table"
   ]
  },
  {
   "cell_type": "markdown",
   "metadata": {},
   "source": []
  }
 ],
 "metadata": {
  "interpreter": {
   "hash": "88322b12a140a80a1f1aeee35a26a90b248c7483a7bd5d3291ac713b57c394e7"
  },
  "kernelspec": {
   "display_name": "Python 3.7.13 ('XAI37')",
   "language": "python",
   "name": "python3"
  },
  "language_info": {
   "codemirror_mode": {
    "name": "ipython",
    "version": 3
   },
   "file_extension": ".py",
   "mimetype": "text/x-python",
   "name": "python",
   "nbconvert_exporter": "python",
   "pygments_lexer": "ipython3",
   "version": "3.7.13"
  },
  "orig_nbformat": 4
 },
 "nbformat": 4,
 "nbformat_minor": 2
}
