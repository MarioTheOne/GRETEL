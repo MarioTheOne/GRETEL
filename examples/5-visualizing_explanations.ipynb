{
 "cells": [
  {
   "attachments": {},
   "cell_type": "markdown",
   "metadata": {},
   "source": [
    "# Visualizing the Explanations"
   ]
  },
  {
   "attachments": {},
   "cell_type": "markdown",
   "metadata": {},
   "source": [
    "### Setting the config file path"
   ]
  },
  {
   "cell_type": "code",
   "execution_count": 16,
   "metadata": {},
   "outputs": [
    {
     "data": {
      "text/plain": [
       "'/home/coder/gretel'"
      ]
     },
     "execution_count": 16,
     "metadata": {},
     "output_type": "execute_result"
    }
   ],
   "source": [
    "import sys\n",
    "import os\n",
    "module_path = os.path.abspath(os.path.join('..'))\n",
    "sys.path.append(module_path)\n",
    "module_path"
   ]
  },
  {
   "cell_type": "code",
   "execution_count": 17,
   "metadata": {},
   "outputs": [
    {
     "data": {
      "text/plain": [
       "(True, True, True, True)"
      ]
     },
     "execution_count": 17,
     "metadata": {},
     "output_type": "execute_result"
    }
   ],
   "source": [
    "from src.evaluation.evaluator_manager import EvaluatorManager\n",
    "\n",
    "config_file_path = module_path + '/examples/config/config_trisqr_trisqr_custom_oracle_dce.json'\n",
    "output_file_path = module_path + '/examples/output/triangles_squares_custom_oracle/DCESearchExplainer/results_run-0.json'\n",
    "output_folder = module_path + '/examples/output/'\n",
    "stats_folder = module_path + '/examples/stats/'\n",
    "\n",
    "# Verifying that the paths are valid\n",
    "(os.path.isfile(config_file_path), os.path.isfile(output_file_path), os.path.isdir(output_folder), os.path.isdir(stats_folder))"
   ]
  },
  {
   "attachments": {},
   "cell_type": "markdown",
   "metadata": {},
   "source": [
    "### Creating the Evaluator Manager"
   ]
  },
  {
   "cell_type": "code",
   "execution_count": 18,
   "metadata": {},
   "outputs": [],
   "source": [
    "# The run number is a way to differentiate many runs of the same configurations\n",
    "eval_manager = EvaluatorManager(config_file_path, run_number=0)\n",
    "# Creating the evaluation pipelines\n",
    "eval_manager.create_evaluators()\n",
    "# Evaluating the explainers\n",
    "eval_manager.evaluate()"
   ]
  },
  {
   "attachments": {},
   "cell_type": "markdown",
   "metadata": {},
   "source": [
    "### Visualizing the results"
   ]
  },
  {
   "attachments": {},
   "cell_type": "markdown",
   "metadata": {},
   "source": [
    "Showing the json file with the output"
   ]
  },
  {
   "cell_type": "code",
   "execution_count": 19,
   "metadata": {},
   "outputs": [
    {
     "data": {
      "text/plain": [
       "'{\"config\": {\"dataset\": {\"name\": \"trisqr\", \"parameters\": {\"n_inst\": 80}}, \"oracle\": {\"name\": \"trisqr_custom_oracle\", \"parameters\": {\"embedder\": {\"name\": \"graph2vec\", \"parameters\": {}}}}, \"explainer\": {\"name\": \"dce_search\", \"parameters\": {\"graph_distance\": {\"name\": \"graph_edit_distance\", \"parameters\": {}}}}, \"metrics\": [{\"name\": \"graph_edit_distance\", \"parameters\": {}}, {\"name\": \"oracle_calls\", \"parameters\": {}}, {\"name\": \"correctness\", \"parameters\": {}}, {\"name\": \"sparsity\", \"parameters\": {}}, {\"name\": \"fidelity\", \"parameters\": {}}, {\"name\": \"oracle_accuracy\", \"parameters\": {}}]}, \"runtime\": [0.0008065700531005859, 0.0005841255187988281, 0.0005342960357666016, 0.0005202293395996094, 0.0009076595306396484, 0.0006539821624755859, 0.0005407333374023438, 0.0009913444519042969, 0.0006079673767089844, 0.0005807876586914062, 0.0005276203155517578, 0.0005199909210205078, 0.0005061626434326172, 0.0006566047668457031, 0.0009162425994873047, 0.0007920265197753906, 0.0006377696990966797, 0.0006299018859863281, 0.0006506443023681641, 0.0006291866302490234, 0.0006189346313476562, 0.0006194114685058594, 0.0006573200225830078, 0.0006167888641357422, 0.00061798095703125, 0.0006244182586669922, 0.0006189346313476562, 0.0007963180541992188, 0.0013568401336669922, 0.0006418228149414062, 0.0007491111755371094, 0.0005443096160888672, 0.0006716251373291016, 0.0005309581756591797, 0.0005171298980712891, 0.0005064010620117188, 0.0006420612335205078, 0.0007224082946777344, 0.0006968975067138672, 0.0006887912750244141, 0.0007128715515136719, 0.0006620883941650391, 0.000743865966796875, 0.0006966590881347656, 0.0006814002990722656, 0.0006973743438720703, 0.0006995201110839844, 0.0005922317504882812, 0.0005190372467041016, 0.0005168914794921875, 0.0005478858947753906, 0.0005037784576416016, 0.0005156993865966797, 0.0005173683166503906, 0.0005042552947998047, 0.0005216598510742188, 0.0005564689636230469, 0.0005671977996826172, 0.0005214214324951172, 0.0005202293395996094, 0.0005156993865966797, 0.001813650131225586, 0.0010204315185546875, 0.0008039474487304688, 0.0006988048553466797, 0.0007200241088867188, 0.0007030963897705078, 0.0006704330444335938, 0.0005366802215576172, 0.0006420612335205078, 0.0005242824554443359, 0.0005214214324951172, 0.0005342960357666016, 0.0005505084991455078, 0.0005135536193847656, 0.0006906986236572266, 0.0005199909210205078, 0.0005183219909667969, 0.0005488395690917969, 0.0005142688751220703], \"Graph_Edit_Distance\": [4.0, 4.0, 4.0, 4.0, 4.0, 4.0, 4.0, 4.0, 4.0, 4.0, 4.0, 4.0, 4.0, 4.0, 4.0, 4.0, 4.0, 4.0, 4.0, 4.0, 4.0, 4.0, 4.0, 4.0, 4.0, 4.0, 4.0, 4.0, 4.0, 4.0, 4.0, 4.0, 4.0, 4.0, 4.0, 4.0, 4.0, 4.0, 4.0, 4.0, 4.0, 4.0, 4.0, 4.0, 4.0, 4.0, 4.0, 4.0, 4.0, 4.0, 4.0, 4.0, 4.0, 4.0, 4.0, 4.0, 4.0, 4.0, 4.0, 4.0, 4.0, 4.0, 4.0, 4.0, 4.0, 4.0, 4.0, 4.0, 4.0, 4.0, 4.0, 4.0, 4.0, 4.0, 4.0, 4.0, 4.0, 4.0, 4.0, 4.0], \"Oracle_Calls\": [81, 81, 81, 81, 81, 81, 81, 81, 81, 81, 81, 81, 81, 81, 81, 81, 81, 81, 81, 81, 81, 81, 81, 81, 81, 81, 81, 81, 81, 81, 81, 81, 81, 81, 81, 81, 81, 81, 81, 81, 81, 81, 81, 81, 81, 81, 81, 81, 81, 81, 81, 81, 81, 81, 81, 81, 81, 81, 81, 81, 81, 81, 81, 81, 81, 81, 81, 81, 81, 81, 81, 81, 81, 81, 81, 81, 81, 81, 81, 81], \"Correctness\": [1, 1, 1, 1, 1, 1, 1, 1, 1, 1, 1, 1, 1, 1, 1, 1, 1, 1, 1, 1, 1, 1, 1, 1, 1, 1, 1, 1, 1, 1, 1, 1, 1, 1, 1, 1, 1, 1, 1, 1, 1, 1, 1, 1, 1, 1, 1, 1, 1, 1, 1, 1, 1, 1, 1, 1, 1, 1, 1, 1, 1, 1, 1, 1, 1, 1, 1, 1, 1, 1, 1, 1, 1, 1, 1, 1, 1, 1, 1, 1], \"Sparsity\": [0.6666666666666666, 0.6666666666666666, 0.5, 0.6666666666666666, 0.5, 0.5, 0.6666666666666666, 0.5, 0.6666666666666666, 0.6666666666666666, 0.5, 0.6666666666666666, 0.6666666666666666, 0.5, 0.6666666666666666, 0.6666666666666666, 0.6666666666666666, 0.6666666666666666, 0.5, 0.5, 0.5, 0.6666666666666666, 0.6666666666666666, 0.6666666666666666, 0.5, 0.5, 0.5, 0.6666666666666666, 0.6666666666666666, 0.5, 0.6666666666666666, 0.5, 0.6666666666666666, 0.5, 0.5, 0.5, 0.5, 0.5, 0.5, 0.5, 0.5, 0.5, 0.5, 0.5, 0.5, 0.6666666666666666, 0.5, 0.6666666666666666, 0.6666666666666666, 0.5, 0.5, 0.6666666666666666, 0.6666666666666666, 0.6666666666666666, 0.6666666666666666, 0.5, 0.6666666666666666, 0.6666666666666666, 0.6666666666666666, 0.6666666666666666, 0.6666666666666666, 0.5, 0.5, 0.5, 0.5, 0.6666666666666666, 0.6666666666666666, 0.5, 0.6666666666666666, 0.6666666666666666, 0.5, 0.5, 0.6666666666666666, 0.6666666666666666, 0.6666666666666666, 0.6666666666666666, 0.5, 0.5, 0.5, 0.6666666666666666], \"Fidelity\": [1, 1, 1, 1, 1, 1, 1, 1, 1, 1, 1, 1, 1, 1, 1, 1, 1, 1, 1, 1, 1, 1, 1, 1, 1, 1, 1, 1, 1, 1, 1, 1, 1, 1, 1, 1, 1, 1, 1, 1, 1, 1, 1, 1, 1, 1, 1, 1, 1, 1, 1, 1, 1, 1, 1, 1, 1, 1, 1, 1, 1, 1, 1, 1, 1, 1, 1, 1, 1, 1, 1, 1, 1, 1, 1, 1, 1, 1, 1, 1], \"Oracle_Accuracy\": [1, 1, 1, 1, 1, 1, 1, 1, 1, 1, 1, 1, 1, 1, 1, 1, 1, 1, 1, 1, 1, 1, 1, 1, 1, 1, 1, 1, 1, 1, 1, 1, 1, 1, 1, 1, 1, 1, 1, 1, 1, 1, 1, 1, 1, 1, 1, 1, 1, 1, 1, 1, 1, 1, 1, 1, 1, 1, 1, 1, 1, 1, 1, 1, 1, 1, 1, 1, 1, 1, 1, 1, 1, 1, 1, 1, 1, 1, 1, 1]}'"
      ]
     },
     "execution_count": 19,
     "metadata": {},
     "output_type": "execute_result"
    }
   ],
   "source": [
    "with open(output_file_path, 'r') as rs_json_reader:\n",
    "                results = rs_json_reader.read()\n",
    "\n",
    "results"
   ]
  },
  {
   "attachments": {},
   "cell_type": "markdown",
   "metadata": {},
   "source": [
    "Creating a table with the results"
   ]
  },
  {
   "cell_type": "code",
   "execution_count": 20,
   "metadata": {},
   "outputs": [
    {
     "data": {
      "text/html": [
       "<div>\n",
       "<style scoped>\n",
       "    .dataframe tbody tr th:only-of-type {\n",
       "        vertical-align: middle;\n",
       "    }\n",
       "\n",
       "    .dataframe tbody tr th {\n",
       "        vertical-align: top;\n",
       "    }\n",
       "\n",
       "    .dataframe thead th {\n",
       "        text-align: right;\n",
       "    }\n",
       "</style>\n",
       "<table border=\"1\" class=\"dataframe\">\n",
       "  <thead>\n",
       "    <tr style=\"text-align: right;\">\n",
       "      <th></th>\n",
       "      <th>Unnamed: 0</th>\n",
       "      <th>explainer</th>\n",
       "      <th>runtime</th>\n",
       "      <th>runtime-std</th>\n",
       "      <th>Graph_Edit_Distance</th>\n",
       "      <th>Graph_Edit_Distance-std</th>\n",
       "      <th>Oracle_Calls</th>\n",
       "      <th>Oracle_Calls-std</th>\n",
       "      <th>Correctness</th>\n",
       "      <th>Correctness-std</th>\n",
       "      <th>Sparsity</th>\n",
       "      <th>Sparsity-std</th>\n",
       "      <th>Fidelity</th>\n",
       "      <th>Fidelity-std</th>\n",
       "      <th>Oracle_Accuracy</th>\n",
       "      <th>Oracle_Accuracy-std</th>\n",
       "    </tr>\n",
       "  </thead>\n",
       "  <tbody>\n",
       "    <tr>\n",
       "      <th>0</th>\n",
       "      <td>0</td>\n",
       "      <td>dce_search</td>\n",
       "      <td>0.00065</td>\n",
       "      <td>0.0</td>\n",
       "      <td>4.0</td>\n",
       "      <td>0.0</td>\n",
       "      <td>81.0</td>\n",
       "      <td>0.0</td>\n",
       "      <td>1.0</td>\n",
       "      <td>0.0</td>\n",
       "      <td>0.583333</td>\n",
       "      <td>0.0</td>\n",
       "      <td>1.0</td>\n",
       "      <td>0.0</td>\n",
       "      <td>1.0</td>\n",
       "      <td>0.0</td>\n",
       "    </tr>\n",
       "  </tbody>\n",
       "</table>\n",
       "</div>"
      ],
      "text/plain": [
       "   Unnamed: 0   explainer  runtime  runtime-std  Graph_Edit_Distance  \\\n",
       "0           0  dce_search  0.00065          0.0                  4.0   \n",
       "\n",
       "   Graph_Edit_Distance-std  Oracle_Calls  Oracle_Calls-std  Correctness  \\\n",
       "0                      0.0          81.0               0.0          1.0   \n",
       "\n",
       "   Correctness-std  Sparsity  Sparsity-std  Fidelity  Fidelity-std  \\\n",
       "0              0.0  0.583333           0.0       1.0           0.0   \n",
       "\n",
       "   Oracle_Accuracy  Oracle_Accuracy-std  \n",
       "0              1.0                  0.0  "
      ]
     },
     "execution_count": 20,
     "metadata": {},
     "output_type": "execute_result"
    }
   ],
   "source": [
    "from src.data_analysis.data_analyzer import DataAnalyzer\n",
    "import pandas as pd\n",
    "\n",
    "dtan = DataAnalyzer(output_folder, stats_folder)\n",
    "dtan.aggregate_data()\n",
    "dtan.aggregate_runs()\n",
    "dtan.create_tables_by_oracle_dataset()\n",
    "\n",
    "results_table = pd.read_csv(stats_folder + 'trisqr-trisqr_custom_oracle.csv')\n",
    "results_table"
   ]
  },
  {
   "attachments": {},
   "cell_type": "markdown",
   "metadata": {},
   "source": [
    "### Analizing a Counterfactual Explanation"
   ]
  },
  {
   "cell_type": "code",
   "execution_count": 21,
   "metadata": {},
   "outputs": [],
   "source": [
    "# Getting one of the evaluators (evaluation pipelines)\n",
    "ev = eval_manager.evaluators[0]\n",
    "# Obtain the for each data instance its counterfactual explanation\n",
    "inst_exp_list = ev.get_instance_explanation_pairs()\n",
    "# Take the first pair instance-explanation as an example\n",
    "inst, exp = inst_exp_list[2]"
   ]
  },
  {
   "attachments": {},
   "cell_type": "markdown",
   "metadata": {},
   "source": [
    "Visualizing the labels of each instance and their counterfactuals against the ground truth"
   ]
  },
  {
   "cell_type": "code",
   "execution_count": 22,
   "metadata": {},
   "outputs": [
    {
     "data": {
      "text/plain": [
       "[{'instance_id': 78,\n",
       "  'ground_truth_label': 1,\n",
       "  'instance_label': 1,\n",
       "  'counterfactual_label': 0},\n",
       " {'instance_id': 1,\n",
       "  'ground_truth_label': 1,\n",
       "  'instance_label': 1,\n",
       "  'counterfactual_label': 0},\n",
       " {'instance_id': 79,\n",
       "  'ground_truth_label': 0,\n",
       "  'instance_label': 0,\n",
       "  'counterfactual_label': 1},\n",
       " {'instance_id': 3,\n",
       "  'ground_truth_label': 1,\n",
       "  'instance_label': 1,\n",
       "  'counterfactual_label': 0},\n",
       " {'instance_id': 4,\n",
       "  'ground_truth_label': 0,\n",
       "  'instance_label': 0,\n",
       "  'counterfactual_label': 1},\n",
       " {'instance_id': 5,\n",
       "  'ground_truth_label': 0,\n",
       "  'instance_label': 0,\n",
       "  'counterfactual_label': 1},\n",
       " {'instance_id': 6,\n",
       "  'ground_truth_label': 1,\n",
       "  'instance_label': 1,\n",
       "  'counterfactual_label': 0},\n",
       " {'instance_id': 7,\n",
       "  'ground_truth_label': 0,\n",
       "  'instance_label': 0,\n",
       "  'counterfactual_label': 1},\n",
       " {'instance_id': 8,\n",
       "  'ground_truth_label': 1,\n",
       "  'instance_label': 1,\n",
       "  'counterfactual_label': 0},\n",
       " {'instance_id': 9,\n",
       "  'ground_truth_label': 1,\n",
       "  'instance_label': 1,\n",
       "  'counterfactual_label': 0},\n",
       " {'instance_id': 10,\n",
       "  'ground_truth_label': 0,\n",
       "  'instance_label': 0,\n",
       "  'counterfactual_label': 1},\n",
       " {'instance_id': 11,\n",
       "  'ground_truth_label': 1,\n",
       "  'instance_label': 1,\n",
       "  'counterfactual_label': 0},\n",
       " {'instance_id': 12,\n",
       "  'ground_truth_label': 1,\n",
       "  'instance_label': 1,\n",
       "  'counterfactual_label': 0},\n",
       " {'instance_id': 13,\n",
       "  'ground_truth_label': 0,\n",
       "  'instance_label': 0,\n",
       "  'counterfactual_label': 1},\n",
       " {'instance_id': 14,\n",
       "  'ground_truth_label': 1,\n",
       "  'instance_label': 1,\n",
       "  'counterfactual_label': 0},\n",
       " {'instance_id': 15,\n",
       "  'ground_truth_label': 1,\n",
       "  'instance_label': 1,\n",
       "  'counterfactual_label': 0},\n",
       " {'instance_id': 16,\n",
       "  'ground_truth_label': 1,\n",
       "  'instance_label': 1,\n",
       "  'counterfactual_label': 0},\n",
       " {'instance_id': 17,\n",
       "  'ground_truth_label': 1,\n",
       "  'instance_label': 1,\n",
       "  'counterfactual_label': 0},\n",
       " {'instance_id': 18,\n",
       "  'ground_truth_label': 0,\n",
       "  'instance_label': 0,\n",
       "  'counterfactual_label': 1},\n",
       " {'instance_id': 19,\n",
       "  'ground_truth_label': 0,\n",
       "  'instance_label': 0,\n",
       "  'counterfactual_label': 1},\n",
       " {'instance_id': 20,\n",
       "  'ground_truth_label': 0,\n",
       "  'instance_label': 0,\n",
       "  'counterfactual_label': 1},\n",
       " {'instance_id': 21,\n",
       "  'ground_truth_label': 1,\n",
       "  'instance_label': 1,\n",
       "  'counterfactual_label': 0},\n",
       " {'instance_id': 22,\n",
       "  'ground_truth_label': 1,\n",
       "  'instance_label': 1,\n",
       "  'counterfactual_label': 0},\n",
       " {'instance_id': 23,\n",
       "  'ground_truth_label': 1,\n",
       "  'instance_label': 1,\n",
       "  'counterfactual_label': 0},\n",
       " {'instance_id': 24,\n",
       "  'ground_truth_label': 0,\n",
       "  'instance_label': 0,\n",
       "  'counterfactual_label': 1},\n",
       " {'instance_id': 25,\n",
       "  'ground_truth_label': 0,\n",
       "  'instance_label': 0,\n",
       "  'counterfactual_label': 1},\n",
       " {'instance_id': 26,\n",
       "  'ground_truth_label': 0,\n",
       "  'instance_label': 0,\n",
       "  'counterfactual_label': 1},\n",
       " {'instance_id': 27,\n",
       "  'ground_truth_label': 1,\n",
       "  'instance_label': 1,\n",
       "  'counterfactual_label': 0},\n",
       " {'instance_id': 28,\n",
       "  'ground_truth_label': 1,\n",
       "  'instance_label': 1,\n",
       "  'counterfactual_label': 0},\n",
       " {'instance_id': 29,\n",
       "  'ground_truth_label': 0,\n",
       "  'instance_label': 0,\n",
       "  'counterfactual_label': 1},\n",
       " {'instance_id': 30,\n",
       "  'ground_truth_label': 1,\n",
       "  'instance_label': 1,\n",
       "  'counterfactual_label': 0},\n",
       " {'instance_id': 31,\n",
       "  'ground_truth_label': 0,\n",
       "  'instance_label': 0,\n",
       "  'counterfactual_label': 1},\n",
       " {'instance_id': 32,\n",
       "  'ground_truth_label': 1,\n",
       "  'instance_label': 1,\n",
       "  'counterfactual_label': 0},\n",
       " {'instance_id': 33,\n",
       "  'ground_truth_label': 0,\n",
       "  'instance_label': 0,\n",
       "  'counterfactual_label': 1},\n",
       " {'instance_id': 34,\n",
       "  'ground_truth_label': 0,\n",
       "  'instance_label': 0,\n",
       "  'counterfactual_label': 1},\n",
       " {'instance_id': 35,\n",
       "  'ground_truth_label': 0,\n",
       "  'instance_label': 0,\n",
       "  'counterfactual_label': 1},\n",
       " {'instance_id': 36,\n",
       "  'ground_truth_label': 0,\n",
       "  'instance_label': 0,\n",
       "  'counterfactual_label': 1},\n",
       " {'instance_id': 37,\n",
       "  'ground_truth_label': 0,\n",
       "  'instance_label': 0,\n",
       "  'counterfactual_label': 1},\n",
       " {'instance_id': 38,\n",
       "  'ground_truth_label': 0,\n",
       "  'instance_label': 0,\n",
       "  'counterfactual_label': 1},\n",
       " {'instance_id': 39,\n",
       "  'ground_truth_label': 0,\n",
       "  'instance_label': 0,\n",
       "  'counterfactual_label': 1},\n",
       " {'instance_id': 40,\n",
       "  'ground_truth_label': 0,\n",
       "  'instance_label': 0,\n",
       "  'counterfactual_label': 1},\n",
       " {'instance_id': 41,\n",
       "  'ground_truth_label': 0,\n",
       "  'instance_label': 0,\n",
       "  'counterfactual_label': 1},\n",
       " {'instance_id': 42,\n",
       "  'ground_truth_label': 0,\n",
       "  'instance_label': 0,\n",
       "  'counterfactual_label': 1},\n",
       " {'instance_id': 43,\n",
       "  'ground_truth_label': 0,\n",
       "  'instance_label': 0,\n",
       "  'counterfactual_label': 1},\n",
       " {'instance_id': 44,\n",
       "  'ground_truth_label': 0,\n",
       "  'instance_label': 0,\n",
       "  'counterfactual_label': 1},\n",
       " {'instance_id': 45,\n",
       "  'ground_truth_label': 1,\n",
       "  'instance_label': 1,\n",
       "  'counterfactual_label': 0},\n",
       " {'instance_id': 46,\n",
       "  'ground_truth_label': 0,\n",
       "  'instance_label': 0,\n",
       "  'counterfactual_label': 1},\n",
       " {'instance_id': 47,\n",
       "  'ground_truth_label': 1,\n",
       "  'instance_label': 1,\n",
       "  'counterfactual_label': 0},\n",
       " {'instance_id': 48,\n",
       "  'ground_truth_label': 1,\n",
       "  'instance_label': 1,\n",
       "  'counterfactual_label': 0},\n",
       " {'instance_id': 49,\n",
       "  'ground_truth_label': 0,\n",
       "  'instance_label': 0,\n",
       "  'counterfactual_label': 1},\n",
       " {'instance_id': 50,\n",
       "  'ground_truth_label': 0,\n",
       "  'instance_label': 0,\n",
       "  'counterfactual_label': 1},\n",
       " {'instance_id': 51,\n",
       "  'ground_truth_label': 1,\n",
       "  'instance_label': 1,\n",
       "  'counterfactual_label': 0},\n",
       " {'instance_id': 52,\n",
       "  'ground_truth_label': 1,\n",
       "  'instance_label': 1,\n",
       "  'counterfactual_label': 0},\n",
       " {'instance_id': 53,\n",
       "  'ground_truth_label': 1,\n",
       "  'instance_label': 1,\n",
       "  'counterfactual_label': 0},\n",
       " {'instance_id': 54,\n",
       "  'ground_truth_label': 1,\n",
       "  'instance_label': 1,\n",
       "  'counterfactual_label': 0},\n",
       " {'instance_id': 55,\n",
       "  'ground_truth_label': 0,\n",
       "  'instance_label': 0,\n",
       "  'counterfactual_label': 1},\n",
       " {'instance_id': 56,\n",
       "  'ground_truth_label': 1,\n",
       "  'instance_label': 1,\n",
       "  'counterfactual_label': 0},\n",
       " {'instance_id': 57,\n",
       "  'ground_truth_label': 1,\n",
       "  'instance_label': 1,\n",
       "  'counterfactual_label': 0},\n",
       " {'instance_id': 58,\n",
       "  'ground_truth_label': 1,\n",
       "  'instance_label': 1,\n",
       "  'counterfactual_label': 0},\n",
       " {'instance_id': 59,\n",
       "  'ground_truth_label': 1,\n",
       "  'instance_label': 1,\n",
       "  'counterfactual_label': 0},\n",
       " {'instance_id': 60,\n",
       "  'ground_truth_label': 1,\n",
       "  'instance_label': 1,\n",
       "  'counterfactual_label': 0},\n",
       " {'instance_id': 61,\n",
       "  'ground_truth_label': 0,\n",
       "  'instance_label': 0,\n",
       "  'counterfactual_label': 1},\n",
       " {'instance_id': 62,\n",
       "  'ground_truth_label': 0,\n",
       "  'instance_label': 0,\n",
       "  'counterfactual_label': 1},\n",
       " {'instance_id': 63,\n",
       "  'ground_truth_label': 0,\n",
       "  'instance_label': 0,\n",
       "  'counterfactual_label': 1},\n",
       " {'instance_id': 64,\n",
       "  'ground_truth_label': 0,\n",
       "  'instance_label': 0,\n",
       "  'counterfactual_label': 1},\n",
       " {'instance_id': 65,\n",
       "  'ground_truth_label': 1,\n",
       "  'instance_label': 1,\n",
       "  'counterfactual_label': 0},\n",
       " {'instance_id': 66,\n",
       "  'ground_truth_label': 1,\n",
       "  'instance_label': 1,\n",
       "  'counterfactual_label': 0},\n",
       " {'instance_id': 67,\n",
       "  'ground_truth_label': 0,\n",
       "  'instance_label': 0,\n",
       "  'counterfactual_label': 1},\n",
       " {'instance_id': 68,\n",
       "  'ground_truth_label': 1,\n",
       "  'instance_label': 1,\n",
       "  'counterfactual_label': 0},\n",
       " {'instance_id': 69,\n",
       "  'ground_truth_label': 1,\n",
       "  'instance_label': 1,\n",
       "  'counterfactual_label': 0},\n",
       " {'instance_id': 70,\n",
       "  'ground_truth_label': 0,\n",
       "  'instance_label': 0,\n",
       "  'counterfactual_label': 1},\n",
       " {'instance_id': 71,\n",
       "  'ground_truth_label': 0,\n",
       "  'instance_label': 0,\n",
       "  'counterfactual_label': 1},\n",
       " {'instance_id': 72,\n",
       "  'ground_truth_label': 1,\n",
       "  'instance_label': 1,\n",
       "  'counterfactual_label': 0},\n",
       " {'instance_id': 73,\n",
       "  'ground_truth_label': 1,\n",
       "  'instance_label': 1,\n",
       "  'counterfactual_label': 0},\n",
       " {'instance_id': 74,\n",
       "  'ground_truth_label': 1,\n",
       "  'instance_label': 1,\n",
       "  'counterfactual_label': 0},\n",
       " {'instance_id': 75,\n",
       "  'ground_truth_label': 1,\n",
       "  'instance_label': 1,\n",
       "  'counterfactual_label': 0},\n",
       " {'instance_id': 76,\n",
       "  'ground_truth_label': 0,\n",
       "  'instance_label': 0,\n",
       "  'counterfactual_label': 1},\n",
       " {'instance_id': 77,\n",
       "  'ground_truth_label': 0,\n",
       "  'instance_label': 0,\n",
       "  'counterfactual_label': 1},\n",
       " {'instance_id': 78,\n",
       "  'ground_truth_label': 0,\n",
       "  'instance_label': 0,\n",
       "  'counterfactual_label': 1},\n",
       " {'instance_id': 79,\n",
       "  'ground_truth_label': 1,\n",
       "  'instance_label': 1,\n",
       "  'counterfactual_label': 0}]"
      ]
     },
     "execution_count": 22,
     "metadata": {},
     "output_type": "execute_result"
    }
   ],
   "source": [
    "ev.get_instance_and_counterfactual_classifications()"
   ]
  },
  {
   "attachments": {},
   "cell_type": "markdown",
   "metadata": {},
   "source": [
    "Showing the steps to get the counterfactual"
   ]
  },
  {
   "cell_type": "code",
   "execution_count": 23,
   "metadata": {},
   "outputs": [
    {
     "name": "stdout",
     "output_type": "stream",
     "text": [
      "Remove Nodes [3]\n",
      "Remove Edges [(3, 2), (0, 3)]\n",
      "Add Nodes []\n",
      "Add Edges [(0, 2)]\n"
     ]
    }
   ],
   "source": [
    "# Printing the steps needed to obtain the counterfactual\n",
    "cf_actions = dtan.get_counterfactual_actions(inst, exp)\n",
    "for act, el in cf_actions.items():\n",
    "    print(act, el)"
   ]
  },
  {
   "attachments": {},
   "cell_type": "markdown",
   "metadata": {},
   "source": [
    "Visualizing the original instance"
   ]
  },
  {
   "cell_type": "code",
   "execution_count": 25,
   "metadata": {},
   "outputs": [
    {
     "data": {
      "image/png": "[encoded data removed]",
      "text/plain": [
       "<Figure size 640x480 with 1 Axes>"
      ]
     },
     "metadata": {},
     "output_type": "display_data"
    }
   ],
   "source": [
    "dtan.draw_graph(inst, layout='spring')"
   ]
  },
  {
   "attachments": {},
   "cell_type": "markdown",
   "metadata": {},
   "source": [
    "Visualizing the changes in the counterfactual"
   ]
  },
  {
   "cell_type": "code",
   "execution_count": 26,
   "metadata": {},
   "outputs": [
    {
     "data": {
      "image/png": "[encoded data removed]",
      "text/plain": [
       "<Figure size 640x480 with 1 Axes>"
      ]
     },
     "metadata": {},
     "output_type": "display_data"
    }
   ],
   "source": [
    "dtan.draw_counterfactual_actions(inst, exp, layout='spring')"
   ]
  },
  {
   "attachments": {},
   "cell_type": "markdown",
   "metadata": {},
   "source": [
    "The blue elements reamain unchanged between the original instance and the counterfactual, the red ones were removed in the conterfactual example, and the green ones were added."
   ]
  }
 ],
 "metadata": {
  "kernelspec": {
   "display_name": "Python 3",
   "language": "python",
   "name": "python3"
  },
  "language_info": {
   "codemirror_mode": {
    "name": "ipython",
    "version": 3
   },
   "file_extension": ".py",
   "mimetype": "text/x-python",
   "name": "python",
   "nbconvert_exporter": "python",
   "pygments_lexer": "ipython3",
   "version": "3.8.10"
  },
  "orig_nbformat": 4,
  "vscode": {
   "interpreter": {
    "hash": "916dbcbb3f70747c44a77c7bcd40155683ae19c65e1c03b4aa3499c5328201f1"
   }
  }
 },
 "nbformat": 4,
 "nbformat_minor": 2
}
