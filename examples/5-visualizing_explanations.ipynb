{
 "cells": [
  {
   "attachments": {},
   "cell_type": "markdown",
   "metadata": {},
   "source": [
    "# Visualizing the Explanations"
   ]
  },
  {
   "attachments": {},
   "cell_type": "markdown",
   "metadata": {},
   "source": [
    "### Setting the config file path"
   ]
  },
  {
   "cell_type": "code",
   "execution_count": 1,
   "metadata": {},
   "outputs": [
    {
     "data": {
      "text/plain": [
       "'/home/coder/gretel'"
      ]
     },
     "execution_count": 1,
     "metadata": {},
     "output_type": "execute_result"
    }
   ],
   "source": [
    "import sys\n",
    "import os\n",
    "module_path = os.path.abspath(os.path.join('..'))\n",
    "sys.path.append(module_path)\n",
    "module_path"
   ]
  },
  {
   "cell_type": "code",
   "execution_count": 2,
   "metadata": {},
   "outputs": [
    {
     "name": "stderr",
     "output_type": "stream",
     "text": [
      "2023-02-09 16:35:38.736508: I tensorflow/core/platform/cpu_feature_guard.cc:193] This TensorFlow binary is optimized with oneAPI Deep Neural Network Library (oneDNN) to use the following CPU instructions in performance-critical operations:  AVX2 AVX512F AVX512_VNNI FMA\n",
      "To enable them in other operations, rebuild TensorFlow with the appropriate compiler flags.\n",
      "2023-02-09 16:35:39.029104: I tensorflow/core/util/port.cc:104] oneDNN custom operations are on. You may see slightly different numerical results due to floating-point round-off errors from different computation orders. To turn them off, set the environment variable `TF_ENABLE_ONEDNN_OPTS=0`.\n"
     ]
    },
    {
     "data": {
      "text/plain": [
       "(True, True, True, True)"
      ]
     },
     "execution_count": 2,
     "metadata": {},
     "output_type": "execute_result"
    }
   ],
   "source": [
    "from src.evaluation.evaluator_manager import EvaluatorManager\n",
    "\n",
    "config_file_path = module_path + '/examples/config/config_tree-cycles_knn_obs.json'\n",
    "output_file_path = module_path + '/output/knn_k-5_fit_on-tree-cycles_instances-80_nodes_per_inst-30_nodes_in_cycles-10/Oblivious_Bidirectional_Search/results_run-0.json'\n",
    "output_folder = module_path + '/output/'\n",
    "stats_folder = module_path + '/stats/'\n",
    "\n",
    "# Verifying that the paths are valid\n",
    "(os.path.isfile(config_file_path), os.path.isfile(output_file_path), os.path.isdir(output_folder), os.path.isdir(stats_folder))"
   ]
  },
  {
   "attachments": {},
   "cell_type": "markdown",
   "metadata": {},
   "source": [
    "### Creating the Evaluator Manager"
   ]
  },
  {
   "cell_type": "code",
   "execution_count": 3,
   "metadata": {},
   "outputs": [],
   "source": [
    "# The run number is a way to differentiate many runs of the same configurations\n",
    "eval_manager = EvaluatorManager(config_file_path, run_number=0)\n",
    "# Creating the evaluation pipelines\n",
    "eval_manager.create_evaluators()\n",
    "# Evaluating the explainers\n",
    "eval_manager.evaluate()"
   ]
  },
  {
   "attachments": {},
   "cell_type": "markdown",
   "metadata": {},
   "source": [
    "### Visualizing the results"
   ]
  },
  {
   "attachments": {},
   "cell_type": "markdown",
   "metadata": {},
   "source": [
    "Showing the json file with the output"
   ]
  },
  {
   "cell_type": "code",
   "execution_count": 4,
   "metadata": {},
   "outputs": [
    {
     "data": {
      "text/plain": [
       "'{\"config\": {\"dataset\": {\"name\": \"tree-cycles\", \"parameters\": {\"n_inst\": 80, \"n_per_inst\": 30, \"n_in_cycles\": 10}}, \"oracle\": {\"name\": \"knn\", \"parameters\": {\"embedder\": {\"name\": \"graph2vec\", \"parameters\": {}}, \"k\": 5}}, \"explainer\": {\"name\": \"bidirectional_oblivious_search\", \"parameters\": {\"graph_distance\": {\"name\": \"graph_edit_distance\", \"parameters\": {}}}}, \"metrics\": [{\"name\": \"graph_edit_distance\", \"parameters\": {}}, {\"name\": \"oracle_calls\", \"parameters\": {}}, {\"name\": \"correctness\", \"parameters\": {}}, {\"name\": \"sparsity\", \"parameters\": {}}, {\"name\": \"fidelity\", \"parameters\": {}}, {\"name\": \"oracle_accuracy\", \"parameters\": {}}]}, \"runtime\": [0.07371187210083008, 0.0294644832611084, 0.024900436401367188, 0.041959285736083984, 0.059417724609375, 0.0789799690246582, 0.03058004379272461, 0.08385944366455078, 0.04082465171813965, 0.0362248420715332, 0.1142578125, 0.01634526252746582, 0.06542539596557617, 0.03690290451049805, 0.03988170623779297, 0.04623270034790039, 0.0310213565826416, 0.062117576599121094, 0.30570101737976074, 0.03557276725769043, 0.043761491775512695, 0.04759049415588379, 0.03324294090270996, 0.040625810623168945, 0.06430840492248535, 0.058951616287231445, 0.04658150672912598, 0.0361788272857666, 0.0384674072265625, 0.013378381729125977, 0.045744895935058594, 0.02865457534790039, 0.011818408966064453, 0.01993703842163086, 0.034705400466918945, 0.193068265914917, 0.04612159729003906, 0.039257049560546875, 0.058940887451171875, 0.013131856918334961, 0.0304567813873291, 0.02999258041381836, 0.012171506881713867, 0.08286142349243164, 0.0316312313079834, 0.04434823989868164, 0.013537883758544922, 0.054503440856933594, 0.01922774314880371, 0.013409137725830078, 0.24799108505249023, 0.01264190673828125, 0.029337406158447266, 0.04060244560241699, 0.07385683059692383, 0.03225398063659668, 0.032103776931762695, 0.032202720642089844, 0.025348663330078125, 0.03692913055419922, 0.0703582763671875, 0.04183340072631836, 0.03182339668273926, 0.031108856201171875, 0.03992152214050293, 0.03746962547302246, 0.06065225601196289, 0.03273892402648926, 0.040334463119506836, 0.047432661056518555, 0.052438974380493164, 0.0140380859375, 0.02859807014465332, 0.011077404022216797, 0.03981447219848633, 0.04079937934875488, 0.03908085823059082, 0.0308837890625, 0.012540340423583984, 0.010500907897949219], \"Graph_Edit_Distance\": [53.0, 53.0, 47.0, 60.0, 53.0, 58.0, 52.0, 55.0, 47.0, 53.0, 56.0, 53.0, 59.0, 51.0, 53.0, 43.0, 43.0, 48.0, 64.0, 57.0, 56.0, 57.0, 48.0, 41.0, 51.0, 56.0, 49.0, 55.0, 40.0, 55.0, 57.0, 51.0, 55.0, 57.0, 50.0, 64.0, 55.0, 52.0, 56.0, 53.0, 56.0, 42.0, 51.0, 53.0, 52.0, 50.0, 45.0, 54.0, 55.0, 47.0, 69.0, 51.0, 44.0, 57.0, 56.0, 55.0, 56.0, 48.0, 60.0, 52.0, 51.0, 56.0, 53.0, 48.0, 51.0, 53.0, 46.0, 48.0, 47.0, 53.0, 52.0, 51.0, 55.0, 51.0, 59.0, 56.0, 54.0, 54.0, 43.0, 57.0], \"Oracle_Calls\": [17, 10, 9, 17, 22, 24, 12, 28, 14, 14, 30, 4, 22, 15, 14, 16, 13, 23, 118, 16, 18, 20, 12, 12, 17, 20, 17, 14, 15, 4, 14, 11, 4, 7, 13, 72, 16, 17, 23, 4, 10, 12, 4, 26, 10, 13, 4, 21, 7, 4, 90, 4, 10, 16, 26, 11, 13, 13, 10, 16, 21, 12, 9, 10, 14, 16, 22, 13, 17, 17, 23, 4, 9, 4, 15, 17, 13, 13, 4, 4], \"Correctness\": [1, 1, 1, 1, 1, 1, 1, 1, 1, 1, 1, 1, 1, 1, 1, 1, 1, 1, 1, 1, 1, 1, 1, 1, 1, 1, 1, 1, 1, 1, 1, 1, 1, 1, 1, 1, 1, 1, 1, 1, 1, 1, 1, 1, 1, 1, 1, 1, 1, 1, 1, 1, 1, 1, 1, 1, 1, 1, 1, 1, 1, 1, 1, 1, 1, 1, 1, 1, 1, 1, 1, 1, 1, 1, 1, 1, 1, 1, 1, 1], \"Sparsity\": [0.8688524590163934, 0.8833333333333333, 0.7833333333333333, 1.0169491525423728, 0.8548387096774194, 0.9508196721311475, 0.8813559322033898, 0.9322033898305084, 0.7833333333333333, 0.8688524590163934, 0.9032258064516129, 0.8983050847457628, 0.9672131147540983, 0.864406779661017, 0.8983050847457628, 0.7166666666666667, 0.7166666666666667, 0.7868852459016393, 1.0847457627118644, 0.95, 0.9491525423728814, 0.95, 0.8, 0.6833333333333333, 0.85, 0.9491525423728814, 0.8166666666666667, 0.9322033898305084, 0.6666666666666666, 0.9166666666666666, 0.9661016949152542, 0.864406779661017, 0.9166666666666666, 0.9661016949152542, 0.8333333333333334, 1.0847457627118644, 0.9322033898305084, 0.8666666666666667, 0.9491525423728814, 0.8983050847457628, 0.9180327868852459, 0.7, 0.864406779661017, 0.8983050847457628, 0.8813559322033898, 0.819672131147541, 0.75, 0.9152542372881356, 0.9322033898305084, 0.7833333333333333, 1.15, 0.864406779661017, 0.7333333333333333, 0.95, 0.9491525423728814, 0.9322033898305084, 0.9491525423728814, 0.8, 0.9836065573770492, 0.8666666666666667, 0.864406779661017, 0.9032258064516129, 0.8833333333333333, 0.8135593220338984, 0.864406779661017, 0.8983050847457628, 0.7666666666666667, 0.8135593220338984, 0.7833333333333333, 0.8688524590163934, 0.8813559322033898, 0.85, 0.9166666666666666, 0.85, 1.0, 0.9491525423728814, 0.9152542372881356, 0.9152542372881356, 0.7166666666666667, 0.9661016949152542], \"Fidelity\": [1, 1, 1, -1, 1, 1, -1, 1, 1, 1, 1, -1, 1, -1, -1, 1, -1, 1, 1, 1, -1, 1, 1, 1, 1, -1, -1, -1, 1, -1, -1, -1, -1, 1, -1, 1, -1, 1, -1, -1, 1, 1, -1, -1, -1, 1, -1, -1, -1, -1, -1, -1, 1, 1, -1, 1, -1, 1, 1, 1, -1, 1, 1, -1, -1, 1, 1, -1, 1, 1, -1, -1, 1, 1, -1, -1, -1, -1, 1, -1], \"Oracle_Accuracy\": [1, 1, 1, 0, 1, 1, 0, 1, 1, 1, 1, 0, 1, 0, 0, 1, 0, 1, 1, 1, 0, 1, 1, 1, 1, 0, 0, 0, 1, 0, 0, 0, 0, 1, 0, 1, 0, 1, 0, 0, 1, 1, 0, 0, 0, 1, 0, 0, 0, 0, 0, 0, 1, 1, 0, 1, 0, 1, 1, 1, 0, 1, 1, 0, 0, 1, 1, 0, 1, 1, 0, 0, 1, 1, 0, 0, 0, 0, 1, 0]}'"
      ]
     },
     "execution_count": 4,
     "metadata": {},
     "output_type": "execute_result"
    }
   ],
   "source": [
    "with open(output_file_path, 'r') as rs_json_reader:\n",
    "                results = rs_json_reader.read()\n",
    "\n",
    "results"
   ]
  },
  {
   "attachments": {},
   "cell_type": "markdown",
   "metadata": {},
   "source": [
    "Creating a table with the results"
   ]
  },
  {
   "cell_type": "code",
   "execution_count": 5,
   "metadata": {},
   "outputs": [
    {
     "data": {
      "text/html": [
       "<div>\n",
       "<style scoped>\n",
       "    .dataframe tbody tr th:only-of-type {\n",
       "        vertical-align: middle;\n",
       "    }\n",
       "\n",
       "    .dataframe tbody tr th {\n",
       "        vertical-align: top;\n",
       "    }\n",
       "\n",
       "    .dataframe thead th {\n",
       "        text-align: right;\n",
       "    }\n",
       "</style>\n",
       "<table border=\"1\" class=\"dataframe\">\n",
       "  <thead>\n",
       "    <tr style=\"text-align: right;\">\n",
       "      <th></th>\n",
       "      <th>Unnamed: 0</th>\n",
       "      <th>explainer</th>\n",
       "      <th>runtime</th>\n",
       "      <th>runtime-std</th>\n",
       "      <th>Graph_Edit_Distance</th>\n",
       "      <th>Graph_Edit_Distance-std</th>\n",
       "      <th>Oracle_Calls</th>\n",
       "      <th>Oracle_Calls-std</th>\n",
       "      <th>Correctness</th>\n",
       "      <th>Correctness-std</th>\n",
       "      <th>Sparsity</th>\n",
       "      <th>Sparsity-std</th>\n",
       "      <th>Fidelity</th>\n",
       "      <th>Fidelity-std</th>\n",
       "      <th>Oracle_Accuracy</th>\n",
       "      <th>Oracle_Accuracy-std</th>\n",
       "    </tr>\n",
       "  </thead>\n",
       "  <tbody>\n",
       "    <tr>\n",
       "      <th>0</th>\n",
       "      <td>0</td>\n",
       "      <td>bidirectional_oblivious_search</td>\n",
       "      <td>0.047209</td>\n",
       "      <td>0.0</td>\n",
       "      <td>52.5875</td>\n",
       "      <td>0.0</td>\n",
       "      <td>16.8125</td>\n",
       "      <td>0.0</td>\n",
       "      <td>1.0</td>\n",
       "      <td>0.0</td>\n",
       "      <td>0.880788</td>\n",
       "      <td>0.0</td>\n",
       "      <td>0.0</td>\n",
       "      <td>0.0</td>\n",
       "      <td>0.5</td>\n",
       "      <td>0.0</td>\n",
       "    </tr>\n",
       "  </tbody>\n",
       "</table>\n",
       "</div>"
      ],
      "text/plain": [
       "   Unnamed: 0                       explainer   runtime  runtime-std  \\\n",
       "0           0  bidirectional_oblivious_search  0.047209          0.0   \n",
       "\n",
       "   Graph_Edit_Distance  Graph_Edit_Distance-std  Oracle_Calls  \\\n",
       "0              52.5875                      0.0       16.8125   \n",
       "\n",
       "   Oracle_Calls-std  Correctness  Correctness-std  Sparsity  Sparsity-std  \\\n",
       "0               0.0          1.0              0.0  0.880788           0.0   \n",
       "\n",
       "   Fidelity  Fidelity-std  Oracle_Accuracy  Oracle_Accuracy-std  \n",
       "0       0.0           0.0              0.5                  0.0  "
      ]
     },
     "execution_count": 5,
     "metadata": {},
     "output_type": "execute_result"
    }
   ],
   "source": [
    "from src.data_analysis.data_analyzer import DataAnalyzer\n",
    "import pandas as pd\n",
    "\n",
    "dtan = DataAnalyzer(output_folder, stats_folder)\n",
    "dtan.aggregate_data()\n",
    "dtan.aggregate_runs()\n",
    "dtan.create_tables_by_oracle_dataset()\n",
    "\n",
    "results_table = pd.read_csv(stats_folder + 'tree-cycles-knn.csv')\n",
    "results_table"
   ]
  },
  {
   "attachments": {},
   "cell_type": "markdown",
   "metadata": {},
   "source": [
    "### Analizing a Counterfactual Explanation"
   ]
  },
  {
   "cell_type": "code",
   "execution_count": 6,
   "metadata": {},
   "outputs": [],
   "source": [
    "# Getting one of the evaluators (evaluation pipelines)\n",
    "ev = eval_manager.evaluators[0]\n",
    "# Obtain the for each data instance its counterfactual explanation\n",
    "inst_exp_list = ev.get_instance_explanation_pairs()\n",
    "# Take the first pair instance-explanation as an example\n",
    "inst, exp = inst_exp_list[2]"
   ]
  },
  {
   "attachments": {},
   "cell_type": "markdown",
   "metadata": {},
   "source": [
    "Visualizing the labels of each instance and their counterfactuals against the ground truth"
   ]
  },
  {
   "cell_type": "code",
   "execution_count": 7,
   "metadata": {},
   "outputs": [
    {
     "data": {
      "text/plain": [
       "[{'instance_id': 0,\n",
       "  'ground_truth_label': 1,\n",
       "  'instance_label': 1,\n",
       "  'counterfactual_label': 0},\n",
       " {'instance_id': 1,\n",
       "  'ground_truth_label': 1,\n",
       "  'instance_label': 1,\n",
       "  'counterfactual_label': 0},\n",
       " {'instance_id': 2,\n",
       "  'ground_truth_label': 1,\n",
       "  'instance_label': 1,\n",
       "  'counterfactual_label': 0},\n",
       " {'instance_id': 3,\n",
       "  'ground_truth_label': 0,\n",
       "  'instance_label': 1,\n",
       "  'counterfactual_label': 0},\n",
       " {'instance_id': 4,\n",
       "  'ground_truth_label': 1,\n",
       "  'instance_label': 1,\n",
       "  'counterfactual_label': 0},\n",
       " {'instance_id': 5,\n",
       "  'ground_truth_label': 1,\n",
       "  'instance_label': 1,\n",
       "  'counterfactual_label': 0},\n",
       " {'instance_id': 6,\n",
       "  'ground_truth_label': 0,\n",
       "  'instance_label': 1,\n",
       "  'counterfactual_label': 0},\n",
       " {'instance_id': 7,\n",
       "  'ground_truth_label': 0,\n",
       "  'instance_label': 0,\n",
       "  'counterfactual_label': 1},\n",
       " {'instance_id': 8,\n",
       "  'ground_truth_label': 1,\n",
       "  'instance_label': 1,\n",
       "  'counterfactual_label': 0},\n",
       " {'instance_id': 9,\n",
       "  'ground_truth_label': 1,\n",
       "  'instance_label': 1,\n",
       "  'counterfactual_label': 0},\n",
       " {'instance_id': 10,\n",
       "  'ground_truth_label': 1,\n",
       "  'instance_label': 1,\n",
       "  'counterfactual_label': 0},\n",
       " {'instance_id': 11,\n",
       "  'ground_truth_label': 0,\n",
       "  'instance_label': 1,\n",
       "  'counterfactual_label': 0},\n",
       " {'instance_id': 12,\n",
       "  'ground_truth_label': 1,\n",
       "  'instance_label': 1,\n",
       "  'counterfactual_label': 0},\n",
       " {'instance_id': 13,\n",
       "  'ground_truth_label': 0,\n",
       "  'instance_label': 1,\n",
       "  'counterfactual_label': 0},\n",
       " {'instance_id': 14,\n",
       "  'ground_truth_label': 0,\n",
       "  'instance_label': 1,\n",
       "  'counterfactual_label': 0},\n",
       " {'instance_id': 15,\n",
       "  'ground_truth_label': 1,\n",
       "  'instance_label': 1,\n",
       "  'counterfactual_label': 0},\n",
       " {'instance_id': 16,\n",
       "  'ground_truth_label': 1,\n",
       "  'instance_label': 0,\n",
       "  'counterfactual_label': 1},\n",
       " {'instance_id': 17,\n",
       "  'ground_truth_label': 1,\n",
       "  'instance_label': 1,\n",
       "  'counterfactual_label': 0},\n",
       " {'instance_id': 18,\n",
       "  'ground_truth_label': 0,\n",
       "  'instance_label': 0,\n",
       "  'counterfactual_label': 1},\n",
       " {'instance_id': 19,\n",
       "  'ground_truth_label': 1,\n",
       "  'instance_label': 1,\n",
       "  'counterfactual_label': 0},\n",
       " {'instance_id': 20,\n",
       "  'ground_truth_label': 0,\n",
       "  'instance_label': 1,\n",
       "  'counterfactual_label': 0},\n",
       " {'instance_id': 21,\n",
       "  'ground_truth_label': 1,\n",
       "  'instance_label': 1,\n",
       "  'counterfactual_label': 0},\n",
       " {'instance_id': 22,\n",
       "  'ground_truth_label': 1,\n",
       "  'instance_label': 1,\n",
       "  'counterfactual_label': 0},\n",
       " {'instance_id': 23,\n",
       "  'ground_truth_label': 1,\n",
       "  'instance_label': 1,\n",
       "  'counterfactual_label': 0},\n",
       " {'instance_id': 24,\n",
       "  'ground_truth_label': 1,\n",
       "  'instance_label': 1,\n",
       "  'counterfactual_label': 0},\n",
       " {'instance_id': 25,\n",
       "  'ground_truth_label': 0,\n",
       "  'instance_label': 1,\n",
       "  'counterfactual_label': 0},\n",
       " {'instance_id': 26,\n",
       "  'ground_truth_label': 1,\n",
       "  'instance_label': 0,\n",
       "  'counterfactual_label': 1},\n",
       " {'instance_id': 27,\n",
       "  'ground_truth_label': 0,\n",
       "  'instance_label': 1,\n",
       "  'counterfactual_label': 0},\n",
       " {'instance_id': 28,\n",
       "  'ground_truth_label': 1,\n",
       "  'instance_label': 1,\n",
       "  'counterfactual_label': 0},\n",
       " {'instance_id': 29,\n",
       "  'ground_truth_label': 1,\n",
       "  'instance_label': 0,\n",
       "  'counterfactual_label': 1},\n",
       " {'instance_id': 30,\n",
       "  'ground_truth_label': 0,\n",
       "  'instance_label': 1,\n",
       "  'counterfactual_label': 0},\n",
       " {'instance_id': 31,\n",
       "  'ground_truth_label': 0,\n",
       "  'instance_label': 1,\n",
       "  'counterfactual_label': 0},\n",
       " {'instance_id': 32,\n",
       "  'ground_truth_label': 1,\n",
       "  'instance_label': 0,\n",
       "  'counterfactual_label': 1},\n",
       " {'instance_id': 33,\n",
       "  'ground_truth_label': 0,\n",
       "  'instance_label': 0,\n",
       "  'counterfactual_label': 1},\n",
       " {'instance_id': 34,\n",
       "  'ground_truth_label': 1,\n",
       "  'instance_label': 0,\n",
       "  'counterfactual_label': 1},\n",
       " {'instance_id': 35,\n",
       "  'ground_truth_label': 0,\n",
       "  'instance_label': 0,\n",
       "  'counterfactual_label': 1},\n",
       " {'instance_id': 36,\n",
       "  'ground_truth_label': 0,\n",
       "  'instance_label': 1,\n",
       "  'counterfactual_label': 0},\n",
       " {'instance_id': 37,\n",
       "  'ground_truth_label': 1,\n",
       "  'instance_label': 1,\n",
       "  'counterfactual_label': 0},\n",
       " {'instance_id': 38,\n",
       "  'ground_truth_label': 0,\n",
       "  'instance_label': 1,\n",
       "  'counterfactual_label': 0},\n",
       " {'instance_id': 39,\n",
       "  'ground_truth_label': 0,\n",
       "  'instance_label': 1,\n",
       "  'counterfactual_label': 0},\n",
       " {'instance_id': 40,\n",
       "  'ground_truth_label': 1,\n",
       "  'instance_label': 1,\n",
       "  'counterfactual_label': 0},\n",
       " {'instance_id': 41,\n",
       "  'ground_truth_label': 1,\n",
       "  'instance_label': 1,\n",
       "  'counterfactual_label': 0},\n",
       " {'instance_id': 42,\n",
       "  'ground_truth_label': 0,\n",
       "  'instance_label': 1,\n",
       "  'counterfactual_label': 0},\n",
       " {'instance_id': 43,\n",
       "  'ground_truth_label': 0,\n",
       "  'instance_label': 1,\n",
       "  'counterfactual_label': 0},\n",
       " {'instance_id': 44,\n",
       "  'ground_truth_label': 0,\n",
       "  'instance_label': 1,\n",
       "  'counterfactual_label': 0},\n",
       " {'instance_id': 45,\n",
       "  'ground_truth_label': 1,\n",
       "  'instance_label': 1,\n",
       "  'counterfactual_label': 0},\n",
       " {'instance_id': 46,\n",
       "  'ground_truth_label': 1,\n",
       "  'instance_label': 0,\n",
       "  'counterfactual_label': 1},\n",
       " {'instance_id': 47,\n",
       "  'ground_truth_label': 0,\n",
       "  'instance_label': 1,\n",
       "  'counterfactual_label': 0},\n",
       " {'instance_id': 48,\n",
       "  'ground_truth_label': 0,\n",
       "  'instance_label': 1,\n",
       "  'counterfactual_label': 0},\n",
       " {'instance_id': 49,\n",
       "  'ground_truth_label': 1,\n",
       "  'instance_label': 0,\n",
       "  'counterfactual_label': 1},\n",
       " {'instance_id': 50,\n",
       "  'ground_truth_label': 1,\n",
       "  'instance_label': 0,\n",
       "  'counterfactual_label': 1},\n",
       " {'instance_id': 51,\n",
       "  'ground_truth_label': 0,\n",
       "  'instance_label': 1,\n",
       "  'counterfactual_label': 0},\n",
       " {'instance_id': 52,\n",
       "  'ground_truth_label': 1,\n",
       "  'instance_label': 1,\n",
       "  'counterfactual_label': 0},\n",
       " {'instance_id': 53,\n",
       "  'ground_truth_label': 1,\n",
       "  'instance_label': 1,\n",
       "  'counterfactual_label': 0},\n",
       " {'instance_id': 54,\n",
       "  'ground_truth_label': 0,\n",
       "  'instance_label': 1,\n",
       "  'counterfactual_label': 0},\n",
       " {'instance_id': 55,\n",
       "  'ground_truth_label': 0,\n",
       "  'instance_label': 0,\n",
       "  'counterfactual_label': 1},\n",
       " {'instance_id': 56,\n",
       "  'ground_truth_label': 0,\n",
       "  'instance_label': 1,\n",
       "  'counterfactual_label': 0},\n",
       " {'instance_id': 57,\n",
       "  'ground_truth_label': 1,\n",
       "  'instance_label': 1,\n",
       "  'counterfactual_label': 0},\n",
       " {'instance_id': 58,\n",
       "  'ground_truth_label': 1,\n",
       "  'instance_label': 1,\n",
       "  'counterfactual_label': 0},\n",
       " {'instance_id': 59,\n",
       "  'ground_truth_label': 1,\n",
       "  'instance_label': 1,\n",
       "  'counterfactual_label': 0},\n",
       " {'instance_id': 60,\n",
       "  'ground_truth_label': 0,\n",
       "  'instance_label': 1,\n",
       "  'counterfactual_label': 0},\n",
       " {'instance_id': 61,\n",
       "  'ground_truth_label': 1,\n",
       "  'instance_label': 1,\n",
       "  'counterfactual_label': 0},\n",
       " {'instance_id': 62,\n",
       "  'ground_truth_label': 1,\n",
       "  'instance_label': 1,\n",
       "  'counterfactual_label': 0},\n",
       " {'instance_id': 63,\n",
       "  'ground_truth_label': 0,\n",
       "  'instance_label': 1,\n",
       "  'counterfactual_label': 0},\n",
       " {'instance_id': 64,\n",
       "  'ground_truth_label': 0,\n",
       "  'instance_label': 1,\n",
       "  'counterfactual_label': 0},\n",
       " {'instance_id': 65,\n",
       "  'ground_truth_label': 0,\n",
       "  'instance_label': 0,\n",
       "  'counterfactual_label': 1},\n",
       " {'instance_id': 66,\n",
       "  'ground_truth_label': 1,\n",
       "  'instance_label': 1,\n",
       "  'counterfactual_label': 0},\n",
       " {'instance_id': 67,\n",
       "  'ground_truth_label': 0,\n",
       "  'instance_label': 1,\n",
       "  'counterfactual_label': 0},\n",
       " {'instance_id': 68,\n",
       "  'ground_truth_label': 1,\n",
       "  'instance_label': 1,\n",
       "  'counterfactual_label': 0},\n",
       " {'instance_id': 69,\n",
       "  'ground_truth_label': 1,\n",
       "  'instance_label': 1,\n",
       "  'counterfactual_label': 0},\n",
       " {'instance_id': 70,\n",
       "  'ground_truth_label': 0,\n",
       "  'instance_label': 1,\n",
       "  'counterfactual_label': 0},\n",
       " {'instance_id': 71,\n",
       "  'ground_truth_label': 1,\n",
       "  'instance_label': 0,\n",
       "  'counterfactual_label': 1},\n",
       " {'instance_id': 72,\n",
       "  'ground_truth_label': 1,\n",
       "  'instance_label': 1,\n",
       "  'counterfactual_label': 0},\n",
       " {'instance_id': 73,\n",
       "  'ground_truth_label': 1,\n",
       "  'instance_label': 1,\n",
       "  'counterfactual_label': 0},\n",
       " {'instance_id': 74,\n",
       "  'ground_truth_label': 0,\n",
       "  'instance_label': 1,\n",
       "  'counterfactual_label': 0},\n",
       " {'instance_id': 75,\n",
       "  'ground_truth_label': 0,\n",
       "  'instance_label': 1,\n",
       "  'counterfactual_label': 0},\n",
       " {'instance_id': 76,\n",
       "  'ground_truth_label': 0,\n",
       "  'instance_label': 1,\n",
       "  'counterfactual_label': 0},\n",
       " {'instance_id': 77,\n",
       "  'ground_truth_label': 0,\n",
       "  'instance_label': 1,\n",
       "  'counterfactual_label': 0},\n",
       " {'instance_id': 78,\n",
       "  'ground_truth_label': 1,\n",
       "  'instance_label': 1,\n",
       "  'counterfactual_label': 0},\n",
       " {'instance_id': 79,\n",
       "  'ground_truth_label': 0,\n",
       "  'instance_label': 1,\n",
       "  'counterfactual_label': 0}]"
      ]
     },
     "execution_count": 7,
     "metadata": {},
     "output_type": "execute_result"
    }
   ],
   "source": [
    "ev.get_instance_and_counterfactual_classifications()"
   ]
  },
  {
   "attachments": {},
   "cell_type": "markdown",
   "metadata": {},
   "source": [
    "Showing the steps to get the counterfactual"
   ]
  },
  {
   "cell_type": "code",
   "execution_count": 8,
   "metadata": {},
   "outputs": [
    {
     "name": "stdout",
     "output_type": "stream",
     "text": [
      "Remove Nodes []\n",
      "Remove Edges [(6, 15), (14, 16), (22, 23), (11, 2), (3, 19), (20, 29), (9, 14), (19, 12), (0, 11), (7, 1), (16, 22), (6, 17), (23, 24), (0, 7), (19, 8), (16, 18), (3, 5), (20, 21), (19, 10), (19, 16), (1, 4), (2, 6), (7, 5)]\n",
      "Add Nodes []\n",
      "Add Edges [(3, 4), (18, 20), (0, 2), (3, 25), (2, 8), (6, 11), (18, 19), (5, 6), (20, 22), (14, 18), (0, 1), (9, 16), (1, 5), (7, 9), (6, 10), (21, 23), (20, 24), (14, 17), (9, 12), (23, 29), (9, 15), (2, 3), (9, 18), (7, 8)]\n"
     ]
    }
   ],
   "source": [
    "# Printing the steps needed to obtain the counterfactual\n",
    "cf_actions = dtan.get_counterfactual_actions(inst, exp)\n",
    "for act, el in cf_actions.items():\n",
    "    print(act, el)"
   ]
  },
  {
   "attachments": {},
   "cell_type": "markdown",
   "metadata": {},
   "source": [
    "Visualizing the original instance"
   ]
  },
  {
   "cell_type": "code",
   "execution_count": 13,
   "metadata": {},
   "outputs": [
    {
     "data": {
      "image/png": "[encoded data removed]",
      "text/plain": [
       "<Figure size 640x480 with 1 Axes>"
      ]
     },
     "metadata": {},
     "output_type": "display_data"
    }
   ],
   "source": [
    "dtan.draw_graph(inst, layout='spring')"
   ]
  },
  {
   "attachments": {},
   "cell_type": "markdown",
   "metadata": {},
   "source": [
    "Visualizing the changes in the counterfactual"
   ]
  },
  {
   "cell_type": "code",
   "execution_count": 10,
   "metadata": {},
   "outputs": [
    {
     "data": {
      "image/png": "[encoded data removed]",
      "text/plain": [
       "<Figure size 640x480 with 1 Axes>"
      ]
     },
     "metadata": {},
     "output_type": "display_data"
    }
   ],
   "source": [
    "dtan.draw_counterfactual_actions(inst, exp, layout='spring')"
   ]
  },
  {
   "attachments": {},
   "cell_type": "markdown",
   "metadata": {},
   "source": [
    "The blue elements reamain unchanged between the original instance and the counterfactual, the red ones were removed in the conterfactual example, and the green ones were added."
   ]
  }
 ],
 "metadata": {
  "kernelspec": {
   "display_name": "Python 3",
   "language": "python",
   "name": "python3"
  },
  "language_info": {
   "codemirror_mode": {
    "name": "ipython",
    "version": 3
   },
   "file_extension": ".py",
   "mimetype": "text/x-python",
   "name": "python",
   "nbconvert_exporter": "python",
   "pygments_lexer": "ipython3",
   "version": "3.8.10"
  },
  "orig_nbformat": 4,
  "vscode": {
   "interpreter": {
    "hash": "916dbcbb3f70747c44a77c7bcd40155683ae19c65e1c03b4aa3499c5328201f1"
   }
  }
 },
 "nbformat": 4,
 "nbformat_minor": 2
}
