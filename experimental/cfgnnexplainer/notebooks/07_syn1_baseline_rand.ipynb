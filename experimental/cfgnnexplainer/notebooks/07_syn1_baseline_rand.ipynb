{
 "cells": [
  {
   "cell_type": "code",
   "execution_count": 1,
   "metadata": {
    "collapsed": true
   },
   "outputs": [],
   "source": [
    "import sys\n",
    "sys.path.append('..')\n",
    "import torch\n",
    "import pandas as pd\n",
    "import numpy as np\n",
    "import pickle\n",
    "import argparse\n",
    "import networkx as nx\n",
    "from collections import Counter\n",
    "from torch_geometric.utils import dense_to_sparse, degree\n",
    "import matplotlib.pyplot as plt\n",
    "from src.gcn import GCNSynthetic\n",
    "from src.utils.utils import normalize_adj, get_neighbourhood"
   ]
  },
  {
   "cell_type": "markdown",
   "metadata": {},
   "source": [
    "### Syn1 dataset (BA houses) , best params so far: SGD + momentum=0.9, epochs=500, LR=0.1, beta=0.5\n",
    "\n",
    "#### Uses correct version of symmetry constraint\n",
    "\n",
    "#### For BA houses, class 0 = BA, class 1 = middle, class 2 = bottom, class 3 = top"
   ]
  },
  {
   "cell_type": "code",
   "execution_count": 2,
   "metadata": {
    "collapsed": true
   },
   "outputs": [],
   "source": [
    "header = [\"node_idx\", \"new_idx\", \"cf_adj\", \"sub_adj\", \"y_pred_cf\", \"y_pred_orig\",\n",
    "            \"label\", \"num_nodes\", \"node_dict\", \"loss_graph_dist\"]"
   ]
  },
  {
   "cell_type": "code",
   "execution_count": 3,
   "metadata": {},
   "outputs": [
    {
     "name": "stdout",
     "output_type": "stream",
     "text": [
      "test set y_true counts: (array([0, 1, 2, 3]), array([62, 29, 32, 17]))\n",
      "test set y_pred_orig counts: (array([0, 1, 2, 3]), array([62, 30, 30, 18]))\n",
      "Whole graph counts: (array([0, 1, 2, 3]), array([300, 160, 160,  80]))\n"
     ]
    }
   ],
   "source": [
    "# For original model\n",
    "dataset = \"syn1\"\n",
    "hidden = 20\n",
    "seed = 42\n",
    "dropout = 0.0\n",
    "\n",
    "# Load original dataset and model\n",
    "\n",
    "with open(\"../data/gnn_explainer/{}.pickle\".format(dataset), \"rb\") as f:\n",
    "\tdata = pickle.load(f)\n",
    "\n",
    "adj = torch.Tensor(data[\"adj\"]).squeeze()       # Does not include self loops\n",
    "features = torch.Tensor(data[\"feat\"]).squeeze()\n",
    "labels = torch.tensor(data[\"labels\"]).squeeze()\n",
    "idx_train = torch.tensor(data[\"train_idx\"])\n",
    "idx_test = torch.tensor(data[\"test_idx\"])\n",
    "edge_index = dense_to_sparse(adj)\n",
    "\n",
    "norm_adj = normalize_adj(adj)\n",
    "\n",
    "model = GCNSynthetic(nfeat=features.shape[1], nhid=hidden, nout=hidden,\n",
    "                     nclass=len(labels.unique()), dropout=dropout)\n",
    "model.load_state_dict(torch.load(\"../models/gcn_3layer_{}.pt\".format(dataset)))\n",
    "model.eval()\n",
    "output = model(features, norm_adj)\n",
    "y_pred_orig = torch.argmax(output, dim=1)\n",
    "print(\"test set y_true counts: {}\".format(np.unique(labels[idx_test].numpy(), return_counts=True)))\n",
    "print(\"test set y_pred_orig counts: {}\".format(np.unique(y_pred_orig[idx_test].numpy(), return_counts=True)))\n",
    "print(\"Whole graph counts: {}\".format(np.unique(labels.numpy(), return_counts=True)))"
   ]
  },
  {
   "cell_type": "code",
   "execution_count": 4,
   "metadata": {},
   "outputs": [
    {
     "name": "stdout",
     "output_type": "stream",
     "text": [
      "ALL CF EXAMPLES\n",
      "Num cf examples found: 140/140\n",
      "Average graph distance: 503.3071428571429\n"
     ]
    },
    {
     "data": {
      "text/html": [
       "<div>\n",
       "<style scoped>\n",
       "    .dataframe tbody tr th:only-of-type {\n",
       "        vertical-align: middle;\n",
       "    }\n",
       "\n",
       "    .dataframe tbody tr th {\n",
       "        vertical-align: top;\n",
       "    }\n",
       "\n",
       "    .dataframe thead th {\n",
       "        text-align: right;\n",
       "    }\n",
       "</style>\n",
       "<table border=\"1\" class=\"dataframe\">\n",
       "  <thead>\n",
       "    <tr style=\"text-align: right;\">\n",
       "      <th></th>\n",
       "      <th>node_idx</th>\n",
       "      <th>new_idx</th>\n",
       "      <th>cf_adj</th>\n",
       "      <th>sub_adj</th>\n",
       "      <th>y_pred_cf</th>\n",
       "      <th>y_pred_orig</th>\n",
       "      <th>label</th>\n",
       "      <th>num_nodes</th>\n",
       "      <th>node_dict</th>\n",
       "      <th>loss_graph_dist</th>\n",
       "    </tr>\n",
       "  </thead>\n",
       "  <tbody>\n",
       "    <tr>\n",
       "      <th>0</th>\n",
       "      <td>563</td>\n",
       "      <td>100</td>\n",
       "      <td>[[0.0, 0.0, 0.0, 1.0, 0.0, 1.0, 1.0, 1.0, 1.0,...</td>\n",
       "      <td>[[0.0, 0.0, 1.0, 1.0, 1.0, 1.0, 1.0, 1.0, 1.0,...</td>\n",
       "      <td>3</td>\n",
       "      <td>2</td>\n",
       "      <td>2</td>\n",
       "      <td>107</td>\n",
       "      <td>{0: 0, 2: 1, 5: 2, 6: 3, 7: 4, 8: 5, 9: 6, 10:...</td>\n",
       "      <td>138.0</td>\n",
       "    </tr>\n",
       "    <tr>\n",
       "      <th>1</th>\n",
       "      <td>415</td>\n",
       "      <td>327</td>\n",
       "      <td>[[0.0, 0.0, 0.0, 0.0, 0.0, 0.0, 0.0, 0.0, 0.0,...</td>\n",
       "      <td>[[0.0, 0.0, 0.0, 0.0, 0.0, 1.0, 1.0, 1.0, 1.0,...</td>\n",
       "      <td>3</td>\n",
       "      <td>1</td>\n",
       "      <td>1</td>\n",
       "      <td>363</td>\n",
       "      <td>{0: 0, 1: 1, 2: 2, 3: 3, 4: 4, 5: 5, 6: 6, 7: ...</td>\n",
       "      <td>705.0</td>\n",
       "    </tr>\n",
       "    <tr>\n",
       "      <th>2</th>\n",
       "      <td>605</td>\n",
       "      <td>315</td>\n",
       "      <td>[[0.0, 0.0, 0.0, 0.0, 0.0, 1.0, 1.0, 0.0, 0.0,...</td>\n",
       "      <td>[[0.0, 0.0, 0.0, 0.0, 0.0, 1.0, 1.0, 1.0, 1.0,...</td>\n",
       "      <td>3</td>\n",
       "      <td>1</td>\n",
       "      <td>1</td>\n",
       "      <td>324</td>\n",
       "      <td>{0: 0, 1: 1, 2: 2, 3: 3, 4: 4, 5: 5, 6: 6, 7: ...</td>\n",
       "      <td>684.0</td>\n",
       "    </tr>\n",
       "    <tr>\n",
       "      <th>3</th>\n",
       "      <td>320</td>\n",
       "      <td>310</td>\n",
       "      <td>[[0.0, 0.0, 0.0, 0.0, 0.0, 1.0, 1.0, 0.0, 1.0,...</td>\n",
       "      <td>[[0.0, 0.0, 0.0, 0.0, 0.0, 1.0, 1.0, 1.0, 1.0,...</td>\n",
       "      <td>3</td>\n",
       "      <td>1</td>\n",
       "      <td>1</td>\n",
       "      <td>420</td>\n",
       "      <td>{0: 0, 1: 1, 2: 2, 3: 3, 4: 4, 5: 5, 6: 6, 7: ...</td>\n",
       "      <td>765.0</td>\n",
       "    </tr>\n",
       "    <tr>\n",
       "      <th>4</th>\n",
       "      <td>232</td>\n",
       "      <td>232</td>\n",
       "      <td>[[0.0, 0.0, 0.0, 0.0, 0.0, 1.0, 0.0, 1.0, 0.0,...</td>\n",
       "      <td>[[0.0, 0.0, 0.0, 0.0, 0.0, 1.0, 1.0, 1.0, 1.0,...</td>\n",
       "      <td>3</td>\n",
       "      <td>0</td>\n",
       "      <td>0</td>\n",
       "      <td>454</td>\n",
       "      <td>{0: 0, 1: 1, 2: 2, 3: 3, 4: 4, 5: 5, 6: 6, 7: ...</td>\n",
       "      <td>791.0</td>\n",
       "    </tr>\n",
       "  </tbody>\n",
       "</table>\n",
       "</div>"
      ],
      "text/plain": [
       "   node_idx  new_idx                                             cf_adj  \\\n",
       "0       563      100  [[0.0, 0.0, 0.0, 1.0, 0.0, 1.0, 1.0, 1.0, 1.0,...   \n",
       "1       415      327  [[0.0, 0.0, 0.0, 0.0, 0.0, 0.0, 0.0, 0.0, 0.0,...   \n",
       "2       605      315  [[0.0, 0.0, 0.0, 0.0, 0.0, 1.0, 1.0, 0.0, 0.0,...   \n",
       "3       320      310  [[0.0, 0.0, 0.0, 0.0, 0.0, 1.0, 1.0, 0.0, 1.0,...   \n",
       "4       232      232  [[0.0, 0.0, 0.0, 0.0, 0.0, 1.0, 0.0, 1.0, 0.0,...   \n",
       "\n",
       "                                             sub_adj  y_pred_cf  y_pred_orig  \\\n",
       "0  [[0.0, 0.0, 1.0, 1.0, 1.0, 1.0, 1.0, 1.0, 1.0,...          3            2   \n",
       "1  [[0.0, 0.0, 0.0, 0.0, 0.0, 1.0, 1.0, 1.0, 1.0,...          3            1   \n",
       "2  [[0.0, 0.0, 0.0, 0.0, 0.0, 1.0, 1.0, 1.0, 1.0,...          3            1   \n",
       "3  [[0.0, 0.0, 0.0, 0.0, 0.0, 1.0, 1.0, 1.0, 1.0,...          3            1   \n",
       "4  [[0.0, 0.0, 0.0, 0.0, 0.0, 1.0, 1.0, 1.0, 1.0,...          3            0   \n",
       "\n",
       "  label  num_nodes                                          node_dict  \\\n",
       "0     2        107  {0: 0, 2: 1, 5: 2, 6: 3, 7: 4, 8: 5, 9: 6, 10:...   \n",
       "1     1        363  {0: 0, 1: 1, 2: 2, 3: 3, 4: 4, 5: 5, 6: 6, 7: ...   \n",
       "2     1        324  {0: 0, 1: 1, 2: 2, 3: 3, 4: 4, 5: 5, 6: 6, 7: ...   \n",
       "3     1        420  {0: 0, 1: 1, 2: 2, 3: 3, 4: 4, 5: 5, 6: 6, 7: ...   \n",
       "4     0        454  {0: 0, 1: 1, 2: 2, 3: 3, 4: 4, 5: 5, 6: 6, 7: ...   \n",
       "\n",
       "   loss_graph_dist  \n",
       "0            138.0  \n",
       "1            705.0  \n",
       "2            684.0  \n",
       "3            765.0  \n",
       "4            791.0  "
      ]
     },
     "execution_count": 4,
     "metadata": {},
     "output_type": "execute_result"
    }
   ],
   "source": [
    "num_epochs = 500\n",
    "\n",
    "\n",
    "# Load cf examples for test set\n",
    "with open(\"../baselines/results/random_perturb/{}_baseline_cf_examples_epochs{}\".format(dataset, num_epochs), \"rb\") as f:\n",
    "\n",
    "    cf_examples = pickle.load(f)\n",
    "    \n",
    "df = pd.DataFrame(cf_examples, columns=header)\n",
    "\n",
    "print(\"ALL CF EXAMPLES\")\n",
    "print(\"Num cf examples found: {}/{}\".format(len(df), len(idx_test)))\n",
    "print(\"Average graph distance: {}\".format(np.mean(df[\"loss_graph_dist\"])))\n",
    "\n",
    "df.head()"
   ]
  },
  {
   "cell_type": "code",
   "execution_count": 5,
   "metadata": {
    "collapsed": true
   },
   "outputs": [],
   "source": [
    "# Add num edges to df\n",
    "\n",
    "num_edges = []\n",
    "for i in df.index:\n",
    "    num_edges.append(sum(sum(df[\"sub_adj\"][i]))/2)\n",
    "\n",
    "df[\"num_edges\"] = num_edges"
   ]
  },
  {
   "cell_type": "markdown",
   "metadata": {},
   "source": [
    "### FINAL NUMBERS"
   ]
  },
  {
   "cell_type": "code",
   "execution_count": 6,
   "metadata": {},
   "outputs": [
    {
     "name": "stdout",
     "output_type": "stream",
     "text": [
      "Num cf examples found: 140/140\n",
      "Coverage: 1.0\n",
      "Average graph distance: 503.3071428571429\n",
      "Average prop comp graph perturbed: 0.41788624862499096\n"
     ]
    }
   ],
   "source": [
    "print(\"Num cf examples found: {}/{}\".format(len(df), len(idx_test)))\n",
    "print(\"Coverage: {}\".format(len(df)/len(idx_test)))\n",
    "print(\"Average graph distance: {}\".format(np.mean(df[\"loss_graph_dist\"])))\n",
    "print(\"Average prop comp graph perturbed: {}\".format(np.mean(df[\"loss_graph_dist\"]/df[\"num_edges\"])))"
   ]
  },
  {
   "cell_type": "code",
   "execution_count": 7,
   "metadata": {},
   "outputs": [
    {
     "data": {
      "text/plain": [
       "Text(0, 0.5, 'Prop CF examples')"
      ]
     },
     "execution_count": 7,
     "metadata": {},
     "output_type": "execute_result"
    },
    {
     "data": {
      "image/png": "[encoded data removed]",
      "text/plain": [
       "<Figure size 432x288 with 1 Axes>"
      ]
     },
     "metadata": {
      "needs_background": "light"
     },
     "output_type": "display_data"
    }
   ],
   "source": [
    "\n",
    "font = {'weight' : 'normal',\n",
    "        'size'   : 18}\n",
    "\n",
    "plt.rc('font', **font)\n",
    "\n",
    "# Plot graph loss of cf examples\n",
    "bins = [0, 250, 500, 750, 1000, 1250, 1500, 1750]\n",
    "plt.hist(df[\"loss_graph_dist\"], bins=bins, weights=np.ones(len(df))/len(df))\n",
    "# plt.title(\"BA-SHAPES\")\n",
    "plt.xlabel(\"Explanation Size\")\n",
    "plt.ylim(0, 1.1)\n",
    "plt.ylabel(\"Prop CF examples\")"
   ]
  },
  {
   "cell_type": "code",
   "execution_count": 8,
   "metadata": {},
   "outputs": [
    {
     "name": "stdout",
     "output_type": "stream",
     "text": [
      "Accuracy 0.16995735497819092\n"
     ]
    }
   ],
   "source": [
    "# For accuracy, only look at motif nodes\n",
    "\n",
    "df_motif = df[df[\"y_pred_orig\"] != 0].reset_index(drop=True)\n",
    "\n",
    "accuracy = []\n",
    "\n",
    "# Get original predictions \n",
    "dict_ypred_orig = dict(zip(sorted(np.concatenate((idx_train.numpy(), idx_test.numpy()))), \n",
    "                           y_pred_orig.numpy()))\n",
    "\n",
    "for i in range(len(df_motif)):\n",
    "    node_idx = df_motif[\"node_idx\"][i]\n",
    "    new_idx = df_motif[\"new_idx\"][i]\n",
    "\n",
    "    _, _, _, node_dict = get_neighbourhood(int(node_idx), edge_index, 4, features, labels)\n",
    "\n",
    "    # Confirm idx mapping is correct\n",
    "    if node_dict[node_idx] == df_motif[\"new_idx\"][i]:\n",
    "\n",
    "        cf_adj = df_motif[\"cf_adj\"][i]\n",
    "        sub_adj = df_motif[\"sub_adj\"][i]\n",
    "        perturb = np.abs(cf_adj - sub_adj)\n",
    "        perturb_edges = np.nonzero(perturb)        # Edge indices\n",
    "\n",
    "        nodes_involved = np.unique(np.concatenate((perturb_edges[0], perturb_edges[1]), axis=0))\n",
    "        perturb_nodes = nodes_involved[nodes_involved != new_idx]   # Remove original node\n",
    "\n",
    "        # Retrieve original node idxs for original predictions\n",
    "        perturb_nodes_orig_idx = []\n",
    "        for j in perturb_nodes:\n",
    "            perturb_nodes_orig_idx.append([key for (key, value) in node_dict.items() if value == j])\n",
    "        perturb_nodes_orig_idx = np.array(perturb_nodes_orig_idx).flatten()\n",
    "\n",
    "        # Retrieve original predictions\n",
    "        perturb_nodes_orig_ypred = np.array([dict_ypred_orig[k] for k in perturb_nodes_orig_idx])\n",
    "        nodes_in_motif = perturb_nodes_orig_ypred[perturb_nodes_orig_ypred != 0]\n",
    "        prop_correct = len(nodes_in_motif)/len(perturb_nodes_orig_idx)\n",
    "\n",
    "        accuracy.append([node_idx, new_idx, perturb_nodes_orig_idx, \n",
    "                        perturb_nodes_orig_ypred, nodes_in_motif, prop_correct])\n",
    "\n",
    "df_accuracy = pd.DataFrame(accuracy, columns=[\"node_idx\", \"new_idx\", \"perturb_nodes_orig_idx\", \n",
    "                        \"perturb_nodes_orig_ypred\", \"nodes_in_motif\", \"prop_correct\"])\n",
    "\n",
    "\n",
    "\n",
    "print(\"Accuracy\", np.mean(df_accuracy[\"prop_correct\"]))"
   ]
  }
 ],
 "metadata": {
  "kernelspec": {
   "display_name": "pytorch-geo",
   "language": "python",
   "name": "pytorch-geo"
  },
  "language_info": {
   "codemirror_mode": {
    "name": "ipython",
    "version": 3
   },
   "file_extension": ".py",
   "mimetype": "text/x-python",
   "name": "python",
   "nbconvert_exporter": "python",
   "pygments_lexer": "ipython3",
   "version": "3.7.6"
  }
 },
 "nbformat": 4,
 "nbformat_minor": 4
}
