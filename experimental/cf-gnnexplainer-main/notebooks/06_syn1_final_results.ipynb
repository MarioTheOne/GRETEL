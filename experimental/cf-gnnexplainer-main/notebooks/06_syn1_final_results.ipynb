{
 "cells": [
  {
   "cell_type": "code",
   "execution_count": 1,
   "metadata": {
    "collapsed": true
   },
   "outputs": [],
   "source": [
    "import sys\n",
    "sys.path.append('..')\n",
    "import torch\n",
    "import pandas as pd\n",
    "import numpy as np\n",
    "import pickle\n",
    "import argparse\n",
    "import networkx as nx\n",
    "from collections import Counter\n",
    "from torch_geometric.utils import dense_to_sparse, degree\n",
    "import matplotlib.pyplot as plt\n",
    "from src.gcn import GCNSynthetic\n",
    "from src.utils.utils import normalize_adj, get_neighbourhood"
   ]
  },
  {
   "cell_type": "markdown",
   "metadata": {},
   "source": [
    "### Syn1 dataset (BA houses) , best params so far: SGD + momentum=0.9, epochs=500, LR=0.1, beta=0.5\n",
    "\n",
    "#### Uses correct version of symmetry constraint\n",
    "\n",
    "#### For BA houses, class 0 = BA, class 1 = middle, class 2 = bottom, class 3 = top"
   ]
  },
  {
   "cell_type": "code",
   "execution_count": 2,
   "metadata": {
    "collapsed": true
   },
   "outputs": [],
   "source": [
    "header = [\"node_idx\", \"new_idx\", \"cf_adj\", \"sub_adj\", \"y_pred_orig\", \"y_pred_new\", \"y_pred_new_actual\",\n",
    "            \"label\", \"num_nodes\", \"loss_total\", \"loss_pred\", \"loss_graph_dist\"]"
   ]
  },
  {
   "cell_type": "code",
   "execution_count": 3,
   "metadata": {},
   "outputs": [
    {
     "name": "stdout",
     "output_type": "stream",
     "text": [
      "test set y_true counts: (array([0, 1, 2, 3]), array([62, 29, 32, 17]))\n",
      "test set y_pred_orig counts: (array([0, 1, 2, 3]), array([62, 30, 30, 18]))\n",
      "Whole graph counts: (array([0, 1, 2, 3]), array([300, 160, 160,  80]))\n"
     ]
    }
   ],
   "source": [
    "# For original model\n",
    "dataset = \"syn1\"\n",
    "hidden = 20\n",
    "seed = 42\n",
    "dropout = 0.0\n",
    "\n",
    "# Load original dataset and model\n",
    "\n",
    "with open(\"../data/gnn_explainer/{}.pickle\".format(dataset), \"rb\") as f:\n",
    "\tdata = pickle.load(f)\n",
    "\n",
    "adj = torch.Tensor(data[\"adj\"]).squeeze()       # Does not include self loops\n",
    "features = torch.Tensor(data[\"feat\"]).squeeze()\n",
    "labels = torch.tensor(data[\"labels\"]).squeeze()\n",
    "idx_train = torch.tensor(data[\"train_idx\"])\n",
    "idx_test = torch.tensor(data[\"test_idx\"])\n",
    "edge_index = dense_to_sparse(adj)\n",
    "\n",
    "norm_adj = normalize_adj(adj)\n",
    "\n",
    "model = GCNSynthetic(nfeat=features.shape[1], nhid=hidden, nout=hidden,\n",
    "                     nclass=len(labels.unique()), dropout=dropout)\n",
    "model.load_state_dict(torch.load(\"../models/gcn_3layer_{}.pt\".format(dataset)))\n",
    "model.eval()\n",
    "output = model(features, norm_adj)\n",
    "y_pred_orig = torch.argmax(output, dim=1)\n",
    "print(\"test set y_true counts: {}\".format(np.unique(labels[idx_test].numpy(), return_counts=True)))\n",
    "print(\"test set y_pred_orig counts: {}\".format(np.unique(y_pred_orig[idx_test].numpy(), return_counts=True)))\n",
    "print(\"Whole graph counts: {}\".format(np.unique(labels.numpy(), return_counts=True)))"
   ]
  },
  {
   "cell_type": "code",
   "execution_count": 4,
   "metadata": {},
   "outputs": [
    {
     "name": "stdout",
     "output_type": "stream",
     "text": [
      "Num cf examples found for best nesterov: 85/140\n",
      "Average graph distance for best nesterov: 2.388235294117647\n"
     ]
    }
   ],
   "source": [
    "lr = 0.1\n",
    "beta = 0.5\n",
    "num_epochs = 500\n",
    "mom = 0.9\n",
    "\n",
    "# Load cf examples for test set\n",
    "with open(\"../results/{}/correct_symm/SGD/{}_cf_examples_lr{}_beta{}_mom{}_epochs{}\".format(dataset,\n",
    "                                                                     dataset, lr, beta, mom, num_epochs), \"rb\") as f:\n",
    "    cf_examples = pickle.load(f)\n",
    "    \n",
    "df_prep = []\n",
    "for example in cf_examples:\n",
    "    if example != []:\n",
    "        df_prep.append(example[0])\n",
    "df = pd.DataFrame(df_prep, columns=header)\n",
    "print(\"Num cf examples found for best nesterov: {}/{}\".format(len(df), len(idx_test)))\n",
    "print(\"Average graph distance for best nesterov: {}\".format(np.mean(df[\"loss_graph_dist\"])))"
   ]
  },
  {
   "cell_type": "code",
   "execution_count": 5,
   "metadata": {
    "collapsed": true
   },
   "outputs": [],
   "source": [
    "# Add num edges to df\n",
    "\n",
    "num_edges = []\n",
    "for i in df.index:\n",
    "    num_edges.append(sum(sum(df[\"sub_adj\"][i]))/2)\n",
    "\n",
    "df[\"num_edges\"] = num_edges"
   ]
  },
  {
   "cell_type": "markdown",
   "metadata": {},
   "source": [
    "### FINAL NUMBERS"
   ]
  },
  {
   "cell_type": "code",
   "execution_count": 6,
   "metadata": {},
   "outputs": [
    {
     "name": "stdout",
     "output_type": "stream",
     "text": [
      "Num cf examples found: 85/140\n",
      "Coverage: 0.6071428571428571\n",
      "Average graph distance: 2.388235294117647\n",
      "Average prop comp graph perturbed: 0.002328509637811983\n"
     ]
    }
   ],
   "source": [
    "print(\"Num cf examples found: {}/{}\".format(len(df), len(idx_test)))\n",
    "print(\"Coverage: {}\".format(len(df)/len(idx_test)))\n",
    "print(\"Average graph distance: {}\".format(np.mean(df[\"loss_graph_dist\"])))\n",
    "print(\"Average prop comp graph perturbed: {}\".format(np.mean(df[\"loss_graph_dist\"]/df[\"num_edges\"])))"
   ]
  },
  {
   "cell_type": "code",
   "execution_count": 7,
   "metadata": {},
   "outputs": [
    {
     "data": {
      "text/plain": [
       "Text(0, 0.5, 'Prop CF examples')"
      ]
     },
     "execution_count": 7,
     "metadata": {},
     "output_type": "execute_result"
    },
    {
     "data": {
      "image/png": "[encoded data removed]",
      "text/plain": [
       "<Figure size 432x288 with 1 Axes>"
      ]
     },
     "metadata": {
      "needs_background": "light"
     },
     "output_type": "display_data"
    }
   ],
   "source": [
    "\n",
    "font = {'weight' : 'normal',\n",
    "        'size'   : 18}\n",
    "\n",
    "plt.rc('font', **font)\n",
    "\n",
    "# Plot graph loss of cf examples\n",
    "bins = [i+0.5 for i in range(11)]\n",
    "# bins=[0, 20, 40, 60]\n",
    "\n",
    "bins = [0, 10, 20, 30, 40, 50, 60, 70]\n",
    "plt.hist(df[\"loss_graph_dist\"], bins=bins, weights=np.ones(len(df))/len(df))\n",
    "# plt.title(\"BA-SHAPES\")\n",
    "plt.xlabel(\"Explanation Size\")\n",
    "plt.xticks([0, 10, 20, 30, 40, 50, 60, 70])\n",
    "plt.ylim(0, 1.1)\n",
    "plt.ylabel(\"Prop CF examples\")\n"
   ]
  },
  {
   "cell_type": "code",
   "execution_count": 8,
   "metadata": {},
   "outputs": [
    {
     "name": "stdout",
     "output_type": "stream",
     "text": [
      "Accuracy 0.9591836734693877\n"
     ]
    }
   ],
   "source": [
    "# For accuracy, only look at motif nodes\n",
    "\n",
    "df_motif = df[df[\"y_pred_orig\"] != 0].reset_index(drop=True)\n",
    "\n",
    "accuracy = []\n",
    "\n",
    "# Get original predictions \n",
    "dict_ypred_orig = dict(zip(sorted(np.concatenate((idx_train.numpy(), idx_test.numpy()))), \n",
    "                           y_pred_orig.numpy()))\n",
    "\n",
    "for i in range(len(df_motif)):\n",
    "    node_idx = df_motif[\"node_idx\"][i]\n",
    "    new_idx = df_motif[\"new_idx\"][i]\n",
    "\n",
    "    _, _, _, node_dict = get_neighbourhood(int(node_idx), edge_index, 4, features, labels)\n",
    "\n",
    "    # Confirm idx mapping is correct\n",
    "    if node_dict[node_idx] == df_motif[\"new_idx\"][i]:\n",
    "\n",
    "        cf_adj = df_motif[\"cf_adj\"][i]\n",
    "        sub_adj = df_motif[\"sub_adj\"][i]\n",
    "        perturb = np.abs(cf_adj - sub_adj)\n",
    "        perturb_edges = np.nonzero(perturb)        # Edge indices\n",
    "\n",
    "        nodes_involved = np.unique(np.concatenate((perturb_edges[0], perturb_edges[1]), axis=0))\n",
    "        perturb_nodes = nodes_involved[nodes_involved != new_idx]   # Remove original node\n",
    "\n",
    "        # Retrieve original node idxs for original predictions\n",
    "        perturb_nodes_orig_idx = []\n",
    "        for j in perturb_nodes:\n",
    "            perturb_nodes_orig_idx.append([key for (key, value) in node_dict.items() if value == j])\n",
    "        perturb_nodes_orig_idx = np.array(perturb_nodes_orig_idx).flatten()\n",
    "\n",
    "        # Retrieve original predictions\n",
    "        perturb_nodes_orig_ypred = np.array([dict_ypred_orig[k] for k in perturb_nodes_orig_idx])\n",
    "        nodes_in_motif = perturb_nodes_orig_ypred[perturb_nodes_orig_ypred != 0]\n",
    "        prop_correct = len(nodes_in_motif)/len(perturb_nodes_orig_idx)\n",
    "\n",
    "        accuracy.append([node_idx, new_idx, perturb_nodes_orig_idx, \n",
    "                        perturb_nodes_orig_ypred, nodes_in_motif, prop_correct])\n",
    "\n",
    "df_accuracy = pd.DataFrame(accuracy, columns=[\"node_idx\", \"new_idx\", \"perturb_nodes_orig_idx\", \n",
    "                        \"perturb_nodes_orig_ypred\", \"nodes_in_motif\", \"prop_correct\"])\n",
    "\n",
    "\n",
    "\n",
    "print(\"Accuracy\", np.mean(df_accuracy[\"prop_correct\"]))"
   ]
  },
  {
   "cell_type": "code",
   "execution_count": null,
   "metadata": {
    "collapsed": true
   },
   "outputs": [],
   "source": []
  },
  {
   "cell_type": "code",
   "execution_count": null,
   "metadata": {
    "collapsed": true
   },
   "outputs": [],
   "source": []
  },
  {
   "cell_type": "code",
   "execution_count": null,
   "metadata": {
    "collapsed": true
   },
   "outputs": [],
   "source": []
  },
  {
   "cell_type": "code",
   "execution_count": null,
   "metadata": {
    "collapsed": true
   },
   "outputs": [],
   "source": []
  },
  {
   "cell_type": "code",
   "execution_count": null,
   "metadata": {
    "collapsed": true
   },
   "outputs": [],
   "source": []
  },
  {
   "cell_type": "markdown",
   "metadata": {
    "collapsed": true
   },
   "source": [
    "### Dataset statistics"
   ]
  },
  {
   "cell_type": "code",
   "execution_count": 9,
   "metadata": {},
   "outputs": [
    {
     "name": "stdout",
     "output_type": "stream",
     "text": [
      "Avg node degree:  5.8714285\n",
      "Avg num nodes in computational graph:  304.4\n",
      "Avg num edges in computational graph:  1106.2442857142858\n"
     ]
    }
   ],
   "source": [
    "# Get full dataset statistics\n",
    "\n",
    "full_dataset = pd.DataFrame()\n",
    "\n",
    "idx_concat = torch.cat((idx_train, idx_test), 0)\n",
    "full_dataset[\"node_idx\"] = idx_concat\n",
    "full_dataset[\"y_pred_orig\"] = y_pred_orig[idx_concat]\n",
    "full_dataset[\"label\"] = labels[idx_concat]\n",
    "full_dataset[\"node_degree\"] = torch.sum(adj[idx_concat], dim=1).numpy()\n",
    "\n",
    "\n",
    "num_nodes = []\n",
    "sub_adj = []\n",
    "sub_labels = []\n",
    "for i in full_dataset[\"node_idx\"]:\n",
    "    sub_adj0, _, sub_labels0, node_dict = get_neighbourhood(i,edge_index,4,\n",
    "                                         features,labels)\n",
    "\n",
    "    num_nodes.append(sub_adj0.shape[0])\n",
    "    \n",
    "    # Need these for plotting later\n",
    "    sub_adj.append(sub_adj0.numpy())\n",
    "#     sub_labels.append(sub_labels0.numpy())\n",
    "    \n",
    "full_dataset[\"num_nodes\"] = num_nodes\n",
    "full_dataset[\"sub_adj\"] = sub_adj\n",
    "\n",
    "\n",
    "# Add num edges in computational graph\n",
    "num_edges = []\n",
    "for i in full_dataset.index:\n",
    "    num_edges.append(sum(sum(full_dataset[\"sub_adj\"][i]))/2)\n",
    "\n",
    "full_dataset[\"num_edges\"] = num_edges\n",
    "\n",
    "full_dataset.head()\n",
    "\n",
    "print(\"Avg node degree: \", np.mean(full_dataset[\"node_degree\"]))\n",
    "print(\"Avg num nodes in computational graph: \", np.mean(full_dataset[\"num_nodes\"]))\n",
    "print(\"Avg num edges in computational graph: \", np.mean(full_dataset[\"num_edges\"]))"
   ]
  }
 ],
 "metadata": {
  "kernelspec": {
   "display_name": "pytorch-geo",
   "language": "python",
   "name": "pytorch-geo"
  },
  "language_info": {
   "codemirror_mode": {
    "name": "ipython",
    "version": 3
   },
   "file_extension": ".py",
   "mimetype": "text/x-python",
   "name": "python",
   "nbconvert_exporter": "python",
   "pygments_lexer": "ipython3",
   "version": "3.7.6"
  }
 },
 "nbformat": 4,
 "nbformat_minor": 4
}
